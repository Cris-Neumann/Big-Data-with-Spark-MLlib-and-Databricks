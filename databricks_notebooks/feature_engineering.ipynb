{
 "cells": [
  {
   "cell_type": "markdown",
   "metadata": {
    "application/vnd.databricks.v1+cell": {
     "cellMetadata": {},
     "inputWidgets": {},
     "nuid": "8cb4ceb6-20bc-48db-a45e-9a940ffa26d6",
     "showTitle": false,
     "title": ""
    }
   },
   "source": [
    "### Listar el contenido del directorio dbfs:/tmp/wiki_data/"
   ]
  },
  {
   "cell_type": "code",
   "execution_count": 0,
   "metadata": {
    "application/vnd.databricks.v1+cell": {
     "cellMetadata": {
      "byteLimit": 2048000,
      "rowLimit": 10000
     },
     "inputWidgets": {},
     "nuid": "51585e95-b958-41f2-bbed-4693d31c3941",
     "showTitle": false,
     "title": ""
    }
   },
   "outputs": [
    {
     "output_type": "stream",
     "name": "stdout",
     "output_type": "stream",
     "text": [
      "dbfs:/tmp/wiki_data/test.parquet\ndbfs:/tmp/wiki_data/train.parquet\ndbfs:/tmp/wiki_data/train_labels.csv\n"
     ]
    }
   ],
   "source": [
    "files = dbutils.fs.ls(\"dbfs:/tmp/wiki_data/\")\n",
    "for file in files:\n",
    "    print(file.path)"
   ]
  },
  {
   "cell_type": "markdown",
   "metadata": {
    "application/vnd.databricks.v1+cell": {
     "cellMetadata": {},
     "inputWidgets": {},
     "nuid": "6253195f-452f-418c-8b45-61a97350bd44",
     "showTitle": false,
     "title": ""
    }
   },
   "source": [
    "### Cargar los datos de entrenamiento, de prueba y las etiquetas"
   ]
  },
  {
   "cell_type": "code",
   "execution_count": 0,
   "metadata": {
    "application/vnd.databricks.v1+cell": {
     "cellMetadata": {
      "byteLimit": 2048000,
      "rowLimit": 10000
     },
     "inputWidgets": {},
     "nuid": "eb656925-2199-4741-a432-b89093f9b54c",
     "showTitle": false,
     "title": ""
    }
   },
   "outputs": [],
   "source": [
    "train_df = spark.read.format('parquet').options(header=True,inferSchema=True).load(\"dbfs:/tmp/wiki_data/train.parquet\")\n",
    "test_df = spark.read.format('parquet').options(header=True,inferSchema=True).load(\"dbfs:/tmp/wiki_data/test.parquet\")\n",
    "train_labels = spark.read.csv(\"dbfs:/tmp/wiki_data/train_labels.csv\", header=True, inferSchema=True, sep=\";\")"
   ]
  },
  {
   "cell_type": "markdown",
   "metadata": {
    "application/vnd.databricks.v1+cell": {
     "cellMetadata": {},
     "inputWidgets": {},
     "nuid": "a826755c-f0f9-4d28-ab1b-e6da75768675",
     "showTitle": false,
     "title": ""
    }
   },
   "source": [
    "### Análisis exploratorio de datos (EDA)"
   ]
  },
  {
   "cell_type": "code",
   "execution_count": 0,
   "metadata": {
    "application/vnd.databricks.v1+cell": {
     "cellMetadata": {
      "byteLimit": 2048000,
      "rowLimit": 10000
     },
     "inputWidgets": {},
     "nuid": "20170e7d-5402-4eb0-8a1c-62e480abb36b",
     "showTitle": false,
     "title": ""
    }
   },
   "outputs": [
    {
     "output_type": "stream",
     "name": "stdout",
     "output_type": "stream",
     "text": [
      "(5531451, 190)\n(11363762, 190)\n(458913, 2)\n"
     ]
    }
   ],
   "source": [
    "# Obtener la cantidad de filas y columnas de los datasets\n",
    "print((train_df.count(), len(train_df.columns)))\n",
    "print((test_df.count(), len(test_df.columns)))\n",
    "print((train_labels.count(), len(train_labels.columns)))"
   ]
  },
  {
   "cell_type": "code",
   "execution_count": 0,
   "metadata": {
    "application/vnd.databricks.v1+cell": {
     "cellMetadata": {
      "byteLimit": 2048000,
      "rowLimit": 10000
     },
     "inputWidgets": {},
     "nuid": "43be46dc-16a2-4a50-be0b-8d8ecd2b6278",
     "showTitle": false,
     "title": ""
    }
   },
   "outputs": [
    {
     "output_type": "stream",
     "name": "stdout",
     "output_type": "stream",
     "text": [
      "+--------------------+------+\n|         customer_ID|target|\n+--------------------+------+\n|0000099d6bd597052...|     0|\n|00000fd6641609c6e...|     0|\n|00001b22f846c82c5...|     0|\n+--------------------+------+\nonly showing top 3 rows\n\n"
     ]
    }
   ],
   "source": [
    "# Observar primeros registros del dataset con las etiquetas\n",
    "train_labels.show(3)"
   ]
  },
  {
   "cell_type": "code",
   "execution_count": 0,
   "metadata": {
    "application/vnd.databricks.v1+cell": {
     "cellMetadata": {
      "byteLimit": 2048000,
      "rowLimit": 10000
     },
     "inputWidgets": {},
     "nuid": "70f446cf-512e-457e-9956-96303e33e06f",
     "showTitle": false,
     "title": ""
    }
   },
   "outputs": [
    {
     "output_type": "display_data",
     "data": {
      "text/html": [
       "<style scoped>\n",
       "  .table-result-container {\n",
       "    max-height: 300px;\n",
       "    overflow: auto;\n",
       "  }\n",
       "  table, th, td {\n",
       "    border: 1px solid black;\n",
       "    border-collapse: collapse;\n",
       "  }\n",
       "  th, td {\n",
       "    padding: 5px;\n",
       "  }\n",
       "  th {\n",
       "    text-align: left;\n",
       "  }\n",
       "</style><div class='table-result-container'><table class='table-result'><thead style='background-color: white'><tr><th>customer_ID</th><th>S_2</th><th>P_2</th><th>D_39</th><th>B_1</th><th>B_2</th><th>R_1</th><th>S_3</th><th>D_41</th><th>B_3</th><th>D_42</th><th>D_43</th><th>D_44</th><th>B_4</th><th>D_45</th><th>B_5</th><th>R_2</th><th>D_46</th><th>D_47</th><th>D_48</th><th>D_49</th><th>B_6</th><th>B_7</th><th>B_8</th><th>D_50</th><th>D_51</th><th>B_9</th><th>R_3</th><th>D_52</th><th>P_3</th><th>B_10</th><th>D_53</th><th>S_5</th><th>B_11</th><th>S_6</th><th>D_54</th><th>R_4</th><th>S_7</th><th>B_12</th><th>S_8</th><th>D_55</th><th>D_56</th><th>B_13</th><th>R_5</th><th>D_58</th><th>S_9</th><th>B_14</th><th>D_59</th><th>D_60</th><th>D_61</th><th>B_15</th><th>S_11</th><th>D_62</th><th>D_63</th><th>D_64</th><th>D_65</th><th>B_16</th><th>B_17</th><th>B_18</th><th>B_19</th><th>D_66</th><th>B_20</th><th>D_68</th><th>S_12</th><th>R_6</th><th>S_13</th><th>B_21</th><th>D_69</th><th>B_22</th><th>D_70</th><th>D_71</th><th>D_72</th><th>S_15</th><th>B_23</th><th>D_73</th><th>P_4</th><th>D_74</th><th>D_75</th><th>D_76</th><th>B_24</th><th>R_7</th><th>D_77</th><th>B_25</th><th>B_26</th><th>D_78</th><th>D_79</th><th>R_8</th><th>R_9</th><th>S_16</th><th>D_80</th><th>R_10</th><th>R_11</th><th>B_27</th><th>D_81</th><th>D_82</th><th>S_17</th><th>R_12</th><th>B_28</th><th>R_13</th><th>D_83</th><th>R_14</th><th>R_15</th><th>D_84</th><th>R_16</th><th>B_29</th><th>B_30</th><th>S_18</th><th>D_86</th><th>D_87</th><th>R_17</th><th>R_18</th><th>D_88</th><th>B_31</th><th>S_19</th><th>R_19</th><th>B_32</th><th>S_20</th><th>R_20</th><th>R_21</th><th>B_33</th><th>D_89</th><th>R_22</th><th>R_23</th><th>D_91</th><th>D_92</th><th>D_93</th><th>D_94</th><th>R_24</th><th>R_25</th><th>D_96</th><th>S_22</th><th>S_23</th><th>S_24</th><th>S_25</th><th>S_26</th><th>D_102</th><th>D_103</th><th>D_104</th><th>D_105</th><th>D_106</th><th>D_107</th><th>B_36</th><th>B_37</th><th>R_26</th><th>R_27</th><th>B_38</th><th>D_108</th><th>D_109</th><th>D_110</th><th>D_111</th><th>B_39</th><th>D_112</th><th>B_40</th><th>S_27</th><th>D_113</th><th>D_114</th><th>D_115</th><th>D_116</th><th>D_117</th><th>D_118</th><th>D_119</th><th>D_120</th><th>D_121</th><th>D_122</th><th>D_123</th><th>D_124</th><th>D_125</th><th>D_126</th><th>D_127</th><th>D_128</th><th>D_129</th><th>B_41</th><th>B_42</th><th>D_130</th><th>D_131</th><th>D_132</th><th>D_133</th><th>R_28</th><th>D_134</th><th>D_135</th><th>D_136</th><th>D_137</th><th>D_138</th><th>D_139</th><th>D_140</th><th>D_141</th><th>D_142</th><th>D_143</th><th>D_144</th><th>D_145</th></tr></thead><tbody><tr><td>0000099d6bd597052cdcda90ffabf56573fe9d7c79be5fbac11a8ed792feb62a</td><td>2017-03-09</td><td>0.9384687</td><td>0</td><td>0.008724451</td><td>1.0068382</td><td>0.009227722</td><td>0.12403516</td><td>0.0</td><td>0.0047092405</td><td>null</td><td>null</td><td>0</td><td>6</td><td>0.7089063</td><td>0.17060024</td><td>0</td><td>0.35858658</td><td>0.52535105</td><td>0.25573608</td><td>-1</td><td>0.063902214</td><td>0.05941573</td><td>0.0</td><td>0.14869796</td><td>4</td><td>0.008206739</td><td>0</td><td>0.20733388</td><td>0.7364627</td><td>0.09621881</td><td>null</td><td>0.023381121</td><td>0.0027680616</td><td>0</td><td>1.0</td><td>0</td><td>0.16134483</td><td>0.14826606</td><td>2896</td><td>0.35459602</td><td>0.15202524</td><td>0.11807513</td><td>0</td><td>0.15861195</td><td>0.06572835</td><td>0.018384619</td><td>8</td><td>0.19961701</td><td>0.30823326</td><td>0.016360575</td><td>15</td><td>0.091071025</td><td>0</td><td>0</td><td>0</td><td>0</td><td>null</td><td>0.65298444</td><td>0</td><td>-1</td><td>0</td><td>6</td><td>0.27200758</td><td>0.008362539</td><td>524</td><td>0.0026440262</td><td>0.009013299</td><td>0</td><td>0</td><td>0.119403206</td><td>0</td><td>4</td><td>0.05088185</td><td>null</td><td>0.0</td><td>1</td><td>1</td><td>null</td><td>0.0043267864</td><td>0.0</td><td>null</td><td>0.0077286493</td><td>2.7182797E-4</td><td>0</td><td>0</td><td>0</td><td>-1</td><td>0.0022709374</td><td>0</td><td>0</td><td>0</td><td>0.0023102975</td><td>0</td><td>1</td><td>0.008033023</td><td>1.0</td><td>0.08468261</td><td>0</td><td>0</td><td>0.0</td><td>0</td><td>0</td><td>0</td><td>null</td><td>0</td><td>0</td><td>0</td><td>-1</td><td>0</td><td>0</td><td>null</td><td>1</td><td>0.0025372095</td><td>0</td><td>0</td><td>0</td><td>0</td><td>0</td><td>1</td><td>0</td><td>0</td><td>0</td><td>3</td><td>1</td><td>0</td><td>0</td><td>0</td><td>0</td><td>0</td><td>0.8940897</td><td>0.13556081</td><td>0.91119146</td><td>0.9745386</td><td>0.0012434034</td><td>0.7666882</td><td>1</td><td>1.0045869</td><td>0.89373416</td><td>-1</td><td>2</td><td>0.009968482</td><td>0.0045716083</td><td>-1</td><td>1.0089488</td><td>2</td><td>-1</td><td>0</td><td>null</td><td>-1</td><td>null</td><td>1.0</td><td>0.21006043</td><td>0.6769222</td><td>0</td><td>1</td><td>0.23825021</td><td>0</td><td>5</td><td>0.23211995</td><td>0.23626566</td><td>0</td><td>0.70228016</td><td>3</td><td>0</td><td>16</td><td>0</td><td>2</td><td>1</td><td>1.0078186</td><td>1</td><td>0</td><td>null</td><td>0.0</td><td>0.0</td><td>null</td><td>0.0043450594</td><td>0</td><td>null</td><td>-1</td><td>-1</td><td>-1</td><td>-1</td><td>0</td><td>0</td><td>0.0</td><td>null</td><td>0</td><td>6.0983706E-4</td><td>0</td></tr><tr><td>0000099d6bd597052cdcda90ffabf56573fe9d7c79be5fbac11a8ed792feb62a</td><td>2017-04-07</td><td>0.9366646</td><td>0</td><td>0.0049233525</td><td>1.0006531</td><td>0.006151309</td><td>0.12674998</td><td>0.0</td><td>0.0027135753</td><td>null</td><td>null</td><td>0</td><td>5</td><td>0.7127947</td><td>0.113238625</td><td>0</td><td>0.35362956</td><td>0.5213113</td><td>0.22332887</td><td>-1</td><td>0.06526106</td><td>0.057743765</td><td>0.0</td><td>0.14972253</td><td>4</td><td>0.00837324</td><td>0</td><td>0.20277765</td><td>0.7208864</td><td>0.09980397</td><td>null</td><td>0.030598553</td><td>0.002749363</td><td>0</td><td>1.0</td><td>0</td><td>0.14095053</td><td>0.1435299</td><td>2896</td><td>0.32675698</td><td>0.1562009</td><td>0.11873748</td><td>0</td><td>0.1484595</td><td>0.09393538</td><td>0.013034827</td><td>8</td><td>0.15138699</td><td>0.26502597</td><td>0.017687928</td><td>15</td><td>0.08680481</td><td>0</td><td>0</td><td>0</td><td>0</td><td>null</td><td>0.6470931</td><td>0</td><td>-1</td><td>0</td><td>6</td><td>0.18896966</td><td>0.0040295734</td><td>524</td><td>0.004193118</td><td>0.007842384</td><td>0</td><td>0</td><td>0.14061072</td><td>0</td><td>4</td><td>0.040468886</td><td>null</td><td>0.0</td><td>1</td><td>1</td><td>null</td><td>0.004202757</td><td>0.0</td><td>null</td><td>0.0018641321</td><td>9.788894E-4</td><td>0</td><td>0</td><td>0</td><td>-1</td><td>0.00981023</td><td>0</td><td>0</td><td>0</td><td>0.0013267265</td><td>0</td><td>1</td><td>7.604418E-4</td><td>1.0</td><td>0.08184324</td><td>0</td><td>0</td><td>0.0</td><td>0</td><td>0</td><td>0</td><td>null</td><td>0</td><td>0</td><td>0</td><td>-1</td><td>0</td><td>0</td><td>null</td><td>1</td><td>0.008427195</td><td>0</td><td>0</td><td>0</td><td>0</td><td>0</td><td>1</td><td>0</td><td>0</td><td>0</td><td>3</td><td>1</td><td>0</td><td>0</td><td>0</td><td>0</td><td>0</td><td>0.90213543</td><td>0.13633254</td><td>0.9198764</td><td>0.9756245</td><td>0.004561384</td><td>0.7860069</td><td>1</td><td>1.0041181</td><td>0.9068411</td><td>-1</td><td>2</td><td>0.0039209975</td><td>0.0046538454</td><td>-1</td><td>1.0032054</td><td>2</td><td>-1</td><td>0</td><td>null</td><td>-1</td><td>null</td><td>1.0</td><td>0.18409272</td><td>0.82228094</td><td>0</td><td>1</td><td>0.24721733</td><td>0</td><td>5</td><td>0.24353164</td><td>0.24188478</td><td>0</td><td>0.70701677</td><td>3</td><td>0</td><td>16</td><td>0</td><td>2</td><td>1</td><td>1.004333</td><td>1</td><td>0</td><td>null</td><td>0.0</td><td>0.0</td><td>null</td><td>0.007494781</td><td>0</td><td>null</td><td>-1</td><td>-1</td><td>-1</td><td>-1</td><td>0</td><td>0</td><td>0.0</td><td>null</td><td>0</td><td>0.005492045</td><td>0</td></tr><tr><td>0000099d6bd597052cdcda90ffabf56573fe9d7c79be5fbac11a8ed792feb62a</td><td>2017-05-28</td><td>0.9541803</td><td>3</td><td>0.021654664</td><td>1.0096722</td><td>0.006815219</td><td>0.123976685</td><td>0.0</td><td>0.00942266</td><td>null</td><td>null</td><td>0</td><td>5</td><td>0.7208836</td><td>0.060492333</td><td>0</td><td>0.33465013</td><td>0.5245677</td><td>0.18942398</td><td>-1</td><td>0.06698193</td><td>0.056646686</td><td>0.0</td><td>0.15195535</td><td>4</td><td>0.00935453</td><td>0</td><td>0.20662901</td><td>0.738044</td><td>0.13407318</td><td>null</td><td>0.048366975</td><td>0.0100772735</td><td>0</td><td>1.0</td><td>0</td><td>0.11222949</td><td>0.13701394</td><td>3166</td><td>0.304124</td><td>0.15379456</td><td>0.11453429</td><td>0</td><td>0.1395039</td><td>0.08475696</td><td>0.056653388</td><td>8</td><td>0.30588323</td><td>0.21216542</td><td>0.06395489</td><td>15</td><td>0.09400143</td><td>0</td><td>0</td><td>0</td><td>0</td><td>null</td><td>0.6458195</td><td>0</td><td>-1</td><td>0</td><td>6</td><td>0.49530846</td><td>0.0068381545</td><td>702</td><td>0.0013365584</td><td>0.0060252715</td><td>0</td><td>0</td><td>0.07586799</td><td>0</td><td>4</td><td>0.047454197</td><td>null</td><td>0.0</td><td>1</td><td>1</td><td>null</td><td>0.0017821196</td><td>0.0</td><td>null</td><td>0.005418535</td><td>0.006148903</td><td>0</td><td>0</td><td>0</td><td>-1</td><td>0.009362285</td><td>0</td><td>0</td><td>0</td><td>0.007623746</td><td>0</td><td>1</td><td>0.0040561385</td><td>1.0</td><td>0.08195372</td><td>0</td><td>0</td><td>0.0</td><td>0</td><td>0</td><td>0</td><td>null</td><td>0</td><td>0</td><td>0</td><td>-1</td><td>0</td><td>0</td><td>null</td><td>1</td><td>0.007327179</td><td>0</td><td>0</td><td>0</td><td>0</td><td>0</td><td>1</td><td>0</td><td>0</td><td>0</td><td>3</td><td>1</td><td>0</td><td>0</td><td>0</td><td>0</td><td>0</td><td>0.93965375</td><td>0.13493831</td><td>0.95869917</td><td>0.9740674</td><td>0.011735527</td><td>0.80684006</td><td>1</td><td>1.009285</td><td>0.92871934</td><td>-1</td><td>2</td><td>0.0012639841</td><td>0.01917604</td><td>-1</td><td>1.0007545</td><td>2</td><td>-1</td><td>0</td><td>null</td><td>-1</td><td>null</td><td>1.0</td><td>0.15483665</td><td>0.85349786</td><td>0</td><td>1</td><td>0.23986687</td><td>0</td><td>5</td><td>0.24076796</td><td>0.23970996</td><td>0</td><td>0.7048432</td><td>3</td><td>0</td><td>16</td><td>0</td><td>2</td><td>1</td><td>1.0078311</td><td>1</td><td>0</td><td>null</td><td>0.0</td><td>0.0</td><td>null</td><td>0.009226633</td><td>0</td><td>null</td><td>-1</td><td>-1</td><td>-1</td><td>-1</td><td>0</td><td>0</td><td>0.0</td><td>null</td><td>0</td><td>0.0069858017</td><td>0</td></tr></tbody></table></div>"
      ]
     },
     "metadata": {
      "application/vnd.databricks.v1+output": {
       "addedWidgets": {},
       "aggData": [],
       "aggError": "",
       "aggOverflow": false,
       "aggSchema": [],
       "aggSeriesLimitReached": false,
       "aggType": "",
       "arguments": {},
       "columnCustomDisplayInfos": {},
       "data": [
        [
         "0000099d6bd597052cdcda90ffabf56573fe9d7c79be5fbac11a8ed792feb62a",
         "2017-03-09",
         0.9384687,
         0,
         0.008724451,
         1.0068382,
         0.009227722,
         0.12403516,
         0.0,
         0.0047092405,
         null,
         null,
         0,
         6,
         0.7089063,
         0.17060024,
         0,
         0.35858658,
         0.52535105,
         0.25573608,
         -1,
         0.063902214,
         0.05941573,
         0.0,
         0.14869796,
         4,
         0.008206739,
         0,
         0.20733388,
         0.7364627,
         0.09621881,
         null,
         0.023381121,
         0.0027680616,
         0,
         1.0,
         0,
         0.16134483,
         0.14826606,
         2896,
         0.35459602,
         0.15202524,
         0.11807513,
         0,
         0.15861195,
         0.06572835,
         0.018384619,
         8,
         0.19961701,
         0.30823326,
         0.016360575,
         15,
         0.091071025,
         0,
         0,
         0,
         0,
         null,
         0.65298444,
         0,
         -1,
         0,
         6,
         0.27200758,
         0.008362539,
         524,
         0.0026440262,
         0.009013299,
         0,
         0,
         0.119403206,
         0,
         4,
         0.05088185,
         null,
         0.0,
         1,
         1,
         null,
         0.0043267864,
         0.0,
         null,
         0.0077286493,
         2.7182797E-4,
         0,
         0,
         0,
         -1,
         0.0022709374,
         0,
         0,
         0,
         0.0023102975,
         0,
         1,
         0.008033023,
         1.0,
         0.08468261,
         0,
         0,
         0.0,
         0,
         0,
         0,
         null,
         0,
         0,
         0,
         -1,
         0,
         0,
         null,
         1,
         0.0025372095,
         0,
         0,
         0,
         0,
         0,
         1,
         0,
         0,
         0,
         3,
         1,
         0,
         0,
         0,
         0,
         0,
         0.8940897,
         0.13556081,
         0.91119146,
         0.9745386,
         0.0012434034,
         0.7666882,
         1,
         1.0045869,
         0.89373416,
         -1,
         2,
         0.009968482,
         0.0045716083,
         -1,
         1.0089488,
         2,
         -1,
         0,
         null,
         -1,
         null,
         1.0,
         0.21006043,
         0.6769222,
         0,
         1,
         0.23825021,
         0,
         5,
         0.23211995,
         0.23626566,
         0,
         0.70228016,
         3,
         0,
         16,
         0,
         2,
         1,
         1.0078186,
         1,
         0,
         null,
         0.0,
         0.0,
         null,
         0.0043450594,
         0,
         null,
         -1,
         -1,
         -1,
         -1,
         0,
         0,
         0.0,
         null,
         0,
         6.0983706E-4,
         0
        ],
        [
         "0000099d6bd597052cdcda90ffabf56573fe9d7c79be5fbac11a8ed792feb62a",
         "2017-04-07",
         0.9366646,
         0,
         0.0049233525,
         1.0006531,
         0.006151309,
         0.12674998,
         0.0,
         0.0027135753,
         null,
         null,
         0,
         5,
         0.7127947,
         0.113238625,
         0,
         0.35362956,
         0.5213113,
         0.22332887,
         -1,
         0.06526106,
         0.057743765,
         0.0,
         0.14972253,
         4,
         0.00837324,
         0,
         0.20277765,
         0.7208864,
         0.09980397,
         null,
         0.030598553,
         0.002749363,
         0,
         1.0,
         0,
         0.14095053,
         0.1435299,
         2896,
         0.32675698,
         0.1562009,
         0.11873748,
         0,
         0.1484595,
         0.09393538,
         0.013034827,
         8,
         0.15138699,
         0.26502597,
         0.017687928,
         15,
         0.08680481,
         0,
         0,
         0,
         0,
         null,
         0.6470931,
         0,
         -1,
         0,
         6,
         0.18896966,
         0.0040295734,
         524,
         0.004193118,
         0.007842384,
         0,
         0,
         0.14061072,
         0,
         4,
         0.040468886,
         null,
         0.0,
         1,
         1,
         null,
         0.004202757,
         0.0,
         null,
         0.0018641321,
         9.788894E-4,
         0,
         0,
         0,
         -1,
         0.00981023,
         0,
         0,
         0,
         0.0013267265,
         0,
         1,
         7.604418E-4,
         1.0,
         0.08184324,
         0,
         0,
         0.0,
         0,
         0,
         0,
         null,
         0,
         0,
         0,
         -1,
         0,
         0,
         null,
         1,
         0.008427195,
         0,
         0,
         0,
         0,
         0,
         1,
         0,
         0,
         0,
         3,
         1,
         0,
         0,
         0,
         0,
         0,
         0.90213543,
         0.13633254,
         0.9198764,
         0.9756245,
         0.004561384,
         0.7860069,
         1,
         1.0041181,
         0.9068411,
         -1,
         2,
         0.0039209975,
         0.0046538454,
         -1,
         1.0032054,
         2,
         -1,
         0,
         null,
         -1,
         null,
         1.0,
         0.18409272,
         0.82228094,
         0,
         1,
         0.24721733,
         0,
         5,
         0.24353164,
         0.24188478,
         0,
         0.70701677,
         3,
         0,
         16,
         0,
         2,
         1,
         1.004333,
         1,
         0,
         null,
         0.0,
         0.0,
         null,
         0.007494781,
         0,
         null,
         -1,
         -1,
         -1,
         -1,
         0,
         0,
         0.0,
         null,
         0,
         0.005492045,
         0
        ],
        [
         "0000099d6bd597052cdcda90ffabf56573fe9d7c79be5fbac11a8ed792feb62a",
         "2017-05-28",
         0.9541803,
         3,
         0.021654664,
         1.0096722,
         0.006815219,
         0.123976685,
         0.0,
         0.00942266,
         null,
         null,
         0,
         5,
         0.7208836,
         0.060492333,
         0,
         0.33465013,
         0.5245677,
         0.18942398,
         -1,
         0.06698193,
         0.056646686,
         0.0,
         0.15195535,
         4,
         0.00935453,
         0,
         0.20662901,
         0.738044,
         0.13407318,
         null,
         0.048366975,
         0.0100772735,
         0,
         1.0,
         0,
         0.11222949,
         0.13701394,
         3166,
         0.304124,
         0.15379456,
         0.11453429,
         0,
         0.1395039,
         0.08475696,
         0.056653388,
         8,
         0.30588323,
         0.21216542,
         0.06395489,
         15,
         0.09400143,
         0,
         0,
         0,
         0,
         null,
         0.6458195,
         0,
         -1,
         0,
         6,
         0.49530846,
         0.0068381545,
         702,
         0.0013365584,
         0.0060252715,
         0,
         0,
         0.07586799,
         0,
         4,
         0.047454197,
         null,
         0.0,
         1,
         1,
         null,
         0.0017821196,
         0.0,
         null,
         0.005418535,
         0.006148903,
         0,
         0,
         0,
         -1,
         0.009362285,
         0,
         0,
         0,
         0.007623746,
         0,
         1,
         0.0040561385,
         1.0,
         0.08195372,
         0,
         0,
         0.0,
         0,
         0,
         0,
         null,
         0,
         0,
         0,
         -1,
         0,
         0,
         null,
         1,
         0.007327179,
         0,
         0,
         0,
         0,
         0,
         1,
         0,
         0,
         0,
         3,
         1,
         0,
         0,
         0,
         0,
         0,
         0.93965375,
         0.13493831,
         0.95869917,
         0.9740674,
         0.011735527,
         0.80684006,
         1,
         1.009285,
         0.92871934,
         -1,
         2,
         0.0012639841,
         0.01917604,
         -1,
         1.0007545,
         2,
         -1,
         0,
         null,
         -1,
         null,
         1.0,
         0.15483665,
         0.85349786,
         0,
         1,
         0.23986687,
         0,
         5,
         0.24076796,
         0.23970996,
         0,
         0.7048432,
         3,
         0,
         16,
         0,
         2,
         1,
         1.0078311,
         1,
         0,
         null,
         0.0,
         0.0,
         null,
         0.009226633,
         0,
         null,
         -1,
         -1,
         -1,
         -1,
         0,
         0,
         0.0,
         null,
         0,
         0.0069858017,
         0
        ]
       ],
       "datasetInfos": [],
       "dbfsResultPath": null,
       "isJsonSchema": true,
       "metadata": {},
       "overflow": false,
       "plotOptions": {
        "customPlotOptions": {},
        "displayType": "table",
        "pivotAggregation": null,
        "pivotColumns": null,
        "xColumns": null,
        "yColumns": null
       },
       "removedWidgets": [],
       "schema": [
        {
         "metadata": "{}",
         "name": "customer_ID",
         "type": "\"string\""
        },
        {
         "metadata": "{}",
         "name": "S_2",
         "type": "\"string\""
        },
        {
         "metadata": "{}",
         "name": "P_2",
         "type": "\"float\""
        },
        {
         "metadata": "{}",
         "name": "D_39",
         "type": "\"short\""
        },
        {
         "metadata": "{}",
         "name": "B_1",
         "type": "\"float\""
        },
        {
         "metadata": "{}",
         "name": "B_2",
         "type": "\"float\""
        },
        {
         "metadata": "{}",
         "name": "R_1",
         "type": "\"float\""
        },
        {
         "metadata": "{}",
         "name": "S_3",
         "type": "\"float\""
        },
        {
         "metadata": "{}",
         "name": "D_41",
         "type": "\"float\""
        },
        {
         "metadata": "{}",
         "name": "B_3",
         "type": "\"float\""
        },
        {
         "metadata": "{}",
         "name": "D_42",
         "type": "\"float\""
        },
        {
         "metadata": "{}",
         "name": "D_43",
         "type": "\"float\""
        },
        {
         "metadata": "{}",
         "name": "D_44",
         "type": "\"byte\""
        },
        {
         "metadata": "{}",
         "name": "B_4",
         "type": "\"short\""
        },
        {
         "metadata": "{}",
         "name": "D_45",
         "type": "\"float\""
        },
        {
         "metadata": "{}",
         "name": "B_5",
         "type": "\"float\""
        },
        {
         "metadata": "{}",
         "name": "R_2",
         "type": "\"byte\""
        },
        {
         "metadata": "{}",
         "name": "D_46",
         "type": "\"float\""
        },
        {
         "metadata": "{}",
         "name": "D_47",
         "type": "\"float\""
        },
        {
         "metadata": "{}",
         "name": "D_48",
         "type": "\"float\""
        },
        {
         "metadata": "{}",
         "name": "D_49",
         "type": "\"short\""
        },
        {
         "metadata": "{}",
         "name": "B_6",
         "type": "\"float\""
        },
        {
         "metadata": "{}",
         "name": "B_7",
         "type": "\"float\""
        },
        {
         "metadata": "{}",
         "name": "B_8",
         "type": "\"float\""
        },
        {
         "metadata": "{}",
         "name": "D_50",
         "type": "\"float\""
        },
        {
         "metadata": "{}",
         "name": "D_51",
         "type": "\"byte\""
        },
        {
         "metadata": "{}",
         "name": "B_9",
         "type": "\"float\""
        },
        {
         "metadata": "{}",
         "name": "R_3",
         "type": "\"byte\""
        },
        {
         "metadata": "{}",
         "name": "D_52",
         "type": "\"float\""
        },
        {
         "metadata": "{}",
         "name": "P_3",
         "type": "\"float\""
        },
        {
         "metadata": "{}",
         "name": "B_10",
         "type": "\"float\""
        },
        {
         "metadata": "{}",
         "name": "D_53",
         "type": "\"float\""
        },
        {
         "metadata": "{}",
         "name": "S_5",
         "type": "\"float\""
        },
        {
         "metadata": "{}",
         "name": "B_11",
         "type": "\"float\""
        },
        {
         "metadata": "{}",
         "name": "S_6",
         "type": "\"byte\""
        },
        {
         "metadata": "{}",
         "name": "D_54",
         "type": "\"float\""
        },
        {
         "metadata": "{}",
         "name": "R_4",
         "type": "\"byte\""
        },
        {
         "metadata": "{}",
         "name": "S_7",
         "type": "\"float\""
        },
        {
         "metadata": "{}",
         "name": "B_12",
         "type": "\"float\""
        },
        {
         "metadata": "{}",
         "name": "S_8",
         "type": "\"short\""
        },
        {
         "metadata": "{}",
         "name": "D_55",
         "type": "\"float\""
        },
        {
         "metadata": "{}",
         "name": "D_56",
         "type": "\"float\""
        },
        {
         "metadata": "{}",
         "name": "B_13",
         "type": "\"float\""
        },
        {
         "metadata": "{}",
         "name": "R_5",
         "type": "\"byte\""
        },
        {
         "metadata": "{}",
         "name": "D_58",
         "type": "\"float\""
        },
        {
         "metadata": "{}",
         "name": "S_9",
         "type": "\"float\""
        },
        {
         "metadata": "{}",
         "name": "B_14",
         "type": "\"float\""
        },
        {
         "metadata": "{}",
         "name": "D_59",
         "type": "\"byte\""
        },
        {
         "metadata": "{}",
         "name": "D_60",
         "type": "\"float\""
        },
        {
         "metadata": "{}",
         "name": "D_61",
         "type": "\"float\""
        },
        {
         "metadata": "{}",
         "name": "B_15",
         "type": "\"float\""
        },
        {
         "metadata": "{}",
         "name": "S_11",
         "type": "\"byte\""
        },
        {
         "metadata": "{}",
         "name": "D_62",
         "type": "\"float\""
        },
        {
         "metadata": "{}",
         "name": "D_63",
         "type": "\"byte\""
        },
        {
         "metadata": "{}",
         "name": "D_64",
         "type": "\"byte\""
        },
        {
         "metadata": "{}",
         "name": "D_65",
         "type": "\"short\""
        },
        {
         "metadata": "{}",
         "name": "B_16",
         "type": "\"byte\""
        },
        {
         "metadata": "{}",
         "name": "B_17",
         "type": "\"float\""
        },
        {
         "metadata": "{}",
         "name": "B_18",
         "type": "\"float\""
        },
        {
         "metadata": "{}",
         "name": "B_19",
         "type": "\"byte\""
        },
        {
         "metadata": "{}",
         "name": "D_66",
         "type": "\"byte\""
        },
        {
         "metadata": "{}",
         "name": "B_20",
         "type": "\"byte\""
        },
        {
         "metadata": "{}",
         "name": "D_68",
         "type": "\"byte\""
        },
        {
         "metadata": "{}",
         "name": "S_12",
         "type": "\"float\""
        },
        {
         "metadata": "{}",
         "name": "R_6",
         "type": "\"float\""
        },
        {
         "metadata": "{}",
         "name": "S_13",
         "type": "\"short\""
        },
        {
         "metadata": "{}",
         "name": "B_21",
         "type": "\"float\""
        },
        {
         "metadata": "{}",
         "name": "D_69",
         "type": "\"float\""
        },
        {
         "metadata": "{}",
         "name": "B_22",
         "type": "\"byte\""
        },
        {
         "metadata": "{}",
         "name": "D_70",
         "type": "\"byte\""
        },
        {
         "metadata": "{}",
         "name": "D_71",
         "type": "\"float\""
        },
        {
         "metadata": "{}",
         "name": "D_72",
         "type": "\"byte\""
        },
        {
         "metadata": "{}",
         "name": "S_15",
         "type": "\"byte\""
        },
        {
         "metadata": "{}",
         "name": "B_23",
         "type": "\"float\""
        },
        {
         "metadata": "{}",
         "name": "D_73",
         "type": "\"float\""
        },
        {
         "metadata": "{}",
         "name": "P_4",
         "type": "\"float\""
        },
        {
         "metadata": "{}",
         "name": "D_74",
         "type": "\"byte\""
        },
        {
         "metadata": "{}",
         "name": "D_75",
         "type": "\"byte\""
        },
        {
         "metadata": "{}",
         "name": "D_76",
         "type": "\"float\""
        },
        {
         "metadata": "{}",
         "name": "B_24",
         "type": "\"float\""
        },
        {
         "metadata": "{}",
         "name": "R_7",
         "type": "\"float\""
        },
        {
         "metadata": "{}",
         "name": "D_77",
         "type": "\"float\""
        },
        {
         "metadata": "{}",
         "name": "B_25",
         "type": "\"float\""
        },
        {
         "metadata": "{}",
         "name": "B_26",
         "type": "\"float\""
        },
        {
         "metadata": "{}",
         "name": "D_78",
         "type": "\"byte\""
        },
        {
         "metadata": "{}",
         "name": "D_79",
         "type": "\"byte\""
        },
        {
         "metadata": "{}",
         "name": "R_8",
         "type": "\"byte\""
        },
        {
         "metadata": "{}",
         "name": "R_9",
         "type": "\"byte\""
        },
        {
         "metadata": "{}",
         "name": "S_16",
         "type": "\"float\""
        },
        {
         "metadata": "{}",
         "name": "D_80",
         "type": "\"byte\""
        },
        {
         "metadata": "{}",
         "name": "R_10",
         "type": "\"byte\""
        },
        {
         "metadata": "{}",
         "name": "R_11",
         "type": "\"byte\""
        },
        {
         "metadata": "{}",
         "name": "B_27",
         "type": "\"float\""
        },
        {
         "metadata": "{}",
         "name": "D_81",
         "type": "\"byte\""
        },
        {
         "metadata": "{}",
         "name": "D_82",
         "type": "\"byte\""
        },
        {
         "metadata": "{}",
         "name": "S_17",
         "type": "\"float\""
        },
        {
         "metadata": "{}",
         "name": "R_12",
         "type": "\"float\""
        },
        {
         "metadata": "{}",
         "name": "B_28",
         "type": "\"float\""
        },
        {
         "metadata": "{}",
         "name": "R_13",
         "type": "\"byte\""
        },
        {
         "metadata": "{}",
         "name": "D_83",
         "type": "\"byte\""
        },
        {
         "metadata": "{}",
         "name": "R_14",
         "type": "\"float\""
        },
        {
         "metadata": "{}",
         "name": "R_15",
         "type": "\"byte\""
        },
        {
         "metadata": "{}",
         "name": "D_84",
         "type": "\"byte\""
        },
        {
         "metadata": "{}",
         "name": "R_16",
         "type": "\"byte\""
        },
        {
         "metadata": "{}",
         "name": "B_29",
         "type": "\"float\""
        },
        {
         "metadata": "{}",
         "name": "B_30",
         "type": "\"byte\""
        },
        {
         "metadata": "{}",
         "name": "S_18",
         "type": "\"byte\""
        },
        {
         "metadata": "{}",
         "name": "D_86",
         "type": "\"byte\""
        },
        {
         "metadata": "{}",
         "name": "D_87",
         "type": "\"byte\""
        },
        {
         "metadata": "{}",
         "name": "R_17",
         "type": "\"byte\""
        },
        {
         "metadata": "{}",
         "name": "R_18",
         "type": "\"byte\""
        },
        {
         "metadata": "{}",
         "name": "D_88",
         "type": "\"float\""
        },
        {
         "metadata": "{}",
         "name": "B_31",
         "type": "\"byte\""
        },
        {
         "metadata": "{}",
         "name": "S_19",
         "type": "\"float\""
        },
        {
         "metadata": "{}",
         "name": "R_19",
         "type": "\"byte\""
        },
        {
         "metadata": "{}",
         "name": "B_32",
         "type": "\"byte\""
        },
        {
         "metadata": "{}",
         "name": "S_20",
         "type": "\"byte\""
        },
        {
         "metadata": "{}",
         "name": "R_20",
         "type": "\"byte\""
        },
        {
         "metadata": "{}",
         "name": "R_21",
         "type": "\"byte\""
        },
        {
         "metadata": "{}",
         "name": "B_33",
         "type": "\"byte\""
        },
        {
         "metadata": "{}",
         "name": "D_89",
         "type": "\"byte\""
        },
        {
         "metadata": "{}",
         "name": "R_22",
         "type": "\"byte\""
        },
        {
         "metadata": "{}",
         "name": "R_23",
         "type": "\"byte\""
        },
        {
         "metadata": "{}",
         "name": "D_91",
         "type": "\"byte\""
        },
        {
         "metadata": "{}",
         "name": "D_92",
         "type": "\"byte\""
        },
        {
         "metadata": "{}",
         "name": "D_93",
         "type": "\"byte\""
        },
        {
         "metadata": "{}",
         "name": "D_94",
         "type": "\"byte\""
        },
        {
         "metadata": "{}",
         "name": "R_24",
         "type": "\"byte\""
        },
        {
         "metadata": "{}",
         "name": "R_25",
         "type": "\"byte\""
        },
        {
         "metadata": "{}",
         "name": "D_96",
         "type": "\"byte\""
        },
        {
         "metadata": "{}",
         "name": "S_22",
         "type": "\"float\""
        },
        {
         "metadata": "{}",
         "name": "S_23",
         "type": "\"float\""
        },
        {
         "metadata": "{}",
         "name": "S_24",
         "type": "\"float\""
        },
        {
         "metadata": "{}",
         "name": "S_25",
         "type": "\"float\""
        },
        {
         "metadata": "{}",
         "name": "S_26",
         "type": "\"float\""
        },
        {
         "metadata": "{}",
         "name": "D_102",
         "type": "\"float\""
        },
        {
         "metadata": "{}",
         "name": "D_103",
         "type": "\"byte\""
        },
        {
         "metadata": "{}",
         "name": "D_104",
         "type": "\"float\""
        },
        {
         "metadata": "{}",
         "name": "D_105",
         "type": "\"float\""
        },
        {
         "metadata": "{}",
         "name": "D_106",
         "type": "\"short\""
        },
        {
         "metadata": "{}",
         "name": "D_107",
         "type": "\"byte\""
        },
        {
         "metadata": "{}",
         "name": "B_36",
         "type": "\"float\""
        },
        {
         "metadata": "{}",
         "name": "B_37",
         "type": "\"float\""
        },
        {
         "metadata": "{}",
         "name": "R_26",
         "type": "\"short\""
        },
        {
         "metadata": "{}",
         "name": "R_27",
         "type": "\"float\""
        },
        {
         "metadata": "{}",
         "name": "B_38",
         "type": "\"byte\""
        },
        {
         "metadata": "{}",
         "name": "D_108",
         "type": "\"byte\""
        },
        {
         "metadata": "{}",
         "name": "D_109",
         "type": "\"byte\""
        },
        {
         "metadata": "{}",
         "name": "D_110",
         "type": "\"float\""
        },
        {
         "metadata": "{}",
         "name": "D_111",
         "type": "\"byte\""
        },
        {
         "metadata": "{}",
         "name": "B_39",
         "type": "\"float\""
        },
        {
         "metadata": "{}",
         "name": "D_112",
         "type": "\"float\""
        },
        {
         "metadata": "{}",
         "name": "B_40",
         "type": "\"float\""
        },
        {
         "metadata": "{}",
         "name": "S_27",
         "type": "\"float\""
        },
        {
         "metadata": "{}",
         "name": "D_113",
         "type": "\"byte\""
        },
        {
         "metadata": "{}",
         "name": "D_114",
         "type": "\"byte\""
        },
        {
         "metadata": "{}",
         "name": "D_115",
         "type": "\"float\""
        },
        {
         "metadata": "{}",
         "name": "D_116",
         "type": "\"byte\""
        },
        {
         "metadata": "{}",
         "name": "D_117",
         "type": "\"byte\""
        },
        {
         "metadata": "{}",
         "name": "D_118",
         "type": "\"float\""
        },
        {
         "metadata": "{}",
         "name": "D_119",
         "type": "\"float\""
        },
        {
         "metadata": "{}",
         "name": "D_120",
         "type": "\"byte\""
        },
        {
         "metadata": "{}",
         "name": "D_121",
         "type": "\"float\""
        },
        {
         "metadata": "{}",
         "name": "D_122",
         "type": "\"byte\""
        },
        {
         "metadata": "{}",
         "name": "D_123",
         "type": "\"byte\""
        },
        {
         "metadata": "{}",
         "name": "D_124",
         "type": "\"short\""
        },
        {
         "metadata": "{}",
         "name": "D_125",
         "type": "\"byte\""
        },
        {
         "metadata": "{}",
         "name": "D_126",
         "type": "\"byte\""
        },
        {
         "metadata": "{}",
         "name": "D_127",
         "type": "\"byte\""
        },
        {
         "metadata": "{}",
         "name": "D_128",
         "type": "\"float\""
        },
        {
         "metadata": "{}",
         "name": "D_129",
         "type": "\"byte\""
        },
        {
         "metadata": "{}",
         "name": "B_41",
         "type": "\"byte\""
        },
        {
         "metadata": "{}",
         "name": "B_42",
         "type": "\"float\""
        },
        {
         "metadata": "{}",
         "name": "D_130",
         "type": "\"float\""
        },
        {
         "metadata": "{}",
         "name": "D_131",
         "type": "\"float\""
        },
        {
         "metadata": "{}",
         "name": "D_132",
         "type": "\"float\""
        },
        {
         "metadata": "{}",
         "name": "D_133",
         "type": "\"float\""
        },
        {
         "metadata": "{}",
         "name": "R_28",
         "type": "\"byte\""
        },
        {
         "metadata": "{}",
         "name": "D_134",
         "type": "\"float\""
        },
        {
         "metadata": "{}",
         "name": "D_135",
         "type": "\"byte\""
        },
        {
         "metadata": "{}",
         "name": "D_136",
         "type": "\"byte\""
        },
        {
         "metadata": "{}",
         "name": "D_137",
         "type": "\"byte\""
        },
        {
         "metadata": "{}",
         "name": "D_138",
         "type": "\"byte\""
        },
        {
         "metadata": "{}",
         "name": "D_139",
         "type": "\"byte\""
        },
        {
         "metadata": "{}",
         "name": "D_140",
         "type": "\"byte\""
        },
        {
         "metadata": "{}",
         "name": "D_141",
         "type": "\"float\""
        },
        {
         "metadata": "{}",
         "name": "D_142",
         "type": "\"float\""
        },
        {
         "metadata": "{}",
         "name": "D_143",
         "type": "\"byte\""
        },
        {
         "metadata": "{}",
         "name": "D_144",
         "type": "\"float\""
        },
        {
         "metadata": "{}",
         "name": "D_145",
         "type": "\"byte\""
        }
       ],
       "type": "table"
      }
     },
     "output_type": "display_data"
    }
   ],
   "source": [
    "# Observar primeros registros del dataset de entrenamiento\n",
    "display(train_df.limit(3))"
   ]
  },
  {
   "cell_type": "code",
   "execution_count": 0,
   "metadata": {
    "application/vnd.databricks.v1+cell": {
     "cellMetadata": {
      "byteLimit": 2048000,
      "rowLimit": 10000
     },
     "inputWidgets": {},
     "nuid": "d1f9809e-604b-4ace-9a94-be79d596ba44",
     "showTitle": false,
     "title": ""
    }
   },
   "outputs": [
    {
     "output_type": "display_data",
     "data": {
      "text/html": [
       "<style scoped>\n",
       "  .table-result-container {\n",
       "    max-height: 300px;\n",
       "    overflow: auto;\n",
       "  }\n",
       "  table, th, td {\n",
       "    border: 1px solid black;\n",
       "    border-collapse: collapse;\n",
       "  }\n",
       "  th, td {\n",
       "    padding: 5px;\n",
       "  }\n",
       "  th {\n",
       "    text-align: left;\n",
       "  }\n",
       "</style><div class='table-result-container'><table class='table-result'><thead style='background-color: white'><tr><th>customer_ID</th><th>S_2</th><th>P_2</th><th>D_39</th><th>B_1</th><th>B_2</th><th>R_1</th><th>S_3</th><th>D_41</th><th>B_3</th><th>D_42</th><th>D_43</th><th>D_44</th><th>B_4</th><th>D_45</th><th>B_5</th><th>R_2</th><th>D_46</th><th>D_47</th><th>D_48</th><th>D_49</th><th>B_6</th><th>B_7</th><th>B_8</th><th>D_50</th><th>D_51</th><th>B_9</th><th>R_3</th><th>D_52</th><th>P_3</th><th>B_10</th><th>D_53</th><th>S_5</th><th>B_11</th><th>S_6</th><th>D_54</th><th>R_4</th><th>S_7</th><th>B_12</th><th>S_8</th><th>D_55</th><th>D_56</th><th>B_13</th><th>R_5</th><th>D_58</th><th>S_9</th><th>B_14</th><th>D_59</th><th>D_60</th><th>D_61</th><th>B_15</th><th>S_11</th><th>D_62</th><th>D_63</th><th>D_64</th><th>D_65</th><th>B_16</th><th>B_17</th><th>B_18</th><th>B_19</th><th>D_66</th><th>B_20</th><th>D_68</th><th>S_12</th><th>R_6</th><th>S_13</th><th>B_21</th><th>D_69</th><th>B_22</th><th>D_70</th><th>D_71</th><th>D_72</th><th>S_15</th><th>B_23</th><th>D_73</th><th>P_4</th><th>D_74</th><th>D_75</th><th>D_76</th><th>B_24</th><th>R_7</th><th>D_77</th><th>B_25</th><th>B_26</th><th>D_78</th><th>D_79</th><th>R_8</th><th>R_9</th><th>S_16</th><th>D_80</th><th>R_10</th><th>R_11</th><th>B_27</th><th>D_81</th><th>D_82</th><th>S_17</th><th>R_12</th><th>B_28</th><th>R_13</th><th>D_83</th><th>R_14</th><th>R_15</th><th>D_84</th><th>R_16</th><th>B_29</th><th>B_30</th><th>S_18</th><th>D_86</th><th>D_87</th><th>R_17</th><th>R_18</th><th>D_88</th><th>B_31</th><th>S_19</th><th>R_19</th><th>B_32</th><th>S_20</th><th>R_20</th><th>R_21</th><th>B_33</th><th>D_89</th><th>R_22</th><th>R_23</th><th>D_91</th><th>D_92</th><th>D_93</th><th>D_94</th><th>R_24</th><th>R_25</th><th>D_96</th><th>S_22</th><th>S_23</th><th>S_24</th><th>S_25</th><th>S_26</th><th>D_102</th><th>D_103</th><th>D_104</th><th>D_105</th><th>D_106</th><th>D_107</th><th>B_36</th><th>B_37</th><th>R_26</th><th>R_27</th><th>B_38</th><th>D_108</th><th>D_109</th><th>D_110</th><th>D_111</th><th>B_39</th><th>D_112</th><th>B_40</th><th>S_27</th><th>D_113</th><th>D_114</th><th>D_115</th><th>D_116</th><th>D_117</th><th>D_118</th><th>D_119</th><th>D_120</th><th>D_121</th><th>D_122</th><th>D_123</th><th>D_124</th><th>D_125</th><th>D_126</th><th>D_127</th><th>D_128</th><th>D_129</th><th>B_41</th><th>B_42</th><th>D_130</th><th>D_131</th><th>D_132</th><th>D_133</th><th>R_28</th><th>D_134</th><th>D_135</th><th>D_136</th><th>D_137</th><th>D_138</th><th>D_139</th><th>D_140</th><th>D_141</th><th>D_142</th><th>D_143</th><th>D_144</th><th>D_145</th></tr></thead><tbody><tr><td>00000469ba478561f23a92a868bd366de6f6527a684c9a2e78fb826dcac3b9b7</td><td>2019-02-19</td><td>0.63131535</td><td>0</td><td>0.010728086</td><td>0.8144969</td><td>0.0</td><td>0.16865084</td><td>0.0</td><td>0.002346993</td><td>0.11318889</td><td>null</td><td>0</td><td>9</td><td>0.004482522</td><td>0.009516775</td><td>0</td><td>null</td><td>0.47438335</td><td>0.62646693</td><td>-1</td><td>0.17459108</td><td>1.2506765</td><td>1.0039254</td><td>null</td><td>0</td><td>0.0010129374</td><td>1</td><td>0.11904347</td><td>null</td><td>-0.002918642</td><td>null</td><td>0.0027711124</td><td>0.0044161137</td><td>1</td><td>1.0</td><td>0</td><td>0.1055866</td><td>0.11919808</td><td>996</td><td>0.11456353</td><td>null</td><td>null</td><td>0</td><td>0.20589781</td><td>null</td><td>0.010182195</td><td>-1</td><td>0.02747162</td><td>0.5887337</td><td>0.010488577</td><td>52</td><td>0.05181097</td><td>0</td><td>-1</td><td>0</td><td>0</td><td>null</td><td>0.59210324</td><td>0</td><td>-1</td><td>0</td><td>-1</td><td>0.19051576</td><td>0.0026754835</td><td>415</td><td>0.009990462</td><td>null</td><td>0</td><td>-1</td><td>0.014684133</td><td>0</td><td>7</td><td>1.1347919</td><td>0.17886236</td><td>0.95953107</td><td>3</td><td>3</td><td>null</td><td>0.009798512</td><td>0.0</td><td>0.002916108</td><td>0.0068955813</td><td>0.0016564517</td><td>0</td><td>-1</td><td>0</td><td>-1</td><td>0.002531028</td><td>0</td><td>0</td><td>0</td><td>0.0045846575</td><td>0</td><td>1</td><td>0.005093209</td><td>1.0</td><td>0.13380393</td><td>0</td><td>-1</td><td>0.0</td><td>0</td><td>0</td><td>0</td><td>null</td><td>0</td><td>0</td><td>0</td><td>-1</td><td>0</td><td>0</td><td>null</td><td>1</td><td>0.008999351</td><td>0</td><td>0</td><td>0</td><td>0</td><td>0</td><td>1</td><td>0</td><td>0</td><td>0</td><td>-1</td><td>0</td><td>0</td><td>0</td><td>0</td><td>0</td><td>0</td><td>0.9810777</td><td>0.13491555</td><td>0.9546644</td><td>0.97108626</td><td>0.00656218</td><td>0.002418615</td><td>-1</td><td>null</td><td>null</td><td>-1</td><td>-1</td><td>0.008145522</td><td>0.007969564</td><td>-1</td><td>null</td><td>1</td><td>-1</td><td>0</td><td>null</td><td>-1</td><td>null</td><td>1.0</td><td>0.27420256</td><td>0.0043015503</td><td>-1</td><td>-1</td><td>null</td><td>-1</td><td>-1</td><td>null</td><td>null</td><td>-1</td><td>null</td><td>-1</td><td>-1</td><td>-1</td><td>-1</td><td>1</td><td>0</td><td>null</td><td>-1</td><td>0</td><td>null</td><td>null</td><td>null</td><td>null</td><td>0.007081548</td><td>0</td><td>null</td><td>-1</td><td>-1</td><td>-1</td><td>-1</td><td>-1</td><td>0</td><td>null</td><td>null</td><td>-1</td><td>0.008280723</td><td>-1</td></tr><tr><td>00000469ba478561f23a92a868bd366de6f6527a684c9a2e78fb826dcac3b9b7</td><td>2019-03-25</td><td>0.5870423</td><td>0</td><td>0.011026369</td><td>0.8108478</td><td>0.0</td><td>0.24138896</td><td>0.0</td><td>0.009131843</td><td>0.12303543</td><td>null</td><td>0</td><td>10</td><td>0.009497418</td><td>0.02631281</td><td>0</td><td>null</td><td>0.47358724</td><td>0.6116821</td><td>-1</td><td>0.17711546</td><td>0.23416875</td><td>1.0093013</td><td>null</td><td>0</td><td>0.0055332542</td><td>1</td><td>0.120990865</td><td>null</td><td>0.031221505</td><td>null</td><td>0.0064965487</td><td>0.010002997</td><td>1</td><td>1.0</td><td>0</td><td>0.16056216</td><td>0.121489555</td><td>528</td><td>0.18411587</td><td>null</td><td>0.028347049</td><td>0</td><td>0.4032699</td><td>0.014490796</td><td>0.025129914</td><td>-1</td><td>0.05478963</td><td>0.6228862</td><td>0.021704147</td><td>56</td><td>0.05756746</td><td>0</td><td>-1</td><td>0</td><td>0</td><td>null</td><td>0.5909225</td><td>0</td><td>-1</td><td>0</td><td>-1</td><td>0.1901718</td><td>0.0017710014</td><td>574</td><td>0.008125119</td><td>null</td><td>0</td><td>0</td><td>0.011945211</td><td>0</td><td>9</td><td>0.20838104</td><td>0.17950158</td><td>0.96166676</td><td>3</td><td>3</td><td>null</td><td>0.0045485613</td><td>0.0</td><td>null</td><td>0.003681807</td><td>0.0055160946</td><td>0</td><td>0</td><td>0</td><td>-1</td><td>0.0071691754</td><td>0</td><td>0</td><td>0</td><td>0.009634409</td><td>0</td><td>1</td><td>0.007318781</td><td>1.0</td><td>0.14462581</td><td>0</td><td>-1</td><td>0.0</td><td>0</td><td>0</td><td>0</td><td>null</td><td>0</td><td>0</td><td>0</td><td>-1</td><td>0</td><td>0</td><td>null</td><td>1</td><td>0.0051204236</td><td>0</td><td>0</td><td>0</td><td>0</td><td>0</td><td>1</td><td>0</td><td>0</td><td>0</td><td>-1</td><td>0</td><td>0</td><td>0</td><td>0</td><td>0</td><td>0</td><td>0.9669947</td><td>0.13853143</td><td>0.9570186</td><td>0.97500324</td><td>0.0046106223</td><td>0.0065485765</td><td>0</td><td>0.0</td><td>null</td><td>-1</td><td>0</td><td>7.76608E-5</td><td>0.015462618</td><td>-1</td><td>1.0076658</td><td>1</td><td>-1</td><td>0</td><td>null</td><td>-1</td><td>null</td><td>1.0</td><td>0.353639</td><td>0.2766228</td><td>-1</td><td>-1</td><td>null</td><td>-1</td><td>-1</td><td>null</td><td>null</td><td>-1</td><td>null</td><td>-1</td><td>-1</td><td>-1</td><td>-1</td><td>1</td><td>0</td><td>0.0</td><td>0</td><td>0</td><td>null</td><td>0.0</td><td>0.0</td><td>null</td><td>0.0071878703</td><td>0</td><td>null</td><td>-1</td><td>-1</td><td>-1</td><td>-1</td><td>0</td><td>0</td><td>0.0</td><td>null</td><td>0</td><td>0.0037529375</td><td>0</td></tr><tr><td>00000469ba478561f23a92a868bd366de6f6527a684c9a2e78fb826dcac3b9b7</td><td>2019-04-25</td><td>0.6090561</td><td>0</td><td>0.016389955</td><td>1.0046204</td><td>0.0</td><td>0.26697618</td><td>0.0</td><td>0.004191512</td><td>0.12531874</td><td>null</td><td>0</td><td>10</td><td>0.007020265</td><td>0.060016517</td><td>0</td><td>null</td><td>0.4718373</td><td>0.62222785</td><td>-1</td><td>1.4170588</td><td>0.12699464</td><td>1.0046355</td><td>null</td><td>0</td><td>2.2850305E-5</td><td>1</td><td>0.11310736</td><td>null</td><td>0.035532404</td><td>null</td><td>0.0034065389</td><td>0.0041400357</td><td>0</td><td>1.0</td><td>0</td><td>0.21007678</td><td>0.12014508</td><td>528</td><td>0.25396854</td><td>null</td><td>0.033726323</td><td>0</td><td>0.3937169</td><td>0.022946889</td><td>0.028865444</td><td>25</td><td>0.08373971</td><td>0.6179964</td><td>0.039339412</td><td>46</td><td>0.050672594</td><td>0</td><td>-1</td><td>0</td><td>0</td><td>null</td><td>0.59144074</td><td>0</td><td>-1</td><td>0</td><td>-1</td><td>-0.026253385</td><td>0.0072174347</td><td>711</td><td>0.008099198</td><td>null</td><td>0</td><td>0</td><td>0.015594164</td><td>0</td><td>9</td><td>0.11576987</td><td>0.18240787</td><td>0.96379745</td><td>3</td><td>3</td><td>null</td><td>0.004056473</td><td>0.0</td><td>null</td><td>0.0023889986</td><td>7.758393E-4</td><td>0</td><td>0</td><td>0</td><td>-1</td><td>0.006504847</td><td>0</td><td>0</td><td>0</td><td>0.0066337357</td><td>0</td><td>1</td><td>0.0064500337</td><td>1.0</td><td>0.14969663</td><td>0</td><td>-1</td><td>0.0</td><td>0</td><td>0</td><td>0</td><td>null</td><td>0</td><td>0</td><td>0</td><td>-1</td><td>0</td><td>0</td><td>null</td><td>1</td><td>0.0025757968</td><td>0</td><td>0</td><td>0</td><td>0</td><td>0</td><td>1</td><td>0</td><td>0</td><td>0</td><td>-1</td><td>0</td><td>0</td><td>0</td><td>0</td><td>0</td><td>0</td><td>0.9705039</td><td>0.1364364</td><td>0.9641484</td><td>0.9785814</td><td>0.005550118</td><td>0.006818671</td><td>0</td><td>0.0</td><td>null</td><td>-1</td><td>0</td><td>9.890212E-4</td><td>0.016205596</td><td>-1</td><td>1.0050967</td><td>2</td><td>-1</td><td>0</td><td>null</td><td>-1</td><td>null</td><td>1.0</td><td>0.39052975</td><td>0.24794045</td><td>-1</td><td>-1</td><td>null</td><td>-1</td><td>-1</td><td>null</td><td>null</td><td>-1</td><td>null</td><td>-1</td><td>-1</td><td>-1</td><td>-1</td><td>1</td><td>0</td><td>0.0</td><td>0</td><td>0</td><td>null</td><td>0.0</td><td>0.0</td><td>null</td><td>0.008436302</td><td>0</td><td>null</td><td>-1</td><td>-1</td><td>-1</td><td>-1</td><td>0</td><td>0</td><td>0.0</td><td>null</td><td>0</td><td>0.002156245</td><td>0</td></tr></tbody></table></div>"
      ]
     },
     "metadata": {
      "application/vnd.databricks.v1+output": {
       "addedWidgets": {},
       "aggData": [],
       "aggError": "",
       "aggOverflow": false,
       "aggSchema": [],
       "aggSeriesLimitReached": false,
       "aggType": "",
       "arguments": {},
       "columnCustomDisplayInfos": {},
       "data": [
        [
         "00000469ba478561f23a92a868bd366de6f6527a684c9a2e78fb826dcac3b9b7",
         "2019-02-19",
         0.63131535,
         0,
         0.010728086,
         0.8144969,
         0.0,
         0.16865084,
         0.0,
         0.002346993,
         0.11318889,
         null,
         0,
         9,
         0.004482522,
         0.009516775,
         0,
         null,
         0.47438335,
         0.62646693,
         -1,
         0.17459108,
         1.2506765,
         1.0039254,
         null,
         0,
         0.0010129374,
         1,
         0.11904347,
         null,
         -0.002918642,
         null,
         0.0027711124,
         0.0044161137,
         1,
         1.0,
         0,
         0.1055866,
         0.11919808,
         996,
         0.11456353,
         null,
         null,
         0,
         0.20589781,
         null,
         0.010182195,
         -1,
         0.02747162,
         0.5887337,
         0.010488577,
         52,
         0.05181097,
         0,
         -1,
         0,
         0,
         null,
         0.59210324,
         0,
         -1,
         0,
         -1,
         0.19051576,
         0.0026754835,
         415,
         0.009990462,
         null,
         0,
         -1,
         0.014684133,
         0,
         7,
         1.1347919,
         0.17886236,
         0.95953107,
         3,
         3,
         null,
         0.009798512,
         0.0,
         0.002916108,
         0.0068955813,
         0.0016564517,
         0,
         -1,
         0,
         -1,
         0.002531028,
         0,
         0,
         0,
         0.0045846575,
         0,
         1,
         0.005093209,
         1.0,
         0.13380393,
         0,
         -1,
         0.0,
         0,
         0,
         0,
         null,
         0,
         0,
         0,
         -1,
         0,
         0,
         null,
         1,
         0.008999351,
         0,
         0,
         0,
         0,
         0,
         1,
         0,
         0,
         0,
         -1,
         0,
         0,
         0,
         0,
         0,
         0,
         0.9810777,
         0.13491555,
         0.9546644,
         0.97108626,
         0.00656218,
         0.002418615,
         -1,
         null,
         null,
         -1,
         -1,
         0.008145522,
         0.007969564,
         -1,
         null,
         1,
         -1,
         0,
         null,
         -1,
         null,
         1.0,
         0.27420256,
         0.0043015503,
         -1,
         -1,
         null,
         -1,
         -1,
         null,
         null,
         -1,
         null,
         -1,
         -1,
         -1,
         -1,
         1,
         0,
         null,
         -1,
         0,
         null,
         null,
         null,
         null,
         0.007081548,
         0,
         null,
         -1,
         -1,
         -1,
         -1,
         -1,
         0,
         null,
         null,
         -1,
         0.008280723,
         -1
        ],
        [
         "00000469ba478561f23a92a868bd366de6f6527a684c9a2e78fb826dcac3b9b7",
         "2019-03-25",
         0.5870423,
         0,
         0.011026369,
         0.8108478,
         0.0,
         0.24138896,
         0.0,
         0.009131843,
         0.12303543,
         null,
         0,
         10,
         0.009497418,
         0.02631281,
         0,
         null,
         0.47358724,
         0.6116821,
         -1,
         0.17711546,
         0.23416875,
         1.0093013,
         null,
         0,
         0.0055332542,
         1,
         0.120990865,
         null,
         0.031221505,
         null,
         0.0064965487,
         0.010002997,
         1,
         1.0,
         0,
         0.16056216,
         0.121489555,
         528,
         0.18411587,
         null,
         0.028347049,
         0,
         0.4032699,
         0.014490796,
         0.025129914,
         -1,
         0.05478963,
         0.6228862,
         0.021704147,
         56,
         0.05756746,
         0,
         -1,
         0,
         0,
         null,
         0.5909225,
         0,
         -1,
         0,
         -1,
         0.1901718,
         0.0017710014,
         574,
         0.008125119,
         null,
         0,
         0,
         0.011945211,
         0,
         9,
         0.20838104,
         0.17950158,
         0.96166676,
         3,
         3,
         null,
         0.0045485613,
         0.0,
         null,
         0.003681807,
         0.0055160946,
         0,
         0,
         0,
         -1,
         0.0071691754,
         0,
         0,
         0,
         0.009634409,
         0,
         1,
         0.007318781,
         1.0,
         0.14462581,
         0,
         -1,
         0.0,
         0,
         0,
         0,
         null,
         0,
         0,
         0,
         -1,
         0,
         0,
         null,
         1,
         0.0051204236,
         0,
         0,
         0,
         0,
         0,
         1,
         0,
         0,
         0,
         -1,
         0,
         0,
         0,
         0,
         0,
         0,
         0.9669947,
         0.13853143,
         0.9570186,
         0.97500324,
         0.0046106223,
         0.0065485765,
         0,
         0.0,
         null,
         -1,
         0,
         7.76608E-5,
         0.015462618,
         -1,
         1.0076658,
         1,
         -1,
         0,
         null,
         -1,
         null,
         1.0,
         0.353639,
         0.2766228,
         -1,
         -1,
         null,
         -1,
         -1,
         null,
         null,
         -1,
         null,
         -1,
         -1,
         -1,
         -1,
         1,
         0,
         0.0,
         0,
         0,
         null,
         0.0,
         0.0,
         null,
         0.0071878703,
         0,
         null,
         -1,
         -1,
         -1,
         -1,
         0,
         0,
         0.0,
         null,
         0,
         0.0037529375,
         0
        ],
        [
         "00000469ba478561f23a92a868bd366de6f6527a684c9a2e78fb826dcac3b9b7",
         "2019-04-25",
         0.6090561,
         0,
         0.016389955,
         1.0046204,
         0.0,
         0.26697618,
         0.0,
         0.004191512,
         0.12531874,
         null,
         0,
         10,
         0.007020265,
         0.060016517,
         0,
         null,
         0.4718373,
         0.62222785,
         -1,
         1.4170588,
         0.12699464,
         1.0046355,
         null,
         0,
         2.2850305E-5,
         1,
         0.11310736,
         null,
         0.035532404,
         null,
         0.0034065389,
         0.0041400357,
         0,
         1.0,
         0,
         0.21007678,
         0.12014508,
         528,
         0.25396854,
         null,
         0.033726323,
         0,
         0.3937169,
         0.022946889,
         0.028865444,
         25,
         0.08373971,
         0.6179964,
         0.039339412,
         46,
         0.050672594,
         0,
         -1,
         0,
         0,
         null,
         0.59144074,
         0,
         -1,
         0,
         -1,
         -0.026253385,
         0.0072174347,
         711,
         0.008099198,
         null,
         0,
         0,
         0.015594164,
         0,
         9,
         0.11576987,
         0.18240787,
         0.96379745,
         3,
         3,
         null,
         0.004056473,
         0.0,
         null,
         0.0023889986,
         7.758393E-4,
         0,
         0,
         0,
         -1,
         0.006504847,
         0,
         0,
         0,
         0.0066337357,
         0,
         1,
         0.0064500337,
         1.0,
         0.14969663,
         0,
         -1,
         0.0,
         0,
         0,
         0,
         null,
         0,
         0,
         0,
         -1,
         0,
         0,
         null,
         1,
         0.0025757968,
         0,
         0,
         0,
         0,
         0,
         1,
         0,
         0,
         0,
         -1,
         0,
         0,
         0,
         0,
         0,
         0,
         0.9705039,
         0.1364364,
         0.9641484,
         0.9785814,
         0.005550118,
         0.006818671,
         0,
         0.0,
         null,
         -1,
         0,
         9.890212E-4,
         0.016205596,
         -1,
         1.0050967,
         2,
         -1,
         0,
         null,
         -1,
         null,
         1.0,
         0.39052975,
         0.24794045,
         -1,
         -1,
         null,
         -1,
         -1,
         null,
         null,
         -1,
         null,
         -1,
         -1,
         -1,
         -1,
         1,
         0,
         0.0,
         0,
         0,
         null,
         0.0,
         0.0,
         null,
         0.008436302,
         0,
         null,
         -1,
         -1,
         -1,
         -1,
         0,
         0,
         0.0,
         null,
         0,
         0.002156245,
         0
        ]
       ],
       "datasetInfos": [],
       "dbfsResultPath": null,
       "isJsonSchema": true,
       "metadata": {},
       "overflow": false,
       "plotOptions": {
        "customPlotOptions": {},
        "displayType": "table",
        "pivotAggregation": null,
        "pivotColumns": null,
        "xColumns": null,
        "yColumns": null
       },
       "removedWidgets": [],
       "schema": [
        {
         "metadata": "{}",
         "name": "customer_ID",
         "type": "\"string\""
        },
        {
         "metadata": "{}",
         "name": "S_2",
         "type": "\"string\""
        },
        {
         "metadata": "{}",
         "name": "P_2",
         "type": "\"float\""
        },
        {
         "metadata": "{}",
         "name": "D_39",
         "type": "\"short\""
        },
        {
         "metadata": "{}",
         "name": "B_1",
         "type": "\"float\""
        },
        {
         "metadata": "{}",
         "name": "B_2",
         "type": "\"float\""
        },
        {
         "metadata": "{}",
         "name": "R_1",
         "type": "\"float\""
        },
        {
         "metadata": "{}",
         "name": "S_3",
         "type": "\"float\""
        },
        {
         "metadata": "{}",
         "name": "D_41",
         "type": "\"float\""
        },
        {
         "metadata": "{}",
         "name": "B_3",
         "type": "\"float\""
        },
        {
         "metadata": "{}",
         "name": "D_42",
         "type": "\"float\""
        },
        {
         "metadata": "{}",
         "name": "D_43",
         "type": "\"float\""
        },
        {
         "metadata": "{}",
         "name": "D_44",
         "type": "\"byte\""
        },
        {
         "metadata": "{}",
         "name": "B_4",
         "type": "\"short\""
        },
        {
         "metadata": "{}",
         "name": "D_45",
         "type": "\"float\""
        },
        {
         "metadata": "{}",
         "name": "B_5",
         "type": "\"float\""
        },
        {
         "metadata": "{}",
         "name": "R_2",
         "type": "\"byte\""
        },
        {
         "metadata": "{}",
         "name": "D_46",
         "type": "\"float\""
        },
        {
         "metadata": "{}",
         "name": "D_47",
         "type": "\"float\""
        },
        {
         "metadata": "{}",
         "name": "D_48",
         "type": "\"float\""
        },
        {
         "metadata": "{}",
         "name": "D_49",
         "type": "\"short\""
        },
        {
         "metadata": "{}",
         "name": "B_6",
         "type": "\"float\""
        },
        {
         "metadata": "{}",
         "name": "B_7",
         "type": "\"float\""
        },
        {
         "metadata": "{}",
         "name": "B_8",
         "type": "\"float\""
        },
        {
         "metadata": "{}",
         "name": "D_50",
         "type": "\"float\""
        },
        {
         "metadata": "{}",
         "name": "D_51",
         "type": "\"byte\""
        },
        {
         "metadata": "{}",
         "name": "B_9",
         "type": "\"float\""
        },
        {
         "metadata": "{}",
         "name": "R_3",
         "type": "\"byte\""
        },
        {
         "metadata": "{}",
         "name": "D_52",
         "type": "\"float\""
        },
        {
         "metadata": "{}",
         "name": "P_3",
         "type": "\"float\""
        },
        {
         "metadata": "{}",
         "name": "B_10",
         "type": "\"float\""
        },
        {
         "metadata": "{}",
         "name": "D_53",
         "type": "\"float\""
        },
        {
         "metadata": "{}",
         "name": "S_5",
         "type": "\"float\""
        },
        {
         "metadata": "{}",
         "name": "B_11",
         "type": "\"float\""
        },
        {
         "metadata": "{}",
         "name": "S_6",
         "type": "\"byte\""
        },
        {
         "metadata": "{}",
         "name": "D_54",
         "type": "\"float\""
        },
        {
         "metadata": "{}",
         "name": "R_4",
         "type": "\"byte\""
        },
        {
         "metadata": "{}",
         "name": "S_7",
         "type": "\"float\""
        },
        {
         "metadata": "{}",
         "name": "B_12",
         "type": "\"float\""
        },
        {
         "metadata": "{}",
         "name": "S_8",
         "type": "\"short\""
        },
        {
         "metadata": "{}",
         "name": "D_55",
         "type": "\"float\""
        },
        {
         "metadata": "{}",
         "name": "D_56",
         "type": "\"float\""
        },
        {
         "metadata": "{}",
         "name": "B_13",
         "type": "\"float\""
        },
        {
         "metadata": "{}",
         "name": "R_5",
         "type": "\"byte\""
        },
        {
         "metadata": "{}",
         "name": "D_58",
         "type": "\"float\""
        },
        {
         "metadata": "{}",
         "name": "S_9",
         "type": "\"float\""
        },
        {
         "metadata": "{}",
         "name": "B_14",
         "type": "\"float\""
        },
        {
         "metadata": "{}",
         "name": "D_59",
         "type": "\"short\""
        },
        {
         "metadata": "{}",
         "name": "D_60",
         "type": "\"float\""
        },
        {
         "metadata": "{}",
         "name": "D_61",
         "type": "\"float\""
        },
        {
         "metadata": "{}",
         "name": "B_15",
         "type": "\"float\""
        },
        {
         "metadata": "{}",
         "name": "S_11",
         "type": "\"byte\""
        },
        {
         "metadata": "{}",
         "name": "D_62",
         "type": "\"float\""
        },
        {
         "metadata": "{}",
         "name": "D_63",
         "type": "\"byte\""
        },
        {
         "metadata": "{}",
         "name": "D_64",
         "type": "\"byte\""
        },
        {
         "metadata": "{}",
         "name": "D_65",
         "type": "\"short\""
        },
        {
         "metadata": "{}",
         "name": "B_16",
         "type": "\"byte\""
        },
        {
         "metadata": "{}",
         "name": "B_17",
         "type": "\"float\""
        },
        {
         "metadata": "{}",
         "name": "B_18",
         "type": "\"float\""
        },
        {
         "metadata": "{}",
         "name": "B_19",
         "type": "\"byte\""
        },
        {
         "metadata": "{}",
         "name": "D_66",
         "type": "\"byte\""
        },
        {
         "metadata": "{}",
         "name": "B_20",
         "type": "\"byte\""
        },
        {
         "metadata": "{}",
         "name": "D_68",
         "type": "\"byte\""
        },
        {
         "metadata": "{}",
         "name": "S_12",
         "type": "\"float\""
        },
        {
         "metadata": "{}",
         "name": "R_6",
         "type": "\"float\""
        },
        {
         "metadata": "{}",
         "name": "S_13",
         "type": "\"short\""
        },
        {
         "metadata": "{}",
         "name": "B_21",
         "type": "\"float\""
        },
        {
         "metadata": "{}",
         "name": "D_69",
         "type": "\"float\""
        },
        {
         "metadata": "{}",
         "name": "B_22",
         "type": "\"byte\""
        },
        {
         "metadata": "{}",
         "name": "D_70",
         "type": "\"byte\""
        },
        {
         "metadata": "{}",
         "name": "D_71",
         "type": "\"float\""
        },
        {
         "metadata": "{}",
         "name": "D_72",
         "type": "\"byte\""
        },
        {
         "metadata": "{}",
         "name": "S_15",
         "type": "\"byte\""
        },
        {
         "metadata": "{}",
         "name": "B_23",
         "type": "\"float\""
        },
        {
         "metadata": "{}",
         "name": "D_73",
         "type": "\"float\""
        },
        {
         "metadata": "{}",
         "name": "P_4",
         "type": "\"float\""
        },
        {
         "metadata": "{}",
         "name": "D_74",
         "type": "\"byte\""
        },
        {
         "metadata": "{}",
         "name": "D_75",
         "type": "\"byte\""
        },
        {
         "metadata": "{}",
         "name": "D_76",
         "type": "\"float\""
        },
        {
         "metadata": "{}",
         "name": "B_24",
         "type": "\"float\""
        },
        {
         "metadata": "{}",
         "name": "R_7",
         "type": "\"float\""
        },
        {
         "metadata": "{}",
         "name": "D_77",
         "type": "\"float\""
        },
        {
         "metadata": "{}",
         "name": "B_25",
         "type": "\"float\""
        },
        {
         "metadata": "{}",
         "name": "B_26",
         "type": "\"float\""
        },
        {
         "metadata": "{}",
         "name": "D_78",
         "type": "\"byte\""
        },
        {
         "metadata": "{}",
         "name": "D_79",
         "type": "\"byte\""
        },
        {
         "metadata": "{}",
         "name": "R_8",
         "type": "\"byte\""
        },
        {
         "metadata": "{}",
         "name": "R_9",
         "type": "\"byte\""
        },
        {
         "metadata": "{}",
         "name": "S_16",
         "type": "\"float\""
        },
        {
         "metadata": "{}",
         "name": "D_80",
         "type": "\"byte\""
        },
        {
         "metadata": "{}",
         "name": "R_10",
         "type": "\"byte\""
        },
        {
         "metadata": "{}",
         "name": "R_11",
         "type": "\"byte\""
        },
        {
         "metadata": "{}",
         "name": "B_27",
         "type": "\"float\""
        },
        {
         "metadata": "{}",
         "name": "D_81",
         "type": "\"byte\""
        },
        {
         "metadata": "{}",
         "name": "D_82",
         "type": "\"byte\""
        },
        {
         "metadata": "{}",
         "name": "S_17",
         "type": "\"float\""
        },
        {
         "metadata": "{}",
         "name": "R_12",
         "type": "\"float\""
        },
        {
         "metadata": "{}",
         "name": "B_28",
         "type": "\"float\""
        },
        {
         "metadata": "{}",
         "name": "R_13",
         "type": "\"byte\""
        },
        {
         "metadata": "{}",
         "name": "D_83",
         "type": "\"byte\""
        },
        {
         "metadata": "{}",
         "name": "R_14",
         "type": "\"float\""
        },
        {
         "metadata": "{}",
         "name": "R_15",
         "type": "\"byte\""
        },
        {
         "metadata": "{}",
         "name": "D_84",
         "type": "\"byte\""
        },
        {
         "metadata": "{}",
         "name": "R_16",
         "type": "\"byte\""
        },
        {
         "metadata": "{}",
         "name": "B_29",
         "type": "\"float\""
        },
        {
         "metadata": "{}",
         "name": "B_30",
         "type": "\"byte\""
        },
        {
         "metadata": "{}",
         "name": "S_18",
         "type": "\"byte\""
        },
        {
         "metadata": "{}",
         "name": "D_86",
         "type": "\"byte\""
        },
        {
         "metadata": "{}",
         "name": "D_87",
         "type": "\"byte\""
        },
        {
         "metadata": "{}",
         "name": "R_17",
         "type": "\"byte\""
        },
        {
         "metadata": "{}",
         "name": "R_18",
         "type": "\"byte\""
        },
        {
         "metadata": "{}",
         "name": "D_88",
         "type": "\"float\""
        },
        {
         "metadata": "{}",
         "name": "B_31",
         "type": "\"byte\""
        },
        {
         "metadata": "{}",
         "name": "S_19",
         "type": "\"float\""
        },
        {
         "metadata": "{}",
         "name": "R_19",
         "type": "\"byte\""
        },
        {
         "metadata": "{}",
         "name": "B_32",
         "type": "\"byte\""
        },
        {
         "metadata": "{}",
         "name": "S_20",
         "type": "\"byte\""
        },
        {
         "metadata": "{}",
         "name": "R_20",
         "type": "\"byte\""
        },
        {
         "metadata": "{}",
         "name": "R_21",
         "type": "\"byte\""
        },
        {
         "metadata": "{}",
         "name": "B_33",
         "type": "\"byte\""
        },
        {
         "metadata": "{}",
         "name": "D_89",
         "type": "\"byte\""
        },
        {
         "metadata": "{}",
         "name": "R_22",
         "type": "\"byte\""
        },
        {
         "metadata": "{}",
         "name": "R_23",
         "type": "\"byte\""
        },
        {
         "metadata": "{}",
         "name": "D_91",
         "type": "\"byte\""
        },
        {
         "metadata": "{}",
         "name": "D_92",
         "type": "\"byte\""
        },
        {
         "metadata": "{}",
         "name": "D_93",
         "type": "\"byte\""
        },
        {
         "metadata": "{}",
         "name": "D_94",
         "type": "\"byte\""
        },
        {
         "metadata": "{}",
         "name": "R_24",
         "type": "\"byte\""
        },
        {
         "metadata": "{}",
         "name": "R_25",
         "type": "\"byte\""
        },
        {
         "metadata": "{}",
         "name": "D_96",
         "type": "\"byte\""
        },
        {
         "metadata": "{}",
         "name": "S_22",
         "type": "\"float\""
        },
        {
         "metadata": "{}",
         "name": "S_23",
         "type": "\"float\""
        },
        {
         "metadata": "{}",
         "name": "S_24",
         "type": "\"float\""
        },
        {
         "metadata": "{}",
         "name": "S_25",
         "type": "\"float\""
        },
        {
         "metadata": "{}",
         "name": "S_26",
         "type": "\"float\""
        },
        {
         "metadata": "{}",
         "name": "D_102",
         "type": "\"float\""
        },
        {
         "metadata": "{}",
         "name": "D_103",
         "type": "\"byte\""
        },
        {
         "metadata": "{}",
         "name": "D_104",
         "type": "\"float\""
        },
        {
         "metadata": "{}",
         "name": "D_105",
         "type": "\"float\""
        },
        {
         "metadata": "{}",
         "name": "D_106",
         "type": "\"short\""
        },
        {
         "metadata": "{}",
         "name": "D_107",
         "type": "\"byte\""
        },
        {
         "metadata": "{}",
         "name": "B_36",
         "type": "\"float\""
        },
        {
         "metadata": "{}",
         "name": "B_37",
         "type": "\"float\""
        },
        {
         "metadata": "{}",
         "name": "R_26",
         "type": "\"short\""
        },
        {
         "metadata": "{}",
         "name": "R_27",
         "type": "\"float\""
        },
        {
         "metadata": "{}",
         "name": "B_38",
         "type": "\"byte\""
        },
        {
         "metadata": "{}",
         "name": "D_108",
         "type": "\"byte\""
        },
        {
         "metadata": "{}",
         "name": "D_109",
         "type": "\"byte\""
        },
        {
         "metadata": "{}",
         "name": "D_110",
         "type": "\"float\""
        },
        {
         "metadata": "{}",
         "name": "D_111",
         "type": "\"byte\""
        },
        {
         "metadata": "{}",
         "name": "B_39",
         "type": "\"float\""
        },
        {
         "metadata": "{}",
         "name": "D_112",
         "type": "\"float\""
        },
        {
         "metadata": "{}",
         "name": "B_40",
         "type": "\"float\""
        },
        {
         "metadata": "{}",
         "name": "S_27",
         "type": "\"float\""
        },
        {
         "metadata": "{}",
         "name": "D_113",
         "type": "\"byte\""
        },
        {
         "metadata": "{}",
         "name": "D_114",
         "type": "\"byte\""
        },
        {
         "metadata": "{}",
         "name": "D_115",
         "type": "\"float\""
        },
        {
         "metadata": "{}",
         "name": "D_116",
         "type": "\"byte\""
        },
        {
         "metadata": "{}",
         "name": "D_117",
         "type": "\"byte\""
        },
        {
         "metadata": "{}",
         "name": "D_118",
         "type": "\"float\""
        },
        {
         "metadata": "{}",
         "name": "D_119",
         "type": "\"float\""
        },
        {
         "metadata": "{}",
         "name": "D_120",
         "type": "\"byte\""
        },
        {
         "metadata": "{}",
         "name": "D_121",
         "type": "\"float\""
        },
        {
         "metadata": "{}",
         "name": "D_122",
         "type": "\"byte\""
        },
        {
         "metadata": "{}",
         "name": "D_123",
         "type": "\"short\""
        },
        {
         "metadata": "{}",
         "name": "D_124",
         "type": "\"byte\""
        },
        {
         "metadata": "{}",
         "name": "D_125",
         "type": "\"byte\""
        },
        {
         "metadata": "{}",
         "name": "D_126",
         "type": "\"byte\""
        },
        {
         "metadata": "{}",
         "name": "D_127",
         "type": "\"byte\""
        },
        {
         "metadata": "{}",
         "name": "D_128",
         "type": "\"float\""
        },
        {
         "metadata": "{}",
         "name": "D_129",
         "type": "\"byte\""
        },
        {
         "metadata": "{}",
         "name": "B_41",
         "type": "\"byte\""
        },
        {
         "metadata": "{}",
         "name": "B_42",
         "type": "\"float\""
        },
        {
         "metadata": "{}",
         "name": "D_130",
         "type": "\"float\""
        },
        {
         "metadata": "{}",
         "name": "D_131",
         "type": "\"float\""
        },
        {
         "metadata": "{}",
         "name": "D_132",
         "type": "\"float\""
        },
        {
         "metadata": "{}",
         "name": "D_133",
         "type": "\"float\""
        },
        {
         "metadata": "{}",
         "name": "R_28",
         "type": "\"byte\""
        },
        {
         "metadata": "{}",
         "name": "D_134",
         "type": "\"float\""
        },
        {
         "metadata": "{}",
         "name": "D_135",
         "type": "\"byte\""
        },
        {
         "metadata": "{}",
         "name": "D_136",
         "type": "\"byte\""
        },
        {
         "metadata": "{}",
         "name": "D_137",
         "type": "\"byte\""
        },
        {
         "metadata": "{}",
         "name": "D_138",
         "type": "\"byte\""
        },
        {
         "metadata": "{}",
         "name": "D_139",
         "type": "\"byte\""
        },
        {
         "metadata": "{}",
         "name": "D_140",
         "type": "\"byte\""
        },
        {
         "metadata": "{}",
         "name": "D_141",
         "type": "\"float\""
        },
        {
         "metadata": "{}",
         "name": "D_142",
         "type": "\"float\""
        },
        {
         "metadata": "{}",
         "name": "D_143",
         "type": "\"byte\""
        },
        {
         "metadata": "{}",
         "name": "D_144",
         "type": "\"float\""
        },
        {
         "metadata": "{}",
         "name": "D_145",
         "type": "\"byte\""
        }
       ],
       "type": "table"
      }
     },
     "output_type": "display_data"
    }
   ],
   "source": [
    "# Observar primeros registros del dataset de prueba\n",
    "display(test_df.limit(3))"
   ]
  },
  {
   "cell_type": "code",
   "execution_count": 0,
   "metadata": {
    "application/vnd.databricks.v1+cell": {
     "cellMetadata": {
      "byteLimit": 2048000,
      "rowLimit": 10000
     },
     "inputWidgets": {},
     "nuid": "07e56d79-5e2a-4639-baa5-79f5f1bbb824",
     "showTitle": false,
     "title": ""
    }
   },
   "outputs": [
    {
     "output_type": "display_data",
     "data": {
      "image/png": "[encoded data removed]"
     },
     "metadata": {
      "application/vnd.databricks.v1+output": {
       "addedWidgets": {},
       "arguments": {},
       "data": "data:image/png;base64,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\n",
       "datasetInfos": [],
       "metadata": {},
       "removedWidgets": [],
       "type": "image"
      }
     },
     "output_type": "display_data"
    }
   ],
   "source": [
    "# Visualizar la distribución de las etiquetas de cada clase (1:Default, 0:Non Default)\n",
    "import matplotlib.pyplot as plt\n",
    "import seaborn as sns\n",
    "fig, ax = plt.subplots(figsize=(10,5))\n",
    "train_labels_pandas = train_labels.toPandas()\n",
    "sns.countplot(x=train_labels_pandas.target)\n",
    "plt.show()"
   ]
  },
  {
   "cell_type": "code",
   "execution_count": 0,
   "metadata": {
    "application/vnd.databricks.v1+cell": {
     "cellMetadata": {
      "byteLimit": 2048000,
      "rowLimit": 10000
     },
     "inputWidgets": {},
     "nuid": "5266c72b-7d3d-47eb-9ca1-740831437cdd",
     "showTitle": false,
     "title": ""
    }
   },
   "outputs": [
    {
     "output_type": "stream",
     "name": "stdout",
     "output_type": "stream",
     "text": [
      "Los conjuntos son disjuntos\n"
     ]
    }
   ],
   "source": [
    "# Se verifica la existencia de \"fuga de datos\", la cual consiste en incorporar en el entrenamiento del modelo información que en realidad se quiere predecir, y esta misma información no estará disponible durante la inferencia. Para esto, verificaremos si algún cliente del conjunto de prueba \"se filtra\" en el conjunto de entrenamiento, es decir, analizar si ambos conjuntos de clientes son disjuntos o no.\n",
    "\n",
    "# Obtener todos los customer_ID de train_df y test_df\n",
    "train_customer_ids = train_df.select(\"customer_ID\").distinct()\n",
    "test_customer_ids = test_df.select(\"customer_ID\").distinct()\n",
    "\n",
    "# Verificar si hay algún ID en común\n",
    "common_ids = train_customer_ids.join(test_customer_ids, \"customer_ID\", \"inner\")\n",
    "common_ids_count = common_ids.count()\n",
    "\n",
    "if common_ids_count == 0:\n",
    "    print(\"Los conjuntos son disjuntos\")\n",
    "else:\n",
    "    print(\"Los conjuntos no son disjuntos\")\n",
    "    print(f\"Hay {common_ids_count} customer_ID en común entre train_df y test_df\")"
   ]
  },
  {
   "cell_type": "code",
   "execution_count": 0,
   "metadata": {
    "application/vnd.databricks.v1+cell": {
     "cellMetadata": {
      "byteLimit": 2048000,
      "rowLimit": 10000
     },
     "inputWidgets": {},
     "nuid": "b93d1f63-d45c-4d5f-91fc-5376a48e5e54",
     "showTitle": false,
     "title": ""
    }
   },
   "outputs": [
    {
     "output_type": "stream",
     "name": "stdout",
     "output_type": "stream",
     "text": [
      "Fechas mínimas y máximas en train_df: 2017-03-01, 2018-03-31\nFechas mínimas y máximas en test_df: 2018-04-01, 2019-10-31\n"
     ]
    }
   ],
   "source": [
    "# Transformación campo fecha en tipo datetime para train_df y test_df\n",
    "from pyspark.sql.functions import to_date, col, min, max\n",
    "train_df = train_df.withColumn(\"S_2\", to_date(col(\"S_2\"), 'yyyy-MM-dd'))\n",
    "test_df = test_df.withColumn(\"S_2\", to_date(col(\"S_2\"), 'yyyy-MM-dd'))\n",
    "\n",
    "# Ver limites de fechas en ambos DataFrame (DF)\n",
    "train_min_date = train_df.agg(min(col(\"S_2\")).alias(\"min_date\")).collect()[0][\"min_date\"]\n",
    "train_max_date = train_df.agg(max(col(\"S_2\")).alias(\"max_date\")).collect()[0][\"max_date\"]\n",
    "test_min_date = test_df.agg(min(col(\"S_2\")).alias(\"min_date\")).collect()[0][\"min_date\"]\n",
    "test_max_date = test_df.agg(max(col(\"S_2\")).alias(\"max_date\")).collect()[0][\"max_date\"]\n",
    "print(f\"Fechas mínimas y máximas en train_df: {train_min_date}, {train_max_date}\")\n",
    "print(f\"Fechas mínimas y máximas en test_df: {test_min_date}, {test_max_date}\")\n"
   ]
  },
  {
   "cell_type": "code",
   "execution_count": 0,
   "metadata": {
    "application/vnd.databricks.v1+cell": {
     "cellMetadata": {
      "byteLimit": 2048000,
      "rowLimit": 10000
     },
     "inputWidgets": {},
     "nuid": "bea87da1-4681-48c5-8495-3362c2654b3a",
     "showTitle": false,
     "title": ""
    }
   },
   "outputs": [
    {
     "output_type": "display_data",
     "data": {
      "image/png": "[encoded data removed]"
     },
     "metadata": {
      "application/vnd.databricks.v1+output": {
       "addedWidgets": {},
       "arguments": {},
       "data": "data:image/png;base64,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\n",
       "datasetInfos": [],
       "metadata": {},
       "removedWidgets": [],
       "type": "image"
      }
     },
     "output_type": "display_data"
    },
    {
     "output_type": "display_data",
     "data": {
      "image/png": "[encoded data removed]"
     },
     "metadata": {
      "application/vnd.databricks.v1+output": {
       "addedWidgets": {},
       "arguments": {},
       "data": "data:image/png;base64,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\n",
       "datasetInfos": [],
       "metadata": {},
       "removedWidgets": [],
       "type": "image"
      }
     },
     "output_type": "display_data"
    }
   ],
   "source": [
    "# Ver evolución de eventos en los dataset a lo largo del tiempo\n",
    "def graph_customer_id(df, name_df):\n",
    "    count_by_date = df.groupBy(\"S_2\").count().orderBy(\"S_2\")\n",
    "    count_by_date_pd = count_by_date.toPandas()\n",
    "    fig, ax = plt.subplots(figsize=(20, 5))\n",
    "    ax.plot(count_by_date_pd[\"S_2\"], count_by_date_pd[\"count\"])\n",
    "    plt.title(name_df + \" vs tiempo\")\n",
    "    plt.xlabel(\"Fecha\")\n",
    "    plt.ylabel(\"Cuenta de eventos en DF\")\n",
    "    plt.xticks(rotation=45)\n",
    "    plt.show()\n",
    "\n",
    "graph_customer_id(train_df, \"Train DF\")\n",
    "graph_customer_id(test_df, \"Test DF\")"
   ]
  },
  {
   "cell_type": "code",
   "execution_count": 0,
   "metadata": {
    "application/vnd.databricks.v1+cell": {
     "cellMetadata": {
      "byteLimit": 2048000,
      "rowLimit": 10000
     },
     "inputWidgets": {},
     "nuid": "f37c8ea8-23a8-4ab5-a74d-e9dec25226dc",
     "showTitle": false,
     "title": ""
    }
   },
   "outputs": [
    {
     "output_type": "stream",
     "name": "stdout",
     "output_type": "stream",
     "text": [
      "Todos los customer_ID de train_labels están en train_df\nHay 458913 customer_ID de train_labels que no están en test_df\n"
     ]
    }
   ],
   "source": [
    "# Verificar si los IDs de train_labels están en train_df y/o en test_df\n",
    "labels_ids = train_labels.select(\"customer_ID\").distinct()\n",
    "\n",
    "train_df_ids = train_df.select(\"customer_ID\").distinct()\n",
    "test_df_ids = test_df.select(\"customer_ID\").distinct()\n",
    "\n",
    "missing_train_ids = labels_ids.join(train_df_ids, \"customer_ID\", \"left_anti\")\n",
    "missing_test_ids = labels_ids.join(test_df_ids, \"customer_ID\", \"left_anti\")\n",
    "\n",
    "missing_train_ids_count = missing_train_ids.count()\n",
    "missing_test_ids_count = missing_test_ids.count()\n",
    "\n",
    "if missing_train_ids_count == 0:\n",
    "    print(\"Todos los customer_ID de train_labels están en train_df\")\n",
    "else:\n",
    "    print(f\"Hay {missing_train_ids_count} customer_ID de train_labels que no están en train_df\")\n",
    "\n",
    "if missing_test_ids_count == 0:\n",
    "    print(\"Todos los customer_ID de train_labels están en test_df\")\n",
    "else:\n",
    "    print(f\"Hay {missing_test_ids_count} customer_ID de train_labels que no están en test_df\")\n"
   ]
  },
  {
   "cell_type": "code",
   "execution_count": 0,
   "metadata": {
    "application/vnd.databricks.v1+cell": {
     "cellMetadata": {
      "byteLimit": 2048000,
      "rowLimit": 10000
     },
     "inputWidgets": {},
     "nuid": "74749747-e712-4f1b-af9d-b994916e665d",
     "showTitle": false,
     "title": ""
    }
   },
   "outputs": [
    {
     "output_type": "stream",
     "name": "stdout",
     "output_type": "stream",
     "text": [
      "Total de registros: 5531451\nRegistros únicos de customer_ID: 458913\nHay duplicados en la columna customer_ID.\n"
     ]
    }
   ],
   "source": [
    "# Contar el total de registros en train_df\n",
    "total_records = train_df.count()\n",
    "\n",
    "# Contar los registros únicos de train_df\n",
    "unique_records = train_df.select(\"customer_ID\").distinct().count()\n",
    "\n",
    "# Imprimir los resultados\n",
    "print(f\"Total de registros: {total_records}\")\n",
    "print(f\"Registros únicos de customer_ID: {unique_records}\")\n",
    "\n",
    "# Verificar si hay duplicados\n",
    "if total_records > unique_records:\n",
    "    print(\"Hay duplicados en la columna customer_ID.\")\n",
    "else:\n",
    "    print(\"No hay duplicados en la columna customer_ID.\")"
   ]
  },
  {
   "cell_type": "markdown",
   "metadata": {
    "application/vnd.databricks.v1+cell": {
     "cellMetadata": {},
     "inputWidgets": {},
     "nuid": "3190104b-de4c-469e-94b2-a4e1d10f80df",
     "showTitle": false,
     "title": ""
    }
   },
   "source": [
    "La información recabada en el análisis exploratorio nos servirá más adelante para poder tomar decisiones sobre los datasets y generar estrategias para depurarlos."
   ]
  },
  {
   "cell_type": "markdown",
   "metadata": {
    "application/vnd.databricks.v1+cell": {
     "cellMetadata": {},
     "inputWidgets": {},
     "nuid": "1315ec7e-9ae9-4240-99c1-e05af13007f4",
     "showTitle": false,
     "title": ""
    }
   },
   "source": [
    "### Ingeniería de características"
   ]
  },
  {
   "cell_type": "code",
   "execution_count": 0,
   "metadata": {
    "application/vnd.databricks.v1+cell": {
     "cellMetadata": {
      "byteLimit": 2048000,
      "rowLimit": 10000
     },
     "inputWidgets": {},
     "nuid": "9b95fb9c-84dc-4e98-af53-6c76c7913552",
     "showTitle": false,
     "title": ""
    }
   },
   "outputs": [],
   "source": [
    "# Se agregan las etiquetas de train_labels a train_df\n",
    "train_df = train_df.join(train_labels, on=\"customer_ID\", how=\"left\")"
   ]
  },
  {
   "cell_type": "code",
   "execution_count": 0,
   "metadata": {
    "application/vnd.databricks.v1+cell": {
     "cellMetadata": {
      "byteLimit": 2048000,
      "rowLimit": 10000
     },
     "inputWidgets": {},
     "nuid": "e7bc1192-c1f4-48e5-9a74-366ef96ae9d7",
     "showTitle": false,
     "title": ""
    }
   },
   "outputs": [],
   "source": [
    "# Se crea lista sin las columnas \"customer_ID\" y fecha (\"S_2\") para análisis.\n",
    "drop_columns = ['customer_ID', 'S_2']\n",
    "features = [col for col in train_df.columns if col not in drop_columns]\n",
    "\n",
    "# Además, según fue informado en enunciado, los nombres de las columnas categóricas son las siguientes:\n",
    "categorical_col = ['B_30', 'B_38', 'D_114', 'D_116', 'D_117', 'D_120', 'D_126', 'D_63', 'D_64', 'D_66', 'D_68']\n",
    "\n",
    "# Por ende las columnas numéricas son las siguientes:\n",
    "numerical_col = [col for col in features if col not in categorical_col + ['target']]"
   ]
  },
  {
   "cell_type": "code",
   "execution_count": 0,
   "metadata": {
    "application/vnd.databricks.v1+cell": {
     "cellMetadata": {
      "byteLimit": 2048000,
      "rowLimit": 10000
     },
     "inputWidgets": {},
     "nuid": "8232b199-6670-4774-881c-ce5962948ddb",
     "showTitle": false,
     "title": ""
    }
   },
   "outputs": [
    {
     "output_type": "stream",
     "name": "stdout",
     "output_type": "stream",
     "text": [
      "+------+-------+------------------+\n|target|  count|        percentage|\n+------+-------+------------------+\n|     1|1377869|24.909720794778803|\n|     0|4153582|  75.0902792052212|\n+------+-------+------------------+\n\n"
     ]
    }
   ],
   "source": [
    "# Se analiza la distribución de la variable objetivo (columna \"target\") en train_df\n",
    "count_df = train_df.groupBy(\"target\").agg(count(\"target\").alias(\"count\"))\n",
    "total_rows = train_df.count()\n",
    "distribution_df = count_df.withColumn(\"percentage\", (col(\"count\") / total_rows) * 100)\n",
    "distribution_df.show()"
   ]
  },
  {
   "cell_type": "markdown",
   "metadata": {
    "application/vnd.databricks.v1+cell": {
     "cellMetadata": {},
     "inputWidgets": {},
     "nuid": "89b497fd-d31b-426f-94d1-6325153b447f",
     "showTitle": false,
     "title": ""
    }
   },
   "source": [
    "Al analizar la distribución de etiquetas en el conjunto de entrenamiento, se logra apreciar con claridad que el conjunto está desequilibrado, por cuanto el 25% de los registros cae en default. Lo que seguirá, es analizar, cuantos clientes son los que componen estas distribuciones, es decir, quitando id duplicados."
   ]
  },
  {
   "cell_type": "code",
   "execution_count": 0,
   "metadata": {
    "application/vnd.databricks.v1+cell": {
     "cellMetadata": {
      "byteLimit": 2048000,
      "rowLimit": 10000
     },
     "inputWidgets": {},
     "nuid": "a10174d7-cf90-4305-be16-b6a70c8a8bb1",
     "showTitle": false,
     "title": ""
    }
   },
   "outputs": [
    {
     "output_type": "stream",
     "name": "stdout",
     "output_type": "stream",
     "text": [
      "+------+------+-----------------+\n|target| count|       percentage|\n+------+------+-----------------+\n|     1|118828|25.89336105100531|\n|     0|340085|74.10663894899469|\n+------+------+-----------------+\n\n"
     ]
    }
   ],
   "source": [
    "# Se analiza la distribución de la variable objetivo quitando id de clientes duplicados.\n",
    "train_no_duplicates = train_df.dropDuplicates([\"customer_ID\"])\n",
    "count_df = train_no_duplicates.groupBy(\"target\").agg(count(\"target\").alias(\"count\"))\n",
    "total_rows = train_no_duplicates.count()\n",
    "distrin_df_no_dupl = count_df.withColumn(\"percentage\", (col(\"count\") / total_rows) * 100)\n",
    "distrin_df_no_dupl.show()"
   ]
  },
  {
   "cell_type": "markdown",
   "metadata": {
    "application/vnd.databricks.v1+cell": {
     "cellMetadata": {},
     "inputWidgets": {},
     "nuid": "e3529a2f-505b-4c75-8461-41c82442f3c1",
     "showTitle": false,
     "title": ""
    }
   },
   "source": [
    "Se logra apreciar que al quitar duplicados, la distribución 75/25 entre no default/default permanece constante. Dado este nivel de desbalanceo de datos, se puede hipotetizar a futuro, que utilizar técnicas de ensamble como bagging o boosting podrán ayudar a mejorar el rendimiento.\n",
    "\n",
    "Dado este escenario, cualquier muestreo que se haga, dado el nivel desbalance, deberá ser estratificado."
   ]
  },
  {
   "cell_type": "code",
   "execution_count": 0,
   "metadata": {
    "application/vnd.databricks.v1+cell": {
     "cellMetadata": {
      "byteLimit": 2048000,
      "rowLimit": 10000
     },
     "inputWidgets": {},
     "nuid": "a1e1ecba-4a50-45d4-9dad-7706a1ec329b",
     "showTitle": false,
     "title": ""
    }
   },
   "outputs": [
    {
     "output_type": "display_data",
     "data": {
      "text/html": [
       "<style scoped>\n",
       "  .table-result-container {\n",
       "    max-height: 300px;\n",
       "    overflow: auto;\n",
       "  }\n",
       "  table, th, td {\n",
       "    border: 1px solid black;\n",
       "    border-collapse: collapse;\n",
       "  }\n",
       "  th, td {\n",
       "    padding: 5px;\n",
       "  }\n",
       "  th {\n",
       "    text-align: left;\n",
       "  }\n",
       "</style><div class='table-result-container'><table class='table-result'><thead style='background-color: white'><tr><th>P_2</th><th>D_39</th><th>B_1</th><th>B_2</th><th>R_1</th><th>S_3</th><th>D_41</th><th>B_3</th><th>D_42</th><th>D_43</th><th>D_44</th><th>B_4</th><th>D_45</th><th>B_5</th><th>R_2</th><th>D_46</th><th>D_47</th><th>D_48</th><th>D_49</th><th>B_6</th><th>B_7</th><th>B_8</th><th>D_50</th><th>D_51</th><th>B_9</th><th>R_3</th><th>D_52</th><th>P_3</th><th>B_10</th><th>D_53</th><th>S_5</th><th>B_11</th><th>S_6</th><th>D_54</th><th>R_4</th><th>S_7</th><th>B_12</th><th>S_8</th><th>D_55</th><th>D_56</th><th>B_13</th><th>R_5</th><th>D_58</th><th>S_9</th><th>B_14</th><th>D_59</th><th>D_60</th><th>D_61</th><th>B_15</th><th>S_11</th><th>D_62</th><th>D_63</th><th>D_64</th><th>D_65</th><th>B_16</th><th>B_17</th><th>B_18</th><th>B_19</th><th>D_66</th><th>B_20</th><th>D_68</th><th>S_12</th><th>R_6</th><th>S_13</th><th>B_21</th><th>D_69</th><th>B_22</th><th>D_70</th><th>D_71</th><th>D_72</th><th>S_15</th><th>B_23</th><th>D_73</th><th>P_4</th><th>D_74</th><th>D_75</th><th>D_76</th><th>B_24</th><th>R_7</th><th>D_77</th><th>B_25</th><th>B_26</th><th>D_78</th><th>D_79</th><th>R_8</th><th>R_9</th><th>S_16</th><th>D_80</th><th>R_10</th><th>R_11</th><th>B_27</th><th>D_81</th><th>D_82</th><th>S_17</th><th>R_12</th><th>B_28</th><th>R_13</th><th>D_83</th><th>R_14</th><th>R_15</th><th>D_84</th><th>R_16</th><th>B_29</th><th>B_30</th><th>S_18</th><th>D_86</th><th>D_87</th><th>R_17</th><th>R_18</th><th>D_88</th><th>B_31</th><th>S_19</th><th>R_19</th><th>B_32</th><th>S_20</th><th>R_20</th><th>R_21</th><th>B_33</th><th>D_89</th><th>R_22</th><th>R_23</th><th>D_91</th><th>D_92</th><th>D_93</th><th>D_94</th><th>R_24</th><th>R_25</th><th>D_96</th><th>S_22</th><th>S_23</th><th>S_24</th><th>S_25</th><th>S_26</th><th>D_102</th><th>D_103</th><th>D_104</th><th>D_105</th><th>D_106</th><th>D_107</th><th>B_36</th><th>B_37</th><th>R_26</th><th>R_27</th><th>B_38</th><th>D_108</th><th>D_109</th><th>D_110</th><th>D_111</th><th>B_39</th><th>D_112</th><th>B_40</th><th>S_27</th><th>D_113</th><th>D_114</th><th>D_115</th><th>D_116</th><th>D_117</th><th>D_118</th><th>D_119</th><th>D_120</th><th>D_121</th><th>D_122</th><th>D_123</th><th>D_124</th><th>D_125</th><th>D_126</th><th>D_127</th><th>D_128</th><th>D_129</th><th>B_41</th><th>B_42</th><th>D_130</th><th>D_131</th><th>D_132</th><th>D_133</th><th>R_28</th><th>D_134</th><th>D_135</th><th>D_136</th><th>D_137</th><th>D_138</th><th>D_139</th><th>D_140</th><th>D_141</th><th>D_142</th><th>D_143</th><th>D_144</th><th>D_145</th><th>target</th></tr></thead><tbody><tr><td>2870</td><td>0</td><td>0</td><td>108</td><td>0</td><td>71367</td><td>108</td><td>108</td><td>305855</td><td>109996</td><td>0</td><td>0</td><td>109</td><td>0</td><td>0</td><td>78697</td><td>0</td><td>49558</td><td>0</td><td>21</td><td>0</td><td>1338</td><td>187992</td><td>0</td><td>0</td><td>0</td><td>1664</td><td>15629</td><td>0</td><td>268275</td><td>0</td><td>0</td><td>0</td><td>108</td><td>0</td><td>71367</td><td>0</td><td>0</td><td>12285</td><td>174298</td><td>2485</td><td>0</td><td>0</td><td>179992</td><td>0</td><td>0</td><td>0</td><td>42297</td><td>499</td><td>0</td><td>52487</td><td>0</td><td>0</td><td>0</td><td>0</td><td>216174</td><td>0</td><td>0</td><td>0</td><td>0</td><td>0</td><td>0</td><td>0</td><td>0</td><td>0</td><td>10211</td><td>0</td><td>0</td><td>0</td><td>0</td><td>0</td><td>0</td><td>342050</td><td>0</td><td>0</td><td>0</td><td>302195</td><td>0</td><td>0</td><td>145118</td><td>499</td><td>108</td><td>0</td><td>0</td><td>0</td><td>0</td><td>0</td><td>0</td><td>0</td><td>0</td><td>108</td><td>0</td><td>0</td><td>0</td><td>3</td><td>0</td><td>0</td><td>0</td><td>0</td><td>0</td><td>0</td><td>0</td><td>320746</td><td>0</td><td>0</td><td>0</td><td>0</td><td>0</td><td>0</td><td>345041</td><td>0</td><td>0</td><td>0</td><td>0</td><td>0</td><td>0</td><td>0</td><td>0</td><td>0</td><td>0</td><td>0</td><td>0</td><td>0</td><td>0</td><td>0</td><td>0</td><td>0</td><td>0</td><td>1318</td><td>16</td><td>1292</td><td>585</td><td>50</td><td>2187</td><td>0</td><td>5663</td><td>195677</td><td>0</td><td>0</td><td>0</td><td>6</td><td>0</td><td>7397</td><td>0</td><td>0</td><td>0</td><td>343804</td><td>0</td><td>343681</td><td>158</td><td>6</td><td>93456</td><td>0</td><td>0</td><td>9220</td><td>0</td><td>0</td><td>9220</td><td>9220</td><td>0</td><td>9220</td><td>0</td><td>0</td><td>0</td><td>0</td><td>0</td><td>0</td><td>5663</td><td>0</td><td>0</td><td>340249</td><td>5663</td><td>5663</td><td>319760</td><td>2284</td><td>0</td><td>336504</td><td>0</td><td>0</td><td>0</td><td>0</td><td>0</td><td>0</td><td>5663</td><td>292029</td><td>0</td><td>2189</td><td>0</td><td>0</td></tr></tbody></table></div>"
      ]
     },
     "metadata": {
      "application/vnd.databricks.v1+output": {
       "addedWidgets": {},
       "aggData": [],
       "aggError": "",
       "aggOverflow": false,
       "aggSchema": [],
       "aggSeriesLimitReached": false,
       "aggType": "",
       "arguments": {},
       "columnCustomDisplayInfos": {},
       "data": [
        [
         2870,
         0,
         0,
         108,
         0,
         71367,
         108,
         108,
         305855,
         109996,
         0,
         0,
         109,
         0,
         0,
         78697,
         0,
         49558,
         0,
         21,
         0,
         1338,
         187992,
         0,
         0,
         0,
         1664,
         15629,
         0,
         268275,
         0,
         0,
         0,
         108,
         0,
         71367,
         0,
         0,
         12285,
         174298,
         2485,
         0,
         0,
         179992,
         0,
         0,
         0,
         42297,
         499,
         0,
         52487,
         0,
         0,
         0,
         0,
         216174,
         0,
         0,
         0,
         0,
         0,
         0,
         0,
         0,
         0,
         10211,
         0,
         0,
         0,
         0,
         0,
         0,
         342050,
         0,
         0,
         0,
         302195,
         0,
         0,
         145118,
         499,
         108,
         0,
         0,
         0,
         0,
         0,
         0,
         0,
         0,
         108,
         0,
         0,
         0,
         3,
         0,
         0,
         0,
         0,
         0,
         0,
         0,
         320746,
         0,
         0,
         0,
         0,
         0,
         0,
         345041,
         0,
         0,
         0,
         0,
         0,
         0,
         0,
         0,
         0,
         0,
         0,
         0,
         0,
         0,
         0,
         0,
         0,
         0,
         1318,
         16,
         1292,
         585,
         50,
         2187,
         0,
         5663,
         195677,
         0,
         0,
         0,
         6,
         0,
         7397,
         0,
         0,
         0,
         343804,
         0,
         343681,
         158,
         6,
         93456,
         0,
         0,
         9220,
         0,
         0,
         9220,
         9220,
         0,
         9220,
         0,
         0,
         0,
         0,
         0,
         0,
         5663,
         0,
         0,
         340249,
         5663,
         5663,
         319760,
         2284,
         0,
         336504,
         0,
         0,
         0,
         0,
         0,
         0,
         5663,
         292029,
         0,
         2189,
         0,
         0
        ]
       ],
       "datasetInfos": [],
       "dbfsResultPath": null,
       "isJsonSchema": true,
       "metadata": {},
       "overflow": false,
       "plotOptions": {
        "customPlotOptions": {},
        "displayType": "table",
        "pivotAggregation": null,
        "pivotColumns": null,
        "xColumns": null,
        "yColumns": null
       },
       "removedWidgets": [],
       "schema": [
        {
         "metadata": "{}",
         "name": "P_2",
         "type": "\"long\""
        },
        {
         "metadata": "{}",
         "name": "D_39",
         "type": "\"long\""
        },
        {
         "metadata": "{}",
         "name": "B_1",
         "type": "\"long\""
        },
        {
         "metadata": "{}",
         "name": "B_2",
         "type": "\"long\""
        },
        {
         "metadata": "{}",
         "name": "R_1",
         "type": "\"long\""
        },
        {
         "metadata": "{}",
         "name": "S_3",
         "type": "\"long\""
        },
        {
         "metadata": "{}",
         "name": "D_41",
         "type": "\"long\""
        },
        {
         "metadata": "{}",
         "name": "B_3",
         "type": "\"long\""
        },
        {
         "metadata": "{}",
         "name": "D_42",
         "type": "\"long\""
        },
        {
         "metadata": "{}",
         "name": "D_43",
         "type": "\"long\""
        },
        {
         "metadata": "{}",
         "name": "D_44",
         "type": "\"long\""
        },
        {
         "metadata": "{}",
         "name": "B_4",
         "type": "\"long\""
        },
        {
         "metadata": "{}",
         "name": "D_45",
         "type": "\"long\""
        },
        {
         "metadata": "{}",
         "name": "B_5",
         "type": "\"long\""
        },
        {
         "metadata": "{}",
         "name": "R_2",
         "type": "\"long\""
        },
        {
         "metadata": "{}",
         "name": "D_46",
         "type": "\"long\""
        },
        {
         "metadata": "{}",
         "name": "D_47",
         "type": "\"long\""
        },
        {
         "metadata": "{}",
         "name": "D_48",
         "type": "\"long\""
        },
        {
         "metadata": "{}",
         "name": "D_49",
         "type": "\"long\""
        },
        {
         "metadata": "{}",
         "name": "B_6",
         "type": "\"long\""
        },
        {
         "metadata": "{}",
         "name": "B_7",
         "type": "\"long\""
        },
        {
         "metadata": "{}",
         "name": "B_8",
         "type": "\"long\""
        },
        {
         "metadata": "{}",
         "name": "D_50",
         "type": "\"long\""
        },
        {
         "metadata": "{}",
         "name": "D_51",
         "type": "\"long\""
        },
        {
         "metadata": "{}",
         "name": "B_9",
         "type": "\"long\""
        },
        {
         "metadata": "{}",
         "name": "R_3",
         "type": "\"long\""
        },
        {
         "metadata": "{}",
         "name": "D_52",
         "type": "\"long\""
        },
        {
         "metadata": "{}",
         "name": "P_3",
         "type": "\"long\""
        },
        {
         "metadata": "{}",
         "name": "B_10",
         "type": "\"long\""
        },
        {
         "metadata": "{}",
         "name": "D_53",
         "type": "\"long\""
        },
        {
         "metadata": "{}",
         "name": "S_5",
         "type": "\"long\""
        },
        {
         "metadata": "{}",
         "name": "B_11",
         "type": "\"long\""
        },
        {
         "metadata": "{}",
         "name": "S_6",
         "type": "\"long\""
        },
        {
         "metadata": "{}",
         "name": "D_54",
         "type": "\"long\""
        },
        {
         "metadata": "{}",
         "name": "R_4",
         "type": "\"long\""
        },
        {
         "metadata": "{}",
         "name": "S_7",
         "type": "\"long\""
        },
        {
         "metadata": "{}",
         "name": "B_12",
         "type": "\"long\""
        },
        {
         "metadata": "{}",
         "name": "S_8",
         "type": "\"long\""
        },
        {
         "metadata": "{}",
         "name": "D_55",
         "type": "\"long\""
        },
        {
         "metadata": "{}",
         "name": "D_56",
         "type": "\"long\""
        },
        {
         "metadata": "{}",
         "name": "B_13",
         "type": "\"long\""
        },
        {
         "metadata": "{}",
         "name": "R_5",
         "type": "\"long\""
        },
        {
         "metadata": "{}",
         "name": "D_58",
         "type": "\"long\""
        },
        {
         "metadata": "{}",
         "name": "S_9",
         "type": "\"long\""
        },
        {
         "metadata": "{}",
         "name": "B_14",
         "type": "\"long\""
        },
        {
         "metadata": "{}",
         "name": "D_59",
         "type": "\"long\""
        },
        {
         "metadata": "{}",
         "name": "D_60",
         "type": "\"long\""
        },
        {
         "metadata": "{}",
         "name": "D_61",
         "type": "\"long\""
        },
        {
         "metadata": "{}",
         "name": "B_15",
         "type": "\"long\""
        },
        {
         "metadata": "{}",
         "name": "S_11",
         "type": "\"long\""
        },
        {
         "metadata": "{}",
         "name": "D_62",
         "type": "\"long\""
        },
        {
         "metadata": "{}",
         "name": "D_63",
         "type": "\"long\""
        },
        {
         "metadata": "{}",
         "name": "D_64",
         "type": "\"long\""
        },
        {
         "metadata": "{}",
         "name": "D_65",
         "type": "\"long\""
        },
        {
         "metadata": "{}",
         "name": "B_16",
         "type": "\"long\""
        },
        {
         "metadata": "{}",
         "name": "B_17",
         "type": "\"long\""
        },
        {
         "metadata": "{}",
         "name": "B_18",
         "type": "\"long\""
        },
        {
         "metadata": "{}",
         "name": "B_19",
         "type": "\"long\""
        },
        {
         "metadata": "{}",
         "name": "D_66",
         "type": "\"long\""
        },
        {
         "metadata": "{}",
         "name": "B_20",
         "type": "\"long\""
        },
        {
         "metadata": "{}",
         "name": "D_68",
         "type": "\"long\""
        },
        {
         "metadata": "{}",
         "name": "S_12",
         "type": "\"long\""
        },
        {
         "metadata": "{}",
         "name": "R_6",
         "type": "\"long\""
        },
        {
         "metadata": "{}",
         "name": "S_13",
         "type": "\"long\""
        },
        {
         "metadata": "{}",
         "name": "B_21",
         "type": "\"long\""
        },
        {
         "metadata": "{}",
         "name": "D_69",
         "type": "\"long\""
        },
        {
         "metadata": "{}",
         "name": "B_22",
         "type": "\"long\""
        },
        {
         "metadata": "{}",
         "name": "D_70",
         "type": "\"long\""
        },
        {
         "metadata": "{}",
         "name": "D_71",
         "type": "\"long\""
        },
        {
         "metadata": "{}",
         "name": "D_72",
         "type": "\"long\""
        },
        {
         "metadata": "{}",
         "name": "S_15",
         "type": "\"long\""
        },
        {
         "metadata": "{}",
         "name": "B_23",
         "type": "\"long\""
        },
        {
         "metadata": "{}",
         "name": "D_73",
         "type": "\"long\""
        },
        {
         "metadata": "{}",
         "name": "P_4",
         "type": "\"long\""
        },
        {
         "metadata": "{}",
         "name": "D_74",
         "type": "\"long\""
        },
        {
         "metadata": "{}",
         "name": "D_75",
         "type": "\"long\""
        },
        {
         "metadata": "{}",
         "name": "D_76",
         "type": "\"long\""
        },
        {
         "metadata": "{}",
         "name": "B_24",
         "type": "\"long\""
        },
        {
         "metadata": "{}",
         "name": "R_7",
         "type": "\"long\""
        },
        {
         "metadata": "{}",
         "name": "D_77",
         "type": "\"long\""
        },
        {
         "metadata": "{}",
         "name": "B_25",
         "type": "\"long\""
        },
        {
         "metadata": "{}",
         "name": "B_26",
         "type": "\"long\""
        },
        {
         "metadata": "{}",
         "name": "D_78",
         "type": "\"long\""
        },
        {
         "metadata": "{}",
         "name": "D_79",
         "type": "\"long\""
        },
        {
         "metadata": "{}",
         "name": "R_8",
         "type": "\"long\""
        },
        {
         "metadata": "{}",
         "name": "R_9",
         "type": "\"long\""
        },
        {
         "metadata": "{}",
         "name": "S_16",
         "type": "\"long\""
        },
        {
         "metadata": "{}",
         "name": "D_80",
         "type": "\"long\""
        },
        {
         "metadata": "{}",
         "name": "R_10",
         "type": "\"long\""
        },
        {
         "metadata": "{}",
         "name": "R_11",
         "type": "\"long\""
        },
        {
         "metadata": "{}",
         "name": "B_27",
         "type": "\"long\""
        },
        {
         "metadata": "{}",
         "name": "D_81",
         "type": "\"long\""
        },
        {
         "metadata": "{}",
         "name": "D_82",
         "type": "\"long\""
        },
        {
         "metadata": "{}",
         "name": "S_17",
         "type": "\"long\""
        },
        {
         "metadata": "{}",
         "name": "R_12",
         "type": "\"long\""
        },
        {
         "metadata": "{}",
         "name": "B_28",
         "type": "\"long\""
        },
        {
         "metadata": "{}",
         "name": "R_13",
         "type": "\"long\""
        },
        {
         "metadata": "{}",
         "name": "D_83",
         "type": "\"long\""
        },
        {
         "metadata": "{}",
         "name": "R_14",
         "type": "\"long\""
        },
        {
         "metadata": "{}",
         "name": "R_15",
         "type": "\"long\""
        },
        {
         "metadata": "{}",
         "name": "D_84",
         "type": "\"long\""
        },
        {
         "metadata": "{}",
         "name": "R_16",
         "type": "\"long\""
        },
        {
         "metadata": "{}",
         "name": "B_29",
         "type": "\"long\""
        },
        {
         "metadata": "{}",
         "name": "B_30",
         "type": "\"long\""
        },
        {
         "metadata": "{}",
         "name": "S_18",
         "type": "\"long\""
        },
        {
         "metadata": "{}",
         "name": "D_86",
         "type": "\"long\""
        },
        {
         "metadata": "{}",
         "name": "D_87",
         "type": "\"long\""
        },
        {
         "metadata": "{}",
         "name": "R_17",
         "type": "\"long\""
        },
        {
         "metadata": "{}",
         "name": "R_18",
         "type": "\"long\""
        },
        {
         "metadata": "{}",
         "name": "D_88",
         "type": "\"long\""
        },
        {
         "metadata": "{}",
         "name": "B_31",
         "type": "\"long\""
        },
        {
         "metadata": "{}",
         "name": "S_19",
         "type": "\"long\""
        },
        {
         "metadata": "{}",
         "name": "R_19",
         "type": "\"long\""
        },
        {
         "metadata": "{}",
         "name": "B_32",
         "type": "\"long\""
        },
        {
         "metadata": "{}",
         "name": "S_20",
         "type": "\"long\""
        },
        {
         "metadata": "{}",
         "name": "R_20",
         "type": "\"long\""
        },
        {
         "metadata": "{}",
         "name": "R_21",
         "type": "\"long\""
        },
        {
         "metadata": "{}",
         "name": "B_33",
         "type": "\"long\""
        },
        {
         "metadata": "{}",
         "name": "D_89",
         "type": "\"long\""
        },
        {
         "metadata": "{}",
         "name": "R_22",
         "type": "\"long\""
        },
        {
         "metadata": "{}",
         "name": "R_23",
         "type": "\"long\""
        },
        {
         "metadata": "{}",
         "name": "D_91",
         "type": "\"long\""
        },
        {
         "metadata": "{}",
         "name": "D_92",
         "type": "\"long\""
        },
        {
         "metadata": "{}",
         "name": "D_93",
         "type": "\"long\""
        },
        {
         "metadata": "{}",
         "name": "D_94",
         "type": "\"long\""
        },
        {
         "metadata": "{}",
         "name": "R_24",
         "type": "\"long\""
        },
        {
         "metadata": "{}",
         "name": "R_25",
         "type": "\"long\""
        },
        {
         "metadata": "{}",
         "name": "D_96",
         "type": "\"long\""
        },
        {
         "metadata": "{}",
         "name": "S_22",
         "type": "\"long\""
        },
        {
         "metadata": "{}",
         "name": "S_23",
         "type": "\"long\""
        },
        {
         "metadata": "{}",
         "name": "S_24",
         "type": "\"long\""
        },
        {
         "metadata": "{}",
         "name": "S_25",
         "type": "\"long\""
        },
        {
         "metadata": "{}",
         "name": "S_26",
         "type": "\"long\""
        },
        {
         "metadata": "{}",
         "name": "D_102",
         "type": "\"long\""
        },
        {
         "metadata": "{}",
         "name": "D_103",
         "type": "\"long\""
        },
        {
         "metadata": "{}",
         "name": "D_104",
         "type": "\"long\""
        },
        {
         "metadata": "{}",
         "name": "D_105",
         "type": "\"long\""
        },
        {
         "metadata": "{}",
         "name": "D_106",
         "type": "\"long\""
        },
        {
         "metadata": "{}",
         "name": "D_107",
         "type": "\"long\""
        },
        {
         "metadata": "{}",
         "name": "B_36",
         "type": "\"long\""
        },
        {
         "metadata": "{}",
         "name": "B_37",
         "type": "\"long\""
        },
        {
         "metadata": "{}",
         "name": "R_26",
         "type": "\"long\""
        },
        {
         "metadata": "{}",
         "name": "R_27",
         "type": "\"long\""
        },
        {
         "metadata": "{}",
         "name": "B_38",
         "type": "\"long\""
        },
        {
         "metadata": "{}",
         "name": "D_108",
         "type": "\"long\""
        },
        {
         "metadata": "{}",
         "name": "D_109",
         "type": "\"long\""
        },
        {
         "metadata": "{}",
         "name": "D_110",
         "type": "\"long\""
        },
        {
         "metadata": "{}",
         "name": "D_111",
         "type": "\"long\""
        },
        {
         "metadata": "{}",
         "name": "B_39",
         "type": "\"long\""
        },
        {
         "metadata": "{}",
         "name": "D_112",
         "type": "\"long\""
        },
        {
         "metadata": "{}",
         "name": "B_40",
         "type": "\"long\""
        },
        {
         "metadata": "{}",
         "name": "S_27",
         "type": "\"long\""
        },
        {
         "metadata": "{}",
         "name": "D_113",
         "type": "\"long\""
        },
        {
         "metadata": "{}",
         "name": "D_114",
         "type": "\"long\""
        },
        {
         "metadata": "{}",
         "name": "D_115",
         "type": "\"long\""
        },
        {
         "metadata": "{}",
         "name": "D_116",
         "type": "\"long\""
        },
        {
         "metadata": "{}",
         "name": "D_117",
         "type": "\"long\""
        },
        {
         "metadata": "{}",
         "name": "D_118",
         "type": "\"long\""
        },
        {
         "metadata": "{}",
         "name": "D_119",
         "type": "\"long\""
        },
        {
         "metadata": "{}",
         "name": "D_120",
         "type": "\"long\""
        },
        {
         "metadata": "{}",
         "name": "D_121",
         "type": "\"long\""
        },
        {
         "metadata": "{}",
         "name": "D_122",
         "type": "\"long\""
        },
        {
         "metadata": "{}",
         "name": "D_123",
         "type": "\"long\""
        },
        {
         "metadata": "{}",
         "name": "D_124",
         "type": "\"long\""
        },
        {
         "metadata": "{}",
         "name": "D_125",
         "type": "\"long\""
        },
        {
         "metadata": "{}",
         "name": "D_126",
         "type": "\"long\""
        },
        {
         "metadata": "{}",
         "name": "D_127",
         "type": "\"long\""
        },
        {
         "metadata": "{}",
         "name": "D_128",
         "type": "\"long\""
        },
        {
         "metadata": "{}",
         "name": "D_129",
         "type": "\"long\""
        },
        {
         "metadata": "{}",
         "name": "B_41",
         "type": "\"long\""
        },
        {
         "metadata": "{}",
         "name": "B_42",
         "type": "\"long\""
        },
        {
         "metadata": "{}",
         "name": "D_130",
         "type": "\"long\""
        },
        {
         "metadata": "{}",
         "name": "D_131",
         "type": "\"long\""
        },
        {
         "metadata": "{}",
         "name": "D_132",
         "type": "\"long\""
        },
        {
         "metadata": "{}",
         "name": "D_133",
         "type": "\"long\""
        },
        {
         "metadata": "{}",
         "name": "R_28",
         "type": "\"long\""
        },
        {
         "metadata": "{}",
         "name": "D_134",
         "type": "\"long\""
        },
        {
         "metadata": "{}",
         "name": "D_135",
         "type": "\"long\""
        },
        {
         "metadata": "{}",
         "name": "D_136",
         "type": "\"long\""
        },
        {
         "metadata": "{}",
         "name": "D_137",
         "type": "\"long\""
        },
        {
         "metadata": "{}",
         "name": "D_138",
         "type": "\"long\""
        },
        {
         "metadata": "{}",
         "name": "D_139",
         "type": "\"long\""
        },
        {
         "metadata": "{}",
         "name": "D_140",
         "type": "\"long\""
        },
        {
         "metadata": "{}",
         "name": "D_141",
         "type": "\"long\""
        },
        {
         "metadata": "{}",
         "name": "D_142",
         "type": "\"long\""
        },
        {
         "metadata": "{}",
         "name": "D_143",
         "type": "\"long\""
        },
        {
         "metadata": "{}",
         "name": "D_144",
         "type": "\"long\""
        },
        {
         "metadata": "{}",
         "name": "D_145",
         "type": "\"long\""
        },
        {
         "metadata": "{}",
         "name": "target",
         "type": "\"long\""
        }
       ],
       "type": "table"
      }
     },
     "output_type": "display_data"
    }
   ],
   "source": [
    "# Se analiza la existencia de valores faltantes. Dado que el DF es muy grande, se tomará una muestra estratificada de los datos.\n",
    "from pyspark.sql.functions import isnan, when, count, col\n",
    "\n",
    "train_df_filter = train_df.select(features)\n",
    "muestra = {1: 0.1 * 0.25, 0: 0.1 * 0.75}\n",
    "train_df_sample = train_df_filter.sampleBy('target', fractions=muestra, seed=66)\n",
    "\n",
    "nan_count_df = train_df_sample.select([count(when(col(c).isNull() | isnan(c), c)).alias(c) for c in train_df_sample.columns])\n",
    "display(nan_count_df)"
   ]
  },
  {
   "cell_type": "code",
   "execution_count": 0,
   "metadata": {
    "application/vnd.databricks.v1+cell": {
     "cellMetadata": {
      "byteLimit": 2048000,
      "rowLimit": 10000
     },
     "inputWidgets": {},
     "nuid": "e8fea982-ba5a-4425-a1ea-889ebefb8e52",
     "showTitle": false,
     "title": ""
    }
   },
   "outputs": [
    {
     "output_type": "stream",
     "name": "stdout",
     "output_type": "stream",
     "text": [
      "(345213, 189)\n"
     ]
    }
   ],
   "source": [
    "# Tamaño de la muestra obtenida\n",
    "print((train_df_sample.count(), len(train_df_sample.columns)))"
   ]
  },
  {
   "cell_type": "code",
   "execution_count": 0,
   "metadata": {
    "application/vnd.databricks.v1+cell": {
     "cellMetadata": {
      "byteLimit": 2048000,
      "rowLimit": 10000
     },
     "inputWidgets": {},
     "nuid": "3d24bc7c-06d9-450e-938b-f75a97ac085e",
     "showTitle": false,
     "title": ""
    }
   },
   "outputs": [],
   "source": [
    "# Se transforma DF con valores faltantes, que posee una sóla fila, un DF de pandas.\n",
    "pandas_nan = nan_count_df.toPandas()"
   ]
  },
  {
   "cell_type": "code",
   "execution_count": 0,
   "metadata": {
    "application/vnd.databricks.v1+cell": {
     "cellMetadata": {
      "byteLimit": 2048000,
      "rowLimit": 10000
     },
     "inputWidgets": {},
     "nuid": "61167dfc-b482-4d97-8526-1eea1633c6b8",
     "showTitle": false,
     "title": ""
    }
   },
   "outputs": [
    {
     "output_type": "stream",
     "name": "stdout",
     "output_type": "stream",
     "text": [
      "Out[9]: ['D_88',\n 'D_110',\n 'B_39',\n 'D_73',\n 'B_42',\n 'D_134',\n 'B_29',\n 'D_132',\n 'D_42',\n 'D_76',\n 'D_142',\n 'D_53',\n 'B_17',\n 'D_105',\n 'D_50',\n 'S_9',\n 'D_56',\n 'D_77',\n 'D_43',\n 'S_27',\n 'D_46',\n 'S_3',\n 'S_7']"
     ]
    }
   ],
   "source": [
    "# Se obtienen las columnas que contienen muchos valores vacíos, y que no serán parte del modelo. Se usará la siguente regla: si cotiene más del 20% de los registros vacíos, será descartada la columna, y por ende estará en la lista que se llamará \"col_to_drop\".\n",
    "ppandas_nan_t = pandas_nan.transpose()\n",
    "ppandas_nan_t = ppandas_nan_t.rename({0: 'count'}, axis='columns').sort_values(by=['count'], ascending=False)\n",
    "top_nan = ppandas_nan_t.loc[ppandas_nan_t['count'] > train_df_sample.count() * 0.2].copy()\n",
    "col_to_drop = list(top_nan.index)\n",
    "col_to_drop"
   ]
  },
  {
   "cell_type": "code",
   "execution_count": 0,
   "metadata": {
    "application/vnd.databricks.v1+cell": {
     "cellMetadata": {
      "byteLimit": 2048000,
      "rowLimit": 10000
     },
     "inputWidgets": {},
     "nuid": "44ccf631-8900-4545-859b-61871fdf2b85",
     "showTitle": false,
     "title": ""
    }
   },
   "outputs": [],
   "source": [
    "# Se eliminan columnas con una cantidad de datos vacíos determinada anteriormente del DF de entrenamiento.\n",
    "new_train_col = [col for col in train_df.columns if col not in col_to_drop + ['S_2']]\n",
    "train_df = train_df.select(new_train_col)\n",
    "\n",
    "# Se eliminan registros con datos vacíos\n",
    "train_df_clean = train_df.dropna()"
   ]
  },
  {
   "cell_type": "code",
   "execution_count": 0,
   "metadata": {
    "application/vnd.databricks.v1+cell": {
     "cellMetadata": {
      "byteLimit": 2048000,
      "rowLimit": 10000
     },
     "inputWidgets": {},
     "nuid": "449f733b-1d59-48c0-9595-71f2d15f181e",
     "showTitle": false,
     "title": ""
    }
   },
   "outputs": [],
   "source": [
    "# Se replica filtro de columnas para el DF de prueba.\n",
    "new_test_col = [col for col in test_df.columns if col not in col_to_drop + ['S_2']]\n",
    "test_df = test_df.select(new_test_col)\n",
    "\n",
    "# Se eliminan registros con datos vacíos\n",
    "test_df_clean = test_df.dropna()"
   ]
  },
  {
   "cell_type": "code",
   "execution_count": 0,
   "metadata": {
    "application/vnd.databricks.v1+cell": {
     "cellMetadata": {
      "byteLimit": 2048000,
      "rowLimit": 10000
     },
     "inputWidgets": {},
     "nuid": "8de366a4-3564-4ff7-a24c-870a8bf0abf6",
     "showTitle": false,
     "title": ""
    }
   },
   "outputs": [],
   "source": [
    "# Se procederán a inspeccionar las correlaciones. Se utiliza un muestreo estratificado.\n",
    "from pyspark.sql import functions as F\n",
    "from functools import reduce\n",
    "from pyspark.ml.feature import VectorAssembler\n",
    "from pyspark.ml.stat import Correlation\n",
    "\n",
    "train_col = [col for col in train_df_clean.columns if col not in ['S_2', 'customer_ID']]\n",
    "train_df_sample = train_df_clean.select(train_col)\n",
    "muestra = {1: 0.05 * 0.25, 0: 0.05 * 0.75}\n",
    "train_df_sample = train_df_sample.sampleBy('target', fractions=muestra, seed=66)\n",
    "\n",
    "# Definir las columnas de features (todas menos 'target')\n",
    "feature_cols = [col for col in train_df_sample.columns if col != 'target']\n",
    "\n",
    "# Convertir todas las columnas a tipo Double\n",
    "for col in feature_cols + ['target']:\n",
    "    train_df_sample = train_df_sample.withColumn(col, train_df_sample[col].cast(\"double\"))\n",
    "\n",
    "# Convertir las columnas de features en un solo vector densamente poblado\n",
    "assembler = VectorAssembler(inputCols=feature_cols, outputCol=\"features\")\n",
    "assembled_df = assembler.transform(train_df_sample)\n",
    "\n",
    "# Calcular la matriz de correlación entre 'target' y los vectores de características\n",
    "correlation_matrix = Correlation.corr(assembled_df, \"features\").head()\n",
    "\n",
    "# Obtener las correlaciones respecto a 'target' (la última columna de la matriz)\n",
    "correlations = correlation_matrix[0].toArray()[-1]"
   ]
  },
  {
   "cell_type": "code",
   "execution_count": 0,
   "metadata": {
    "application/vnd.databricks.v1+cell": {
     "cellMetadata": {
      "byteLimit": 2048000,
      "rowLimit": 10000
     },
     "inputWidgets": {},
     "nuid": "33ea514e-03b0-49af-b49b-f0745fd518be",
     "showTitle": false,
     "title": ""
    }
   },
   "outputs": [],
   "source": [
    "# Se unen las columnas a sus correlaciones\n",
    "from pyspark.sql.types import StructType, StructField, StringType, FloatType\n",
    "schema = StructType([\n",
    "    StructField(\"feature\", StringType(), True),\n",
    "    StructField(\"correlation\", FloatType(), True)])\n",
    "correlations = [float(corr) for corr in correlations]\n",
    "data = [(feature_cols[i], correlations[i]) for i in range(len(feature_cols))]\n",
    "correlation_df = spark.createDataFrame(data, schema)\n",
    "sorted_corr_df = correlation_df.orderBy(correlation_df.correlation.desc())"
   ]
  },
  {
   "cell_type": "code",
   "execution_count": 0,
   "metadata": {
    "application/vnd.databricks.v1+cell": {
     "cellMetadata": {
      "byteLimit": 2048000,
      "rowLimit": 10000
     },
     "inputWidgets": {},
     "nuid": "7263b5ba-6c0a-4724-ace3-fd7b5b81ff12",
     "showTitle": false,
     "title": ""
    }
   },
   "outputs": [
    {
     "output_type": "stream",
     "name": "stdout",
     "output_type": "stream",
     "text": [
      "Columnas a borrar: ['D_39', 'D_41', 'B_5', 'R_2', 'D_49', 'B_6', 'P_3', 'B_10', 'S_5', 'S_6', 'D_54', 'R_4', 'B_12', 'S_8', 'B_13', 'B_14', 'D_60', 'B_15', 'S_11', 'D_63', 'D_65', 'S_12', 'R_6', 'S_13', 'B_21', 'D_69', 'D_71', 'S_15', 'B_24', 'R_7', 'B_25', 'B_26', 'R_8', 'R_9', 'S_16', 'D_80', 'R_11', 'B_27', 'D_82', 'S_17', 'R_12', 'B_28', 'R_13', 'D_83', 'R_14', 'R_15', 'R_16', 'S_18', 'D_86', 'D_87', 'R_18', 'B_31', 'S_19', 'R_19', 'B_32', 'S_20', 'R_20', 'R_21', 'D_89', 'R_22', 'R_23', 'D_91', 'D_92', 'D_93', 'D_94', 'R_24', 'R_25', 'D_96', 'S_22', 'S_24', 'S_26', 'D_102', 'D_106', 'B_36', 'R_26', 'D_108', 'D_109', 'D_111', 'D_112', 'B_40', 'D_116', 'D_117', 'D_124', 'D_126', 'D_129', 'B_41', 'D_133', 'R_28']\n"
     ]
    }
   ],
   "source": [
    "# Filtrar las características con correlación menor a 0.05 y mayor a -0.05\n",
    "filtered_correlation_df = correlation_df.filter((correlation_df.correlation < 0.05) & (correlation_df.correlation > -0.05))\n",
    "drop_list = [row['feature'] for row in filtered_correlation_df.collect()]\n",
    "print(f'Columnas a borrar: {drop_list}')"
   ]
  },
  {
   "cell_type": "code",
   "execution_count": 0,
   "metadata": {
    "application/vnd.databricks.v1+cell": {
     "cellMetadata": {
      "byteLimit": 2048000,
      "rowLimit": 10000
     },
     "inputWidgets": {},
     "nuid": "ea1512d4-2a58-4094-9038-9d59129efa82",
     "showTitle": false,
     "title": ""
    }
   },
   "outputs": [],
   "source": [
    "# Borrar columnas con baja correlacion\n",
    "clean_col_train = [col for col in train_df_clean.columns if col not in drop_list]\n",
    "train_df_final = train_df_clean.select(clean_col_train)\n",
    "clean_col_test = [col for col in test_df_clean.columns if col not in drop_list]\n",
    "test_df_final = test_df_clean.select(clean_col_test)"
   ]
  },
  {
   "cell_type": "code",
   "execution_count": 0,
   "metadata": {
    "application/vnd.databricks.v1+cell": {
     "cellMetadata": {
      "byteLimit": 2048000,
      "rowLimit": 10000
     },
     "inputWidgets": {},
     "nuid": "8c2d7cb5-61fb-47e2-8053-5bebed8b1586",
     "showTitle": false,
     "title": ""
    }
   },
   "outputs": [],
   "source": [
    "# Borrar de memoria algunos DataFrames que ya no se usarán\n",
    "del train_df\n",
    "del train_df_clean\n",
    "del test_df\n",
    "del test_df_clean\n",
    "del train_df_sample\n",
    "del assembled_df"
   ]
  },
  {
   "cell_type": "markdown",
   "metadata": {
    "application/vnd.databricks.v1+cell": {
     "cellMetadata": {},
     "inputWidgets": {},
     "nuid": "5f169f7a-dc7a-4189-834d-6f6d4973a53a",
     "showTitle": false,
     "title": ""
    }
   },
   "source": [
    "A continuación, se realizará la agrupación de id de cliente, calculando la media y última operacíón de cada columna numérica; y el conteo y última operacion de cada columna categórica, para el DF de entrenamiento"
   ]
  },
  {
   "cell_type": "code",
   "execution_count": 0,
   "metadata": {
    "application/vnd.databricks.v1+cell": {
     "cellMetadata": {
      "byteLimit": 2048000,
      "rowLimit": 10000
     },
     "inputWidgets": {},
     "nuid": "c0b333c6-b9f5-48c1-af64-8c49fcf0c3c7",
     "showTitle": false,
     "title": ""
    }
   },
   "outputs": [],
   "source": [
    "# Agrupar columnas numéricas de train_df_final\n",
    "train_num_col = [col for col in numerical_col if col in train_df_final.columns]\n",
    "train_num_col = [col for col in train_df_final.columns if col in train_num_col + ['customer_ID']]\n",
    "train_num_df = train_df_final.select(train_num_col)\n",
    "\n",
    "# Crear una lista de expresiones de agregación para cada columna numérica\n",
    "agg_exprs = []\n",
    "for col in train_num_col:\n",
    "    agg_exprs.extend([\n",
    "        F.mean(col).alias(f\"{col}_mean\"),\n",
    "        F.last(col, ignorenulls=True).alias(f\"{col}_last\")])\n",
    "\n",
    "# Agrupar por 'customer_ID' y aplicar las agregaciones\n",
    "train_num_agg = train_num_df.groupBy('customer_ID').agg(*agg_exprs)\n",
    "train_num_agg = train_num_agg.drop('customer_ID_mean', 'customer_ID_last')\n",
    "train_num_agg = train_num_agg.orderBy('customer_ID')"
   ]
  },
  {
   "cell_type": "code",
   "execution_count": 0,
   "metadata": {
    "application/vnd.databricks.v1+cell": {
     "cellMetadata": {
      "byteLimit": 2048000,
      "rowLimit": 10000
     },
     "inputWidgets": {},
     "nuid": "0b1fa0b1-1934-47ae-8451-967497c4feb1",
     "showTitle": false,
     "title": ""
    }
   },
   "outputs": [],
   "source": [
    "# Agrupar columnas categóricas de train_df_final\n",
    "train_cat_col = [col for col in categorical_col if col in train_df_final.columns]\n",
    "train_cat_col = [col for col in train_df_final.columns if col in train_cat_col + ['customer_ID']]\n",
    "train_cat_df = train_df_final.select(train_cat_col)\n",
    "\n",
    "# Crear una lista de expresiones de agregación para cada columna categórica\n",
    "agg_exprs = []\n",
    "for col in train_cat_col:\n",
    "    agg_exprs.extend([\n",
    "        F.last(col, ignorenulls=True).alias(f\"{col}_last\"),\n",
    "        F.count(col).alias(f\"{col}_count\"),\n",
    "        F.countDistinct(col).alias(f\"{col}_countDistinct\")])\n",
    "\n",
    "# Agrupar por 'customer_ID' y aplicar las agregaciones\n",
    "train_cat_agg = train_cat_df.groupBy('customer_ID').agg(*agg_exprs)\n",
    "train_cat_agg = train_cat_agg.drop('customer_ID_last', 'customer_ID_count', 'customer_ID_countDistinct')\n",
    "train_cat_agg = train_cat_agg.orderBy('customer_ID')"
   ]
  },
  {
   "cell_type": "code",
   "execution_count": 0,
   "metadata": {
    "application/vnd.databricks.v1+cell": {
     "cellMetadata": {
      "byteLimit": 2048000,
      "rowLimit": 10000
     },
     "inputWidgets": {},
     "nuid": "6c4e550f-b665-4155-98ca-f81befb7d42f",
     "showTitle": false,
     "title": ""
    }
   },
   "outputs": [],
   "source": [
    "# Concatenar DF agrupados derivados de df_train\n",
    "train_agg = train_num_agg.join(train_cat_agg, on='customer_ID', how='inner')\n",
    "\n",
    "# Añadir etiqueta desde train_labels\n",
    "train_final = train_agg.join(train_labels, on='customer_ID', how='left')"
   ]
  },
  {
   "cell_type": "markdown",
   "metadata": {
    "application/vnd.databricks.v1+cell": {
     "cellMetadata": {},
     "inputWidgets": {},
     "nuid": "19bf2669-920f-491a-84ea-408bd6fc7c3a",
     "showTitle": false,
     "title": ""
    }
   },
   "source": [
    "A continuación, se realizará la agrupación de id de cliente, calculando la media y última operacíón de cada columna numérica; y el conteo y ultima operacion de cada columna categórica, para el DF de testeo"
   ]
  },
  {
   "cell_type": "code",
   "execution_count": 0,
   "metadata": {
    "application/vnd.databricks.v1+cell": {
     "cellMetadata": {
      "byteLimit": 2048000,
      "rowLimit": 10000
     },
     "inputWidgets": {},
     "nuid": "b58793b7-abe3-4958-9c0e-309c35e22003",
     "showTitle": false,
     "title": ""
    }
   },
   "outputs": [],
   "source": [
    "# Agrupar columnas numéricas de test_df_final\n",
    "test_num_col = [col for col in numerical_col if col in test_df_final.columns]\n",
    "test_num_col = [col for col in test_df_final.columns if col in test_num_col + ['customer_ID']]\n",
    "test_num_df = test_df_final.select(test_num_col)\n",
    "\n",
    "# Crear una lista de expresiones de agregación para cada columna numérica\n",
    "agg_exprs = []\n",
    "for col in test_num_col:\n",
    "    agg_exprs.extend([\n",
    "        F.mean(col).alias(f\"{col}_mean\"),\n",
    "        F.last(col, ignorenulls=True).alias(f\"{col}_last\")])\n",
    "\n",
    "# Agrupar por 'customer_ID' y aplicar las agregaciones\n",
    "test_num_agg = test_num_df.groupBy('customer_ID').agg(*agg_exprs)\n",
    "test_num_agg = test_num_agg.drop('customer_ID_mean', 'customer_ID_last')\n",
    "test_num_agg = test_num_agg.orderBy('customer_ID')"
   ]
  },
  {
   "cell_type": "code",
   "execution_count": 0,
   "metadata": {
    "application/vnd.databricks.v1+cell": {
     "cellMetadata": {
      "byteLimit": 2048000,
      "rowLimit": 10000
     },
     "inputWidgets": {},
     "nuid": "d455c51b-145a-4ea1-8c32-28b6b42e8989",
     "showTitle": false,
     "title": ""
    }
   },
   "outputs": [],
   "source": [
    "# Agrupar columnas categóricas de test_df_final\n",
    "test_cat_col = [col for col in categorical_col if col in test_df_final.columns]\n",
    "test_cat_col = [col for col in test_df_final.columns if col in test_cat_col + ['customer_ID']]\n",
    "test_cat_df = test_df_final.select(test_cat_col)\n",
    "\n",
    "# Crear una lista de expresiones de agregación para cada columna categórica\n",
    "agg_exprs = []\n",
    "for col in test_cat_col:\n",
    "    agg_exprs.extend([\n",
    "        F.last(col, ignorenulls=True).alias(f\"{col}_last\"),\n",
    "        F.count(col).alias(f\"{col}_count\"),\n",
    "        F.countDistinct(col).alias(f\"{col}_countDistinct\")])\n",
    "\n",
    "# Agrupar por 'customer_ID' y aplicar las agregaciones\n",
    "test_cat_agg = test_cat_df.groupBy('customer_ID').agg(*agg_exprs)\n",
    "test_cat_agg = test_cat_agg.drop('customer_ID_last', 'customer_ID_count', 'customer_ID_countDistinct')\n",
    "test_cat_agg = test_cat_agg.orderBy('customer_ID')"
   ]
  },
  {
   "cell_type": "code",
   "execution_count": 0,
   "metadata": {
    "application/vnd.databricks.v1+cell": {
     "cellMetadata": {
      "byteLimit": 2048000,
      "rowLimit": 10000
     },
     "inputWidgets": {},
     "nuid": "31ccc031-2ae2-4e35-8a47-72860edfc769",
     "showTitle": false,
     "title": ""
    }
   },
   "outputs": [],
   "source": [
    "# Concatenar DF agrupados derivados de df_test\n",
    "test_final = test_num_agg.join(test_cat_agg, on='customer_ID', how='inner')"
   ]
  },
  {
   "cell_type": "code",
   "execution_count": 0,
   "metadata": {
    "application/vnd.databricks.v1+cell": {
     "cellMetadata": {
      "byteLimit": 2048000,
      "rowLimit": 10000
     },
     "inputWidgets": {},
     "nuid": "88af61a4-d45b-401b-97d5-c53afde74f4a",
     "showTitle": false,
     "title": ""
    }
   },
   "outputs": [],
   "source": [
    "# Guardar train_final en el sistema de archivos distribuido (DBFS), para que persista.\n",
    "train_final.write.mode('overwrite').parquet(\"dbfs:/tmp/wiki_data/train_df_final.parquet\")"
   ]
  },
  {
   "cell_type": "code",
   "execution_count": 0,
   "metadata": {
    "application/vnd.databricks.v1+cell": {
     "cellMetadata": {
      "byteLimit": 2048000,
      "rowLimit": 10000
     },
     "inputWidgets": {},
     "nuid": "5dd7d7ef-2504-43f4-9f6a-26a0963d3183",
     "showTitle": false,
     "title": ""
    }
   },
   "outputs": [],
   "source": [
    "# Guardar test_final en el sistema de archivos distribuido (DBFS), para que persista.\n",
    "test_final.write.mode('overwrite').parquet(\"dbfs:/tmp/wiki_data/test_df_final.parquet\")"
   ]
  }
 ],
 "metadata": {
  "application/vnd.databricks.v1+notebook": {
   "dashboards": [],
   "environmentMetadata": null,
   "language": "python",
   "notebookMetadata": {
    "mostRecentlyExecutedCommandWithImplicitDF": {
     "commandId": 37082382563793,
     "dataframes": [
      "_sqldf"
     ]
    },
    "pythonIndentUnit": 4
   },
   "notebookName": "feature_engineering",
   "widgets": {}
  }
 },
 "nbformat": 4,
 "nbformat_minor": 0
}
