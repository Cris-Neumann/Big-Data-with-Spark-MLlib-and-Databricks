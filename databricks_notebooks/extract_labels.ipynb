{
 "cells": [
  {
   "cell_type": "code",
   "execution_count": null,
   "metadata": {
    "application/vnd.databricks.v1+cell": {
     "cellMetadata": {
      "byteLimit": 2048000,
      "rowLimit": 10000
     },
     "inputWidgets": {},
     "nuid": "b474c15e-b21c-4c7e-a7ce-0c5eb3a369ff",
     "showTitle": false,
     "title": ""
    }
   },
   "outputs": [
    {
     "name": "stdout",
     "output_type": "stream",
     "text": [
      "Out[30]: True"
     ]
    }
   ],
   "source": [
    "# Obtengo las etiquetas desde AWS S3.\n",
    "ACCESS_KEY = \"YOUR_ACCESS_KEY\"\n",
    "SECRET_KEY = \"YOUR_SECRET_KEY\"\n",
    "ENCODED_SECRET_KEY = SECRET_KEY.replace(\"/\", \"%2F\")\n",
    "AWS_BUCKET_NAME = \"YOUR_BUCKET_NAME\"\n",
    "S3_FILE_PATH = f\"s3a://{ACCESS_KEY}:{ENCODED_SECRET_KEY}@{AWS_BUCKET_NAME}/train_labels.csv\"\n",
    "DBFS_FILE_PATH = \"dbfs:/tmp/wiki_data/train_labels.csv\"\n",
    "\n",
    "# Copiar el archivo desde S3 a DBFS\n",
    "dbutils.fs.cp(S3_FILE_PATH, DBFS_FILE_PATH)"
   ]
  },
  {
   "cell_type": "code",
   "execution_count": null,
   "metadata": {
    "application/vnd.databricks.v1+cell": {
     "cellMetadata": {
      "byteLimit": 2048000,
      "rowLimit": 10000
     },
     "inputWidgets": {},
     "nuid": "bcb2d2bc-b218-416d-a931-cb060032e570",
     "showTitle": false,
     "title": ""
    }
   },
   "outputs": [
    {
     "name": "stdout",
     "output_type": "stream",
     "text": [
      "dbfs:/tmp/wiki_data/test.parquet\n",
      "dbfs:/tmp/wiki_data/train.parquet\n",
      "dbfs:/tmp/wiki_data/train_labels.csv\n"
     ]
    }
   ],
   "source": [
    "# Lista el contenido del directorio dbfs:/tmp/wiki_data/\n",
    "files = dbutils.fs.ls(\"dbfs:/tmp/wiki_data/\")\n",
    "for file in files:\n",
    "    print(file.path)"
   ]
  }
 ],
 "metadata": {
  "application/vnd.databricks.v1+notebook": {
   "dashboards": [],
   "environmentMetadata": null,
   "language": "python",
   "notebookMetadata": {
    "pythonIndentUnit": 4
   },
   "notebookName": "extract_labels",
   "widgets": {}
  },
  "language_info": {
   "name": "python"
  }
 },
 "nbformat": 4,
 "nbformat_minor": 0
}
