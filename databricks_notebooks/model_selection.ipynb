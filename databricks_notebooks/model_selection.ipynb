{
 "cells": [
  {
   "cell_type": "markdown",
   "metadata": {
    "application/vnd.databricks.v1+cell": {
     "cellMetadata": {},
     "inputWidgets": {},
     "nuid": "d0ae5182-c918-46e8-a686-5d52e0eedf4c",
     "showTitle": false,
     "title": ""
    }
   },
   "source": [
    "### Cargar datos de entrenamiento y de prueba, e importar librerías"
   ]
  },
  {
   "cell_type": "code",
   "execution_count": 0,
   "metadata": {
    "application/vnd.databricks.v1+cell": {
     "cellMetadata": {
      "byteLimit": 2048000,
      "rowLimit": 10000
     },
     "inputWidgets": {},
     "nuid": "22ead7f3-2c4e-46e8-8994-7f69449daac0",
     "showTitle": false,
     "title": ""
    }
   },
   "outputs": [
    {
     "output_type": "display_data",
     "data": {
      "application/vnd.databricks.v1+bamboolib_hint": "{\"pd.DataFrames\": [], \"version\": \"0.0.1\"}",
      "text/plain": []
     },
     "metadata": {},
     "output_type": "display_data"
    }
   ],
   "source": [
    "# Importar librerías\n",
    "from pyspark.ml.feature import VectorAssembler\n",
    "from pyspark.ml import Pipeline, PipelineModel\n",
    "from pyspark.ml.classification import GBTClassifier\n",
    "from pyspark.ml.evaluation import BinaryClassificationEvaluator\n",
    "from pyspark.ml.tuning import ParamGridBuilder, CrossValidator, CrossValidatorModel\n",
    "from pyspark.sql.functions import udf, col, when\n",
    "from pyspark.sql.types import DoubleType\n",
    "import matplotlib.pyplot as plt\n",
    "import numpy as np\n",
    "import pandas as pd\n",
    "from sklearn.metrics import roc_curve, roc_auc_score"
   ]
  },
  {
   "cell_type": "code",
   "execution_count": 0,
   "metadata": {
    "application/vnd.databricks.v1+cell": {
     "cellMetadata": {
      "byteLimit": 2048000,
      "rowLimit": 10000
     },
     "inputWidgets": {},
     "nuid": "aa267943-ede7-4e3d-a6f8-4cc58ab97236",
     "showTitle": false,
     "title": ""
    }
   },
   "outputs": [],
   "source": [
    "# Cargar archivos desde DBFS\n",
    "test_df = spark.read.parquet(\"dbfs:/tmp/wiki_data/test_df_final.parquet\")\n",
    "train_df = spark.read.parquet(\"dbfs:/tmp/wiki_data/train_df_final.parquet\")"
   ]
  },
  {
   "cell_type": "markdown",
   "metadata": {
    "application/vnd.databricks.v1+cell": {
     "cellMetadata": {},
     "inputWidgets": {},
     "nuid": "a9d7784e-d72e-45d5-af71-089e7ae84fd5",
     "showTitle": false,
     "title": ""
    }
   },
   "source": [
    "### Vectorizar características y crear clasificador Gradient Boosting Trees "
   ]
  },
  {
   "cell_type": "code",
   "execution_count": 0,
   "metadata": {
    "application/vnd.databricks.v1+cell": {
     "cellMetadata": {
      "byteLimit": 2048000,
      "rowLimit": 10000
     },
     "inputWidgets": {},
     "nuid": "13873060-8065-4042-89d0-0565b37160b8",
     "showTitle": false,
     "title": ""
    }
   },
   "outputs": [],
   "source": [
    "# Guardar la columna Customer_ID en variables separadas\n",
    "train_customer_id = train_df.select(\"Customer_ID\", \"target\")\n",
    "train_df2 = train_df\n",
    "train_df = train_df.drop(\"Customer_ID\")\n",
    "\n",
    "# Identificar las columnas de características\n",
    "feature_columns = [col for col in train_df.columns if col not in ['Customer_ID', 'target']]\n",
    "assembler = VectorAssembler(inputCols=feature_columns, outputCol='features')"
   ]
  },
  {
   "cell_type": "code",
   "execution_count": 0,
   "metadata": {
    "application/vnd.databricks.v1+cell": {
     "cellMetadata": {
      "byteLimit": 2048000,
      "rowLimit": 10000
     },
     "inputWidgets": {},
     "nuid": "1d271742-05c9-439e-adf7-70510c9d20cb",
     "showTitle": false,
     "title": ""
    }
   },
   "outputs": [],
   "source": [
    "# Crear el clasificador GBT\n",
    "gbt = GBTClassifier(featuresCol='features', labelCol='target')\n",
    "\n",
    "# Crear el pipeline\n",
    "pipeline = Pipeline(stages=[assembler, gbt])"
   ]
  },
  {
   "cell_type": "markdown",
   "metadata": {
    "application/vnd.databricks.v1+cell": {
     "cellMetadata": {},
     "inputWidgets": {},
     "nuid": "e8ab23a8-bfa1-40d8-98d2-7570953901cf",
     "showTitle": false,
     "title": ""
    }
   },
   "source": [
    "### Configurar la búsqueda de hiperparámetros con Validación Cruzada"
   ]
  },
  {
   "cell_type": "code",
   "execution_count": 0,
   "metadata": {
    "application/vnd.databricks.v1+cell": {
     "cellMetadata": {
      "byteLimit": 2048000,
      "rowLimit": 10000
     },
     "inputWidgets": {},
     "nuid": "532b7b96-4b67-498c-8080-60ce3c5cbdb1",
     "showTitle": false,
     "title": ""
    }
   },
   "outputs": [],
   "source": [
    "# Construir la cuadrícula de hiperparámetros\n",
    "paramGrid = (ParamGridBuilder()\n",
    "              .addGrid(gbt.maxIter, [10])\n",
    "              .addGrid(gbt.maxDepth, [5])\n",
    "              .addGrid(gbt.stepSize, [0.1])\n",
    "              .addGrid(gbt.subsamplingRate, [1.0])\n",
    "              .build())\n",
    "\n",
    "# Configurar el evaluador\n",
    "evaluator = BinaryClassificationEvaluator(labelCol='target', metricName='areaUnderROC')\n",
    "\n",
    "# Configurar la validación cruzada\n",
    "crossval = CrossValidator(estimator=pipeline,\n",
    "                          estimatorParamMaps=paramGrid,\n",
    "                          evaluator=evaluator,\n",
    "                          numFolds=5) "
   ]
  },
  {
   "cell_type": "markdown",
   "metadata": {
    "application/vnd.databricks.v1+cell": {
     "cellMetadata": {},
     "inputWidgets": {},
     "nuid": "5f0a2b49-9bd2-4352-89fe-93c8ca8a0790",
     "showTitle": false,
     "title": ""
    }
   },
   "source": [
    "### Entrenar los modelos y seleccionar el mejor de ellos"
   ]
  },
  {
   "cell_type": "code",
   "execution_count": 0,
   "metadata": {
    "application/vnd.databricks.v1+cell": {
     "cellMetadata": {
      "byteLimit": 2048000,
      "rowLimit": 10000
     },
     "inputWidgets": {},
     "nuid": "adbf94f7-932a-484e-a343-ae6d7e70d3ae",
     "showTitle": false,
     "title": ""
    }
   },
   "outputs": [],
   "source": [
    "# Ajustar el modelo con la validación cruzada\n",
    "cv_model = crossval.fit(train_df)"
   ]
  },
  {
   "cell_type": "code",
   "execution_count": 0,
   "metadata": {
    "application/vnd.databricks.v1+cell": {
     "cellMetadata": {
      "byteLimit": 2048000,
      "rowLimit": 10000
     },
     "inputWidgets": {},
     "nuid": "f7cbe841-001a-4e7f-a093-342a966dfa19",
     "showTitle": false,
     "title": ""
    }
   },
   "outputs": [],
   "source": [
    "# Seleccionar el mejor modelo de los entrenados\n",
    "best_model = cv_model.bestModel"
   ]
  },
  {
   "cell_type": "code",
   "execution_count": 0,
   "metadata": {
    "application/vnd.databricks.v1+cell": {
     "cellMetadata": {
      "byteLimit": 2048000,
      "rowLimit": 10000
     },
     "inputWidgets": {},
     "nuid": "564e8f33-3d13-4fce-8659-14514ae6f655",
     "showTitle": false,
     "title": ""
    }
   },
   "outputs": [],
   "source": [
    "# Eliminar el directorio existente\n",
    "dbutils.fs.rm(\"dbfs:/tmp/wiki_data/gbt_model\", recurse=True)\n",
    "\n",
    "# Guardar el nuevo modelo\n",
    "best_model.save(\"dbfs:/tmp/wiki_data/gbt_model\")"
   ]
  },
  {
   "cell_type": "markdown",
   "metadata": {
    "application/vnd.databricks.v1+cell": {
     "cellMetadata": {},
     "inputWidgets": {},
     "nuid": "9153b14f-f398-4fc0-9319-42ec00648d4c",
     "showTitle": false,
     "title": ""
    }
   },
   "source": [
    "### Realizar inferencia con el modelo entrenado"
   ]
  },
  {
   "cell_type": "code",
   "execution_count": 0,
   "metadata": {
    "application/vnd.databricks.v1+cell": {
     "cellMetadata": {
      "byteLimit": 2048000,
      "rowLimit": 10000
     },
     "inputWidgets": {},
     "nuid": "55e33e68-72b9-4689-94a5-83e33feeb4d2",
     "showTitle": false,
     "title": ""
    }
   },
   "outputs": [],
   "source": [
    "# Cargar el modelo guardado en DBFS\n",
    "cv_model = PipelineModel.load(\"dbfs:/tmp/wiki_data/gbt_model\")"
   ]
  },
  {
   "cell_type": "code",
   "execution_count": 0,
   "metadata": {
    "application/vnd.databricks.v1+cell": {
     "cellMetadata": {
      "byteLimit": 2048000,
      "rowLimit": 10000
     },
     "inputWidgets": {},
     "nuid": "2909f072-5b2c-4231-b399-43041bf5bfa4",
     "showTitle": false,
     "title": ""
    }
   },
   "outputs": [],
   "source": [
    "# Preparar el DataFrame de prueba\n",
    "test_df = test_df.withColumnRenamed('Customer_ID', 'customer_id')\n",
    "\n",
    "# Definir la función UDF para extraer la probabilidad de la clase positiva\n",
    "def extract_probability(prob_vector):\n",
    "    return float(prob_vector[1])\n",
    "\n",
    "# Registrar la UDF\n",
    "extract_prob_udf = udf(extract_probability, DoubleType())"
   ]
  },
  {
   "cell_type": "code",
   "execution_count": 0,
   "metadata": {
    "application/vnd.databricks.v1+cell": {
     "cellMetadata": {
      "byteLimit": 2048000,
      "rowLimit": 10000
     },
     "inputWidgets": {},
     "nuid": "13fb3e7b-c99f-4f67-8d10-c0a52a0fae77",
     "showTitle": false,
     "title": ""
    }
   },
   "outputs": [
    {
     "output_type": "display_data",
     "data": {
      "image/png": "[encoded data removed]"
     },
     "metadata": {
      "application/vnd.databricks.v1+output": {
       "addedWidgets": {},
       "arguments": {},
       "data": "data:image/png;base64,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\n",
       "datasetInfos": [],
       "metadata": {},
       "removedWidgets": [],
       "type": "image"
      }
     },
     "output_type": "display_data"
    }
   ],
   "source": [
    "# Obtener las predicciones del conjunto de entrenamiento\n",
    "predictions_train = cv_model.transform(train_df)\n",
    "predictions_train = predictions_train.withColumn('probability_score', extract_prob_udf(predictions_train['probability']))\n",
    "\n",
    "# Obtener las predicciones del conjunto de prueba\n",
    "predictions_test = cv_model.transform(test_df)\n",
    "predictions_test = predictions_test.withColumn('probability_score', extract_prob_udf(predictions_test['probability']))\n",
    "\n",
    "# Seleccionar las columnas necesarias para la curva ROC en el conjunto de entrenamiento\n",
    "result_train = predictions_train.select('probability_score', 'target')\n",
    "\n",
    "# Convertir a Pandas DataFrame para el conjunto de entrenamiento\n",
    "pdf_train = result_train.toPandas()\n",
    "\n",
    "# Calcular la curva ROC para el conjunto de entrenamiento\n",
    "fpr_train, tpr_train, _ = roc_curve(pdf_train['target'], pdf_train['probability_score'])\n",
    "roc_auc_train = roc_auc_score(pdf_train['target'], pdf_train['probability_score'])\n",
    "\n",
    "# Graficar la curva ROC para el conjunto de entrenamiento\n",
    "plt.figure()\n",
    "plt.plot(fpr_train, tpr_train, color='blue', lw=2, label=f'ROC curve (train) (area = {roc_auc_train:.2f})')\n",
    "plt.plot([0, 1], [0, 1], color='navy', lw=2, linestyle='--')\n",
    "plt.xlim([0.0, 1.0])\n",
    "plt.ylim([0.0, 1.05])\n",
    "plt.xlabel('False Positive Rate')\n",
    "plt.ylabel('True Positive Rate')\n",
    "plt.title('Receiver Operating Characteristic (ROC)')\n",
    "plt.legend(loc='lower right')\n",
    "plt.show()"
   ]
  },
  {
   "cell_type": "markdown",
   "metadata": {
    "application/vnd.databricks.v1+cell": {
     "cellMetadata": {},
     "inputWidgets": {},
     "nuid": "2e9a936b-0020-4c50-8d92-063f7b3bdb70",
     "showTitle": false,
     "title": ""
    }
   },
   "source": [
    "### Evaluación bajo métricas clásicas"
   ]
  },
  {
   "cell_type": "code",
   "execution_count": 0,
   "metadata": {
    "application/vnd.databricks.v1+cell": {
     "cellMetadata": {
      "byteLimit": 2048000,
      "rowLimit": 10000
     },
     "inputWidgets": {},
     "nuid": "f2a7739c-f1dc-423a-b26e-f06d66f817ab",
     "showTitle": false,
     "title": ""
    }
   },
   "outputs": [
    {
     "output_type": "stream",
     "name": "stdout",
     "output_type": "stream",
     "text": [
      "Precision: 0.7717556186310549\nRecall: 0.7907036613272311\nF1 Score: 0.7811147479219158\nROC AUC: 0.946647135846988\n"
     ]
    }
   ],
   "source": [
    "# DF predictions_train2 debe contener la columna con las etiquetas\n",
    "predictions_train2 = cv_model.transform(train_df2)\n",
    "predictions_train2 = predictions_train2.withColumn('probability_score', extract_prob_udf(predictions_train2['probability']))\n",
    "evaluator = BinaryClassificationEvaluator(labelCol=\"target\", rawPredictionCol=\"probability_score\", metricName=\"areaUnderROC\")\n",
    "roc_auc = evaluator.evaluate(predictions_train2)\n",
    "def extract_prob(v):\n",
    "    if isinstance(v, list) and len(v) > 1:\n",
    "        return float(v[1])\n",
    "    else:\n",
    "        return float(v)\n",
    "\n",
    "extract_prob_udf = udf(extract_prob, DoubleType())\n",
    "predictions = predictions_train2.withColumn(\"probability_score\", extract_prob_udf(col(\"probability_score\")))\n",
    "threshold = 0.5\n",
    "\n",
    "predictions = predictions.withColumn(\n",
    "    \"prediction_binary\",\n",
    "    when(col(\"probability_score\") > threshold, 1).otherwise(0))\n",
    "\n",
    "# Contar Verdaderos Positivos, Verdaderos Negativos, Falsos Positivos, Falsos Negativos\n",
    "tp = predictions.filter((col(\"prediction_binary\") == 1) & (col(\"target\") == 1)).count()\n",
    "tn = predictions.filter((col(\"prediction_binary\") == 0) & (col(\"target\") == 0)).count()\n",
    "fp = predictions.filter((col(\"prediction_binary\") == 1) & (col(\"target\") == 0)).count()\n",
    "fn = predictions.filter((col(\"prediction_binary\") == 0) & (col(\"target\") == 1)).count()\n",
    "\n",
    "# Calcular métricas\n",
    "precision = tp / (tp + fp) if (tp + fp) > 0 else 0\n",
    "recall = tp / (tp + fn) if (tp + fn) > 0 else 0\n",
    "f1_score = 2 * (precision * recall) / (precision + recall) if (precision + recall) > 0 else 0\n",
    "\n",
    "print(f\"Precision: {precision}\")\n",
    "print(f\"Recall: {recall}\")\n",
    "print(f\"F1 Score: {f1_score}\")\n",
    "print(f\"ROC AUC: {roc_auc}\")"
   ]
  },
  {
   "cell_type": "markdown",
   "metadata": {
    "application/vnd.databricks.v1+cell": {
     "cellMetadata": {},
     "inputWidgets": {},
     "nuid": "2e160f56-14b3-4ea9-9386-a06c8dc78ee6",
     "showTitle": false,
     "title": ""
    }
   },
   "source": [
    "### Evaluación bajo la métrica solicitada"
   ]
  },
  {
   "cell_type": "code",
   "execution_count": 0,
   "metadata": {
    "application/vnd.databricks.v1+cell": {
     "cellMetadata": {
      "byteLimit": 2048000,
      "rowLimit": 10000
     },
     "inputWidgets": {},
     "nuid": "ab59df9a-1c04-4d2f-912b-ae9d5649e403",
     "showTitle": false,
     "title": ""
    }
   },
   "outputs": [],
   "source": [
    "# Métrica de evaluación\n",
    "def amex_metric(y_true: pd.DataFrame, y_pred: pd.DataFrame) -> float:\n",
    "\n",
    "    def top_four_percent_captured(y_true: pd.DataFrame, y_pred: pd.DataFrame) -> float:\n",
    "        df = (pd.concat([y_true, y_pred], axis='columns')\n",
    "              .sort_values('prediction', ascending=False))\n",
    "        df['weight'] = df['target'].apply(lambda x: 20 if x==0 else 1)\n",
    "        four_pct_cutoff = int(0.04 * df['weight'].sum())\n",
    "        df['weight_cumsum'] = df['weight'].cumsum()\n",
    "        df_cutoff = df.loc[df['weight_cumsum'] <= four_pct_cutoff]\n",
    "        return (df_cutoff['target'] == 1).sum() / (df['target'] == 1).sum()\n",
    "        \n",
    "    def weighted_gini(y_true: pd.DataFrame, y_pred: pd.DataFrame) -> float:\n",
    "        df = (pd.concat([y_true, y_pred], axis='columns')\n",
    "              .sort_values('prediction', ascending=False))\n",
    "        df['weight'] = df['target'].apply(lambda x: 20 if x==0 else 1)\n",
    "        df['random'] = (df['weight'] / df['weight'].sum()).cumsum()\n",
    "        total_pos = (df['target'] * df['weight']).sum()\n",
    "        df['cum_pos_found'] = (df['target'] * df['weight']).cumsum()\n",
    "        df['lorentz'] = df['cum_pos_found'] / total_pos\n",
    "        df['gini'] = (df['lorentz'] - df['random']) * df['weight']\n",
    "        return df['gini'].sum()\n",
    "\n",
    "    def normalized_weighted_gini(y_true: pd.DataFrame, y_pred: pd.DataFrame) -> float:\n",
    "        y_true_pred = y_true.rename(columns={'target': 'prediction'})\n",
    "        return weighted_gini(y_true, y_pred) / weighted_gini(y_true, y_true_pred)\n",
    "\n",
    "    g = normalized_weighted_gini(y_true, y_pred)\n",
    "    d = top_four_percent_captured(y_true, y_pred)\n",
    "\n",
    "    return 0.5 * (g + d)"
   ]
  },
  {
   "cell_type": "code",
   "execution_count": 0,
   "metadata": {
    "application/vnd.databricks.v1+cell": {
     "cellMetadata": {
      "byteLimit": 2048000,
      "rowLimit": 10000
     },
     "inputWidgets": {},
     "nuid": "fed86a8f-cddd-482a-afc8-99a396808fb3",
     "showTitle": false,
     "title": ""
    }
   },
   "outputs": [
    {
     "output_type": "stream",
     "name": "stdout",
     "output_type": "stream",
     "text": [
      "\nM score: 0.7320196161774168\n"
     ]
    }
   ],
   "source": [
    "from pyspark.sql.functions import udf\n",
    "from pyspark.sql.types import FloatType\n",
    "import pandas as pd\n",
    "\n",
    "# Definir el UDF para extraer la probabilidad de la clase positiva\n",
    "def extract_prob(probability):\n",
    "    return float(probability[1])\n",
    "\n",
    "extract_prob_udf = udf(extract_prob, FloatType())\n",
    "y_true = train_customer_id.select('Customer_ID', 'target')\n",
    "\n",
    "# Aplicar el UDF a la columna 'probability' para obtener 'probability_score'\n",
    "predictions_train2 = cv_model.transform(train_df2)\n",
    "predictions_train2 = predictions_train2.withColumn('probability_score', extract_prob_udf(predictions_train2['probability']))\n",
    "\n",
    "# Seleccionar 'Customer_ID' y 'probability_score'\n",
    "y_pred = predictions_train2.select('Customer_ID', 'probability_score')\n",
    "y_pred = y_pred.withColumnRenamed(\"probability_score\", \"prediction\")\n",
    "\n",
    "# Convertir los DataFrames de PySpark a Pandas\n",
    "y_true_pd = y_true.toPandas()\n",
    "y_pred_pd = y_pred.toPandas()\n",
    "\n",
    "# Calcular y mostrar la métrica\n",
    "print(f'\\nM score: {amex_metric(y_true_pd, y_pred_pd)}')"
   ]
  },
  {
   "cell_type": "code",
   "execution_count": 0,
   "metadata": {
    "application/vnd.databricks.v1+cell": {
     "cellMetadata": {
      "byteLimit": 2048000,
      "rowLimit": 10000
     },
     "inputWidgets": {},
     "nuid": "3bc251e5-c33b-4e96-aa4b-753d8fcfce2d",
     "showTitle": false,
     "title": ""
    }
   },
   "outputs": [],
   "source": [
    "# Guardar las predicciones del conjunto de prueba en un archivo CSV\n",
    "result_test = predictions_test.select('customer_id', 'probability_score')\n",
    "result_test.write.csv(\"dbfs:/tmp/wiki_data/inference.csv\", header=True, mode='overwrite')"
   ]
  }
 ],
 "metadata": {
  "application/vnd.databricks.v1+notebook": {
   "dashboards": [],
   "environmentMetadata": null,
   "language": "python",
   "notebookMetadata": {
    "pythonIndentUnit": 4
   },
   "notebookName": "model_selection",
   "widgets": {}
  }
 },
 "nbformat": 4,
 "nbformat_minor": 0
}
