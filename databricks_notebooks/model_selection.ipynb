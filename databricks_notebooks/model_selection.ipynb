{
 "cells": [
  {
   "cell_type": "markdown",
   "metadata": {
    "application/vnd.databricks.v1+cell": {
     "cellMetadata": {},
     "inputWidgets": {},
     "nuid": "d0ae5182-c918-46e8-a686-5d52e0eedf4c",
     "showTitle": false,
     "title": ""
    }
   },
   "source": [
    "### Cargar datos de entrenamiento y de prueba, e importar librerías"
   ]
  },
  {
   "cell_type": "code",
   "execution_count": 0,
   "metadata": {
    "application/vnd.databricks.v1+cell": {
     "cellMetadata": {
      "byteLimit": 2048000,
      "rowLimit": 10000
     },
     "inputWidgets": {},
     "nuid": "22ead7f3-2c4e-46e8-8994-7f69449daac0",
     "showTitle": false,
     "title": ""
    }
   },
   "outputs": [
    {
     "output_type": "display_data",
     "data": {
      "application/vnd.databricks.v1+bamboolib_hint": "{\"pd.DataFrames\": [], \"version\": \"0.0.1\"}",
      "text/plain": []
     },
     "metadata": {},
     "output_type": "display_data"
    }
   ],
   "source": [
    "# Importar librerías\n",
    "from pyspark.ml.feature import VectorAssembler\n",
    "from pyspark.ml import Pipeline, PipelineModel\n",
    "from pyspark.ml.classification import GBTClassifier\n",
    "from pyspark.ml.evaluation import BinaryClassificationEvaluator\n",
    "from pyspark.ml.tuning import ParamGridBuilder, CrossValidator, CrossValidatorModel\n",
    "from pyspark.sql.functions import udf, col, when\n",
    "from pyspark.sql.types import DoubleType\n",
    "import matplotlib.pyplot as plt\n",
    "import numpy as np\n",
    "import pandas as pd\n",
    "from sklearn.metrics import roc_curve, roc_auc_score"
   ]
  },
  {
   "cell_type": "code",
   "execution_count": 0,
   "metadata": {
    "application/vnd.databricks.v1+cell": {
     "cellMetadata": {
      "byteLimit": 2048000,
      "rowLimit": 10000
     },
     "inputWidgets": {},
     "nuid": "aa267943-ede7-4e3d-a6f8-4cc58ab97236",
     "showTitle": false,
     "title": ""
    }
   },
   "outputs": [],
   "source": [
    "# Cargar archivos desde DBFS\n",
    "test_df = spark.read.parquet(\"dbfs:/tmp/wiki_data/test_df_final.parquet\")\n",
    "train_df = spark.read.parquet(\"dbfs:/tmp/wiki_data/train_df_final.parquet\")"
   ]
  },
  {
   "cell_type": "markdown",
   "metadata": {
    "application/vnd.databricks.v1+cell": {
     "cellMetadata": {},
     "inputWidgets": {},
     "nuid": "a9d7784e-d72e-45d5-af71-089e7ae84fd5",
     "showTitle": false,
     "title": ""
    }
   },
   "source": [
    "### Vectorizar características y crear clasificador Gradient Boosting Trees "
   ]
  },
  {
   "cell_type": "code",
   "execution_count": 0,
   "metadata": {
    "application/vnd.databricks.v1+cell": {
     "cellMetadata": {
      "byteLimit": 2048000,
      "rowLimit": 10000
     },
     "inputWidgets": {},
     "nuid": "13873060-8065-4042-89d0-0565b37160b8",
     "showTitle": false,
     "title": ""
    }
   },
   "outputs": [],
   "source": [
    "# Guardar la columna Customer_ID en variables separadas\n",
    "train_customer_id = train_df.select(\"Customer_ID\", \"target\")\n",
    "train_df2 = train_df\n",
    "train_df = train_df.drop(\"Customer_ID\")\n",
    "\n",
    "# Identificar las columnas de características\n",
    "feature_columns = [col for col in train_df.columns if col not in ['Customer_ID', 'target']]\n",
    "assembler = VectorAssembler(inputCols=feature_columns, outputCol='features')"
   ]
  },
  {
   "cell_type": "code",
   "execution_count": 0,
   "metadata": {
    "application/vnd.databricks.v1+cell": {
     "cellMetadata": {
      "byteLimit": 2048000,
      "rowLimit": 10000
     },
     "inputWidgets": {},
     "nuid": "1d271742-05c9-439e-adf7-70510c9d20cb",
     "showTitle": false,
     "title": ""
    }
   },
   "outputs": [],
   "source": [
    "# Crear el clasificador GBT\n",
    "gbt = GBTClassifier(featuresCol='features', labelCol='target')\n",
    "\n",
    "# Crear el pipeline\n",
    "pipeline = Pipeline(stages=[assembler, gbt])"
   ]
  },
  {
   "cell_type": "markdown",
   "metadata": {
    "application/vnd.databricks.v1+cell": {
     "cellMetadata": {},
     "inputWidgets": {},
     "nuid": "e8ab23a8-bfa1-40d8-98d2-7570953901cf",
     "showTitle": false,
     "title": ""
    }
   },
   "source": [
    "### Configurar la búsqueda de hiperparámetros con Validación Cruzada"
   ]
  },
  {
   "cell_type": "code",
   "execution_count": 0,
   "metadata": {
    "application/vnd.databricks.v1+cell": {
     "cellMetadata": {
      "byteLimit": 2048000,
      "rowLimit": 10000
     },
     "inputWidgets": {},
     "nuid": "532b7b96-4b67-498c-8080-60ce3c5cbdb1",
     "showTitle": false,
     "title": ""
    }
   },
   "outputs": [],
   "source": [
    "# Construir la cuadrícula de hiperparámetros\n",
    "paramGrid = (ParamGridBuilder()\n",
    "              .addGrid(gbt.maxIter, [10, 20])\n",
    "              .addGrid(gbt.maxDepth, [5, 7])\n",
    "              .addGrid(gbt.stepSize, [0.1])\n",
    "              .addGrid(gbt.subsamplingRate, [1.0])\n",
    "              .build())\n",
    "\n",
    "# Configurar el evaluador\n",
    "evaluator = BinaryClassificationEvaluator(labelCol='target', metricName='areaUnderROC')\n",
    "\n",
    "# Configurar la validación cruzada\n",
    "crossval = CrossValidator(estimator=pipeline,\n",
    "                          estimatorParamMaps=paramGrid,\n",
    "                          evaluator=evaluator,\n",
    "                          numFolds=4) "
   ]
  },
  {
   "cell_type": "markdown",
   "metadata": {
    "application/vnd.databricks.v1+cell": {
     "cellMetadata": {},
     "inputWidgets": {},
     "nuid": "5f0a2b49-9bd2-4352-89fe-93c8ca8a0790",
     "showTitle": false,
     "title": ""
    }
   },
   "source": [
    "### Entrenar los modelos y seleccionar el mejor de ellos"
   ]
  },
  {
   "cell_type": "code",
   "execution_count": 0,
   "metadata": {
    "application/vnd.databricks.v1+cell": {
     "cellMetadata": {
      "byteLimit": 2048000,
      "rowLimit": 10000
     },
     "inputWidgets": {},
     "nuid": "adbf94f7-932a-484e-a343-ae6d7e70d3ae",
     "showTitle": false,
     "title": ""
    }
   },
   "outputs": [],
   "source": [
    "# Ajustar el modelo con la validación cruzada\n",
    "cv_model = crossval.fit(train_df)"
   ]
  },
  {
   "cell_type": "code",
   "execution_count": 0,
   "metadata": {
    "application/vnd.databricks.v1+cell": {
     "cellMetadata": {
      "byteLimit": 2048000,
      "rowLimit": 10000
     },
     "inputWidgets": {},
     "nuid": "f7cbe841-001a-4e7f-a093-342a966dfa19",
     "showTitle": false,
     "title": ""
    }
   },
   "outputs": [],
   "source": [
    "# Seleccionar el mejor modelo de los entrenados\n",
    "best_model = cv_model.bestModel"
   ]
  },
  {
   "cell_type": "code",
   "execution_count": 0,
   "metadata": {
    "application/vnd.databricks.v1+cell": {
     "cellMetadata": {
      "byteLimit": 2048000,
      "rowLimit": 10000
     },
     "inputWidgets": {},
     "nuid": "564e8f33-3d13-4fce-8659-14514ae6f655",
     "showTitle": false,
     "title": ""
    }
   },
   "outputs": [],
   "source": [
    "# Eliminar el directorio existente\n",
    "dbutils.fs.rm(\"dbfs:/tmp/wiki_data/gbt_model\", recurse=True)\n",
    "\n",
    "# Guardar el nuevo modelo\n",
    "best_model.save(\"dbfs:/tmp/wiki_data/gbt_model\")"
   ]
  },
  {
   "cell_type": "markdown",
   "metadata": {
    "application/vnd.databricks.v1+cell": {
     "cellMetadata": {},
     "inputWidgets": {},
     "nuid": "9153b14f-f398-4fc0-9319-42ec00648d4c",
     "showTitle": false,
     "title": ""
    }
   },
   "source": [
    "### Realizar inferencia con el modelo entrenado"
   ]
  },
  {
   "cell_type": "code",
   "execution_count": 0,
   "metadata": {
    "application/vnd.databricks.v1+cell": {
     "cellMetadata": {
      "byteLimit": 2048000,
      "rowLimit": 10000
     },
     "inputWidgets": {},
     "nuid": "55e33e68-72b9-4689-94a5-83e33feeb4d2",
     "showTitle": false,
     "title": ""
    }
   },
   "outputs": [],
   "source": [
    "# Cargar el modelo guardado en DBFS\n",
    "cv_model = PipelineModel.load(\"dbfs:/tmp/wiki_data/gbt_model\")"
   ]
  },
  {
   "cell_type": "code",
   "execution_count": 0,
   "metadata": {
    "application/vnd.databricks.v1+cell": {
     "cellMetadata": {
      "byteLimit": 2048000,
      "rowLimit": 10000
     },
     "inputWidgets": {},
     "nuid": "2909f072-5b2c-4231-b399-43041bf5bfa4",
     "showTitle": false,
     "title": ""
    }
   },
   "outputs": [],
   "source": [
    "# Preparar el DataFrame de prueba\n",
    "test_df = test_df.withColumnRenamed('Customer_ID', 'customer_id')\n",
    "\n",
    "# Definir la función UDF para extraer la probabilidad de la clase positiva\n",
    "def extract_probability(prob_vector):\n",
    "    return float(prob_vector[1])\n",
    "\n",
    "# Registrar la UDF\n",
    "extract_prob_udf = udf(extract_probability, DoubleType())"
   ]
  },
  {
   "cell_type": "code",
   "execution_count": 0,
   "metadata": {
    "application/vnd.databricks.v1+cell": {
     "cellMetadata": {
      "byteLimit": 2048000,
      "rowLimit": 10000
     },
     "inputWidgets": {},
     "nuid": "13fb3e7b-c99f-4f67-8d10-c0a52a0fae77",
     "showTitle": false,
     "title": ""
    }
   },
   "outputs": [
    {
     "output_type": "display_data",
     "data": {
      "image/png": "[encoded data removed]"
     },
     "metadata": {
      "application/vnd.databricks.v1+output": {
       "addedWidgets": {},
       "arguments": {},
       "data": "data:image/png;base64,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\n",
       "datasetInfos": [],
       "metadata": {},
       "removedWidgets": [],
       "type": "image"
      }
     },
     "output_type": "display_data"
    }
   ],
   "source": [
    "# Obtener las predicciones del conjunto de entrenamiento\n",
    "predictions_train = cv_model.transform(train_df)\n",
    "predictions_train = predictions_train.withColumn('probability_score', extract_prob_udf(predictions_train['probability']))\n",
    "\n",
    "# Obtener las predicciones del conjunto de prueba\n",
    "predictions_test = cv_model.transform(test_df)\n",
    "predictions_test = predictions_test.withColumn('probability_score', extract_prob_udf(predictions_test['probability']))\n",
    "\n",
    "# Seleccionar las columnas necesarias para la curva ROC en el conjunto de entrenamiento\n",
    "result_train = predictions_train.select('probability_score', 'target')\n",
    "\n",
    "# Convertir a Pandas DataFrame para el conjunto de entrenamiento\n",
    "pdf_train = result_train.toPandas()\n",
    "\n",
    "# Calcular la curva ROC para el conjunto de entrenamiento\n",
    "fpr_train, tpr_train, _ = roc_curve(pdf_train['target'], pdf_train['probability_score'])\n",
    "roc_auc_train = roc_auc_score(pdf_train['target'], pdf_train['probability_score'])\n",
    "\n",
    "# Graficar la curva ROC para el conjunto de entrenamiento\n",
    "plt.figure()\n",
    "plt.plot(fpr_train, tpr_train, color='blue', lw=2, label=f'ROC curve (train) (area = {roc_auc_train:.2f})')\n",
    "plt.plot([0, 1], [0, 1], color='navy', lw=2, linestyle='--')\n",
    "plt.xlim([0.0, 1.0])\n",
    "plt.ylim([0.0, 1.05])\n",
    "plt.xlabel('False Positive Rate')\n",
    "plt.ylabel('True Positive Rate')\n",
    "plt.title('Receiver Operating Characteristic (ROC)')\n",
    "plt.legend(loc='lower right')\n",
    "plt.show()"
   ]
  },
  {
   "cell_type": "markdown",
   "metadata": {
    "application/vnd.databricks.v1+cell": {
     "cellMetadata": {},
     "inputWidgets": {},
     "nuid": "2e9a936b-0020-4c50-8d92-063f7b3bdb70",
     "showTitle": false,
     "title": ""
    }
   },
   "source": [
    "### Evaluación bajo métricas clásicas"
   ]
  },
  {
   "cell_type": "code",
   "execution_count": 0,
   "metadata": {
    "application/vnd.databricks.v1+cell": {
     "cellMetadata": {
      "byteLimit": 2048000,
      "rowLimit": 10000
     },
     "inputWidgets": {},
     "nuid": "f2a7739c-f1dc-423a-b26e-f06d66f817ab",
     "showTitle": false,
     "title": ""
    }
   },
   "outputs": [
    {
     "output_type": "stream",
     "name": "stdout",
     "output_type": "stream",
     "text": [
      "Precision: 0.8343840429929723\nRecall: 0.8894458521537953\nF1 Score: 0.8610355676425105\nROC AUC: 0.9193515540469456\n"
     ]
    }
   ],
   "source": [
    "# DF predictions_train2 debe contener la columna con las etiquetas\n",
    "predictions_train2 = cv_model.transform(train_df2)\n",
    "predictions_train2 = predictions_train2.withColumn('probability_score', extract_prob_udf(predictions_train2['probability']))\n",
    "evaluator = BinaryClassificationEvaluator(labelCol=\"target\", rawPredictionCol=\"probability_score\", metricName=\"areaUnderROC\")\n",
    "roc_auc = evaluator.evaluate(predictions_train2)\n",
    "def extract_prob(v):\n",
    "    if isinstance(v, list) and len(v) > 1:\n",
    "        return float(v[1])\n",
    "    else:\n",
    "        return float(v)\n",
    "\n",
    "extract_prob_udf = udf(extract_prob, DoubleType())\n",
    "predictions = predictions_train2.withColumn(\"probability_score\", extract_prob_udf(col(\"probability_score\")))\n",
    "threshold = 0.5\n",
    "\n",
    "predictions = predictions.withColumn(\n",
    "    \"prediction_binary\",\n",
    "    when(col(\"probability_score\") > threshold, 1).otherwise(0))\n",
    "\n",
    "# Contar Verdaderos Positivos, Verdaderos Negativos, Falsos Positivos, Falsos Negativos\n",
    "tp = predictions.filter((col(\"prediction_binary\") == 1) & (col(\"target\") == 1)).count()\n",
    "tn = predictions.filter((col(\"prediction_binary\") == 0) & (col(\"target\") == 0)).count()\n",
    "fp = predictions.filter((col(\"prediction_binary\") == 1) & (col(\"target\") == 0)).count()\n",
    "fn = predictions.filter((col(\"prediction_binary\") == 0) & (col(\"target\") == 1)).count()\n",
    "\n",
    "# Calcular métricas\n",
    "precision = tp / (tp + fp) if (tp + fp) > 0 else 0\n",
    "recall = tp / (tp + fn) if (tp + fn) > 0 else 0\n",
    "f1_score = 2 * (precision * recall) / (precision + recall) if (precision + recall) > 0 else 0\n",
    "\n",
    "print(f\"Precision: {precision}\")\n",
    "print(f\"Recall: {recall}\")\n",
    "print(f\"F1 Score: {f1_score}\")\n",
    "print(f\"ROC AUC: {roc_auc}\")"
   ]
  },
  {
   "cell_type": "markdown",
   "metadata": {
    "application/vnd.databricks.v1+cell": {
     "cellMetadata": {},
     "inputWidgets": {},
     "nuid": "2e160f56-14b3-4ea9-9386-a06c8dc78ee6",
     "showTitle": false,
     "title": ""
    }
   },
   "source": [
    "### Evaluación bajo la métrica solicitada"
   ]
  },
  {
   "cell_type": "code",
   "execution_count": 0,
   "metadata": {
    "application/vnd.databricks.v1+cell": {
     "cellMetadata": {
      "byteLimit": 2048000,
      "rowLimit": 10000
     },
     "inputWidgets": {},
     "nuid": "ab59df9a-1c04-4d2f-912b-ae9d5649e403",
     "showTitle": false,
     "title": ""
    }
   },
   "outputs": [],
   "source": [
    "# Métrica de evaluación\n",
    "def amex_metric(y_true: pd.DataFrame, y_pred: pd.DataFrame) -> float:\n",
    "\n",
    "    def top_four_percent_captured(y_true: pd.DataFrame, y_pred: pd.DataFrame) -> float:\n",
    "        df = (pd.concat([y_true, y_pred], axis='columns')\n",
    "              .sort_values('prediction', ascending=False))\n",
    "        df['weight'] = df['target'].apply(lambda x: 20 if x==0 else 1)\n",
    "        four_pct_cutoff = int(0.04 * df['weight'].sum())\n",
    "        df['weight_cumsum'] = df['weight'].cumsum()\n",
    "        df_cutoff = df.loc[df['weight_cumsum'] <= four_pct_cutoff]\n",
    "        return (df_cutoff['target'] == 1).sum() / (df['target'] == 1).sum()\n",
    "        \n",
    "    def weighted_gini(y_true: pd.DataFrame, y_pred: pd.DataFrame) -> float:\n",
    "        df = (pd.concat([y_true, y_pred], axis='columns')\n",
    "              .sort_values('prediction', ascending=False))\n",
    "        df['weight'] = df['target'].apply(lambda x: 20 if x==0 else 1)\n",
    "        df['random'] = (df['weight'] / df['weight'].sum()).cumsum()\n",
    "        total_pos = (df['target'] * df['weight']).sum()\n",
    "        df['cum_pos_found'] = (df['target'] * df['weight']).cumsum()\n",
    "        df['lorentz'] = df['cum_pos_found'] / total_pos\n",
    "        df['gini'] = (df['lorentz'] - df['random']) * df['weight']\n",
    "        return df['gini'].sum()\n",
    "\n",
    "    def normalized_weighted_gini(y_true: pd.DataFrame, y_pred: pd.DataFrame) -> float:\n",
    "        y_true_pred = y_true.rename(columns={'target': 'prediction'})\n",
    "        return weighted_gini(y_true, y_pred) / weighted_gini(y_true, y_true_pred)\n",
    "\n",
    "    g = normalized_weighted_gini(y_true, y_pred)\n",
    "    d = top_four_percent_captured(y_true, y_pred)\n",
    "\n",
    "    return 0.5 * (g + d)"
   ]
  },
  {
   "cell_type": "code",
   "execution_count": 0,
   "metadata": {
    "application/vnd.databricks.v1+cell": {
     "cellMetadata": {
      "byteLimit": 2048000,
      "rowLimit": 10000
     },
     "inputWidgets": {},
     "nuid": "fed86a8f-cddd-482a-afc8-99a396808fb3",
     "showTitle": false,
     "title": ""
    }
   },
   "outputs": [
    {
     "output_type": "stream",
     "name": "stdout",
     "output_type": "stream",
     "text": [
      "\nM score: 0.6322197863444251\n"
     ]
    }
   ],
   "source": [
    "from pyspark.sql.functions import udf\n",
    "from pyspark.sql.types import FloatType\n",
    "import pandas as pd\n",
    "\n",
    "# Definir el UDF para extraer la probabilidad de la clase positiva\n",
    "def extract_prob(probability):\n",
    "    return float(probability[1])\n",
    "\n",
    "extract_prob_udf = udf(extract_prob, FloatType())\n",
    "y_true = train_customer_id.select('Customer_ID', 'target')\n",
    "\n",
    "# Aplicar el UDF a la columna 'probability' para obtener 'probability_score'\n",
    "predictions_train2 = cv_model.transform(train_df2)\n",
    "predictions_train2 = predictions_train2.withColumn('probability_score', extract_prob_udf(predictions_train2['probability']))\n",
    "\n",
    "# Seleccionar 'Customer_ID' y 'probability_score'\n",
    "y_pred = predictions_train2.select('Customer_ID', 'probability_score')\n",
    "y_pred = y_pred.withColumnRenamed(\"probability_score\", \"prediction\")\n",
    "\n",
    "# Convertir los DataFrames de PySpark a Pandas\n",
    "y_true_pd = y_true.toPandas()\n",
    "y_pred_pd = y_pred.toPandas()\n",
    "\n",
    "# Calcular y mostrar la métrica\n",
    "print(f'\\nM score: {amex_metric(y_true_pd, y_pred_pd)}')"
   ]
  },
  {
   "cell_type": "code",
   "execution_count": 0,
   "metadata": {
    "application/vnd.databricks.v1+cell": {
     "cellMetadata": {
      "byteLimit": 2048000,
      "rowLimit": 10000
     },
     "inputWidgets": {},
     "nuid": "3bc251e5-c33b-4e96-aa4b-753d8fcfce2d",
     "showTitle": false,
     "title": ""
    }
   },
   "outputs": [],
   "source": [
    "# Guardar las predicciones del conjunto de prueba en un archivo CSV\n",
    "result_test = predictions_test.select('customer_id', 'probability_score')\n",
    "result_test.write.csv(\"dbfs:/tmp/wiki_data/inference.csv\", header=True, mode='overwrite')"
   ]
  }
 ],
 "metadata": {
  "application/vnd.databricks.v1+notebook": {
   "dashboards": [],
   "environmentMetadata": null,
   "language": "python",
   "notebookMetadata": {
    "pythonIndentUnit": 4
   },
   "notebookName": "model_selection",
   "widgets": {}
  }
 },
 "nbformat": 4,
 "nbformat_minor": 0
}
