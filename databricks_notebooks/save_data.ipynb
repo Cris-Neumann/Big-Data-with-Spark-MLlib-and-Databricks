{
 "cells": [
  {
   "cell_type": "code",
   "execution_count": null,
   "metadata": {
    "application/vnd.databricks.v1+cell": {
     "cellMetadata": {
      "byteLimit": 2048000,
      "rowLimit": 10000
     },
     "inputWidgets": {},
     "nuid": "91c20f86-e64f-42d2-b241-7b2d04422d83",
     "showTitle": false,
     "title": ""
    }
   },
   "outputs": [
    {
     "name": "stdout",
     "output_type": "stream",
     "text": [
      "Out[2]: True"
     ]
    }
   ],
   "source": [
    "# Credenciales en Amazon S3.\n",
    "ACCESS_KEY = \"YOUR_ACCESS_KEY\"\n",
    "SECRET_KEY = \"YOUR_SECRET_KEY\"\n",
    "ENCODED_SECRET_KEY = SECRET_KEY.replace(\"/\", \"%2F\")\n",
    "AWS_BUCKET_NAME = \"YOUR_BUCKET_NAME\"\n",
    "\n",
    "# Definir las rutas en S3\n",
    "S3_FILE_PATH_TRAIN = f\"s3a://{ACCESS_KEY}:{ENCODED_SECRET_KEY}@{AWS_BUCKET_NAME}/train_df_final.parquet\"\n",
    "S3_FILE_PATH_TEST = f\"s3a://{ACCESS_KEY}:{ENCODED_SECRET_KEY}@{AWS_BUCKET_NAME}/test_df_final.parquet\"\n",
    "S3_FILE_PATH_PREDICTIONS = f\"s3a://{ACCESS_KEY}:{ENCODED_SECRET_KEY}@{AWS_BUCKET_NAME}/inference.csv\"\n",
    "S3_FILE_PATH_MODEL = f\"s3a://{ACCESS_KEY}:{ENCODED_SECRET_KEY}@{AWS_BUCKET_NAME}/gbt_model\"\n",
    "\n",
    "# Copiar el archivo desde DBFS a S3\n",
    "dbutils.fs.cp(\"dbfs:/tmp/wiki_data/train_df_final.parquet\", S3_FILE_PATH_TRAIN, recurse=True)\n",
    "dbutils.fs.cp(\"dbfs:/tmp/wiki_data/test_df_final.parquet\", S3_FILE_PATH_TEST, recurse=True)\n",
    "dbutils.fs.cp(\"dbfs:/tmp/wiki_data/inference.csv\", S3_FILE_PATH_PREDICTIONS, recurse=True)\n",
    "dbutils.fs.cp(\"dbfs:/tmp/wiki_data/gbt_model\", S3_FILE_PATH_MODEL, recurse=True)"
   ]
  }
 ],
 "metadata": {
  "application/vnd.databricks.v1+notebook": {
   "dashboards": [],
   "environmentMetadata": null,
   "language": "python",
   "notebookMetadata": {
    "pythonIndentUnit": 4
   },
   "notebookName": "save_data",
   "widgets": {}
  },
  "language_info": {
   "name": "python"
  }
 },
 "nbformat": 4,
 "nbformat_minor": 0
}
